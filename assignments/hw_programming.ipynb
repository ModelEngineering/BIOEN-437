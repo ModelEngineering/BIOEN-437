{
 "cells": [
  {
   "cell_type": "markdown",
   "metadata": {},
   "source": [
    "<span style=\"font-family:Papyrus; font-size:3em;\">BIOE 437 Homework</span>\n",
    "\n",
    "<span style=\"font-family:Papyrus; font-size:2em;\">Programming</span>"
   ]
  },
  {
   "cell_type": "markdown",
   "metadata": {},
   "source": [
    "# Questions"
   ]
  },
  {
   "cell_type": "markdown",
   "metadata": {},
   "source": [
    "Radioimmunoassay is used in analytic chemistry to measure small concentrations of atigens with a high affinity antibody.\n",
    "An antigen has one or more *epitope*, and the antibody has one or more *binding site* for epitopes.\n",
    "The procedure was developed in 1960 by two endocrinologists, S. A. Berson and Rosalyn Yalow, to determine levels of insulin–anti-insulin complexes in diabetics. Radioactivly labelled antigen is added in sufficient quantity to saturate the binding sites of\n",
    "a known amount of antibody. Then, a test sample is added with an unknown concentration of antigen. The amount of unlabelled antigen\n",
    "will reduce the binding of labelled antigen. The relationship between the concentration of bound labelled antigen (which can be measured) and the concentration of unlablled antigen is constructed by titrating known amounts of unlabelled antigen.\n",
    "\n",
    "In this assignment, you will build a model of the radioimmunoassay system and construct a curve that relates the steady state concentration of bound labelled antigen to the concentration of unlabelled antigen (bound and unbound).\n",
    "\n",
    "1. Write an antimony model for this network. Assume mass action kinetics.\n",
    "1. Write software that runs the model to calculate steady state labelled bound antigen from initial conditions of unlabelled antigen.\n",
    "1. Write software that constructs a curve that relates initial conditions of unlabelled antigen to steady state bound antigen.\n",
    "1. Questions\n",
    "    1. In the model, does it matter when unlabelled antigen is added?"
   ]
  },
  {
   "cell_type": "markdown",
   "metadata": {},
   "source": [
    "# Programming Preliminaries\n",
    "This section provides the setup to run your python codes along with helpers that you are free to use in your answers."
   ]
  },
  {
   "cell_type": "markdown",
   "metadata": {},
   "source": [
    "## Imports"
   ]
  },
  {
   "cell_type": "code",
   "execution_count": 2,
   "metadata": {},
   "outputs": [],
   "source": [
    "import matplotlib.pyplot as plt\n",
    "import numpy as np\n",
    "import pandas as pd\n",
    "import os\n",
    "import tellurium as te\n",
    "import itertools\n",
    "import tellurium as te"
   ]
  },
  {
   "cell_type": "markdown",
   "metadata": {},
   "source": [
    "# Q1: Antimony Model"
   ]
  },
  {
   "cell_type": "code",
   "execution_count": null,
   "metadata": {},
   "outputs": [],
   "source": [
    "model = \"\"\"\n",
    "Ag1 + Ab -> Ag1_Ab; k1*Ag1*Ab\n",
    "Ag2 + Ab -> Ag2_Ab; k1*Ag2*Ab\n",
    "Ag1_Ab -> Ag1 + Ab; k2*Ag1_Ab\n",
    "Ag2_Ab -> Ag1 + Ab; k2*Ag2_Ab\n",
    "\n",
    "Ag1 = 10\n",
    "Ab = 10\n",
    "Ag2 = 10\n",
    "k1 = 1\n",
    "k2 = 1\n",
    "\"\"\"\n"
   ]
  }
 ],
 "metadata": {
  "kernelspec": {
   "display_name": "Python 3 (ipykernel)",
   "language": "python",
   "name": "python3"
  },
  "language_info": {
   "codemirror_mode": {
    "name": "ipython",
    "version": 3
   },
   "file_extension": ".py",
   "mimetype": "text/x-python",
   "name": "python",
   "nbconvert_exporter": "python",
   "pygments_lexer": "ipython3",
   "version": "3.9.6"
  }
 },
 "nbformat": 4,
 "nbformat_minor": 4
}

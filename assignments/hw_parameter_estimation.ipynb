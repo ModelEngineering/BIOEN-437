{
 "cells": [
  {
   "cell_type": "markdown",
   "metadata": {},
   "source": [
    "# PARAMETER ESTIMATION"
   ]
  },
  {
   "cell_type": "markdown",
   "metadata": {
    "tags": []
   },
   "source": [
    "# Questions"
   ]
  },
  {
   "cell_type": "markdown",
   "metadata": {},
   "source": [
    "In this homework, you will do a parameter estimation for\n",
    "BioModels model 45.\n",
    "\n",
    "\n",
    "1. (20 pts) **Data Generation**. Create synthetic data for the floating species using the values of the parameter in the published model:\n",
    "   1. (10 pts) Create 3 sets of synthetic data for standard deviations of 0.1, 0.2, and 0.5.\n",
    "   1. (10 pts) Plot the three datatsets. What characteristics of the data confirm that these synthetic data\n",
    "   are consistent with your expectations.\n",
    "   \n",
    "1. (60 pts) **Experiment Implementation**. Implement a doFit function\n",
    "\n",
    "   \n",
    "1. (20 pts) **Experiment Execution and Analysis**. Do a 3, 5, and 10 fold cross validation using alternating folds for the 3 datasets. That is, fold 1 has the points 1, 11, 21, ..;\n",
    "fold 2 has the points 2, 12, 22, ...; and so on. \n",
    "   1. (5 pts) Construct heatmaps for the standard deviation of model $R^2$ and the standard deviation of ``beta`` where the horizontal axis is standard deviation of noise in observed data and the vertical axis\n",
    "   is the number of folds.\n",
    "   1. (5 pts) For $R^2$, how is variability affected\n",
    "by the number of folds? How is variability affected by the variability of the training data?\n",
    "   1. (5 pts) For ``beta``, how is variability affected\n",
    "by the number of folds? How is variability affected by the variability of the training data?\n",
    "   1. (5 pts) Based on your answers to the last two questions, how many folds would you use to evaluate model quality and assess the quality of parameter estimates? What's another reason for your choice of the number of folds?\n",
    "   \n",
    "1. (10 pt) **Extra credit.** How would you frame the analysis in (3) using the language of design of experiments.\n",
    "\n",
    "**Please do your homework in a copy of this notebook, maintaining the sections.**"
   ]
  },
  {
   "cell_type": "markdown",
   "metadata": {},
   "source": [
    "# Programming Preliminaries\n",
    "This section provides the setup to run your python codes."
   ]
  },
  {
   "cell_type": "markdown",
   "metadata": {},
   "source": [
    "## Imports"
   ]
  },
  {
   "cell_type": "code",
   "execution_count": 1,
   "metadata": {},
   "outputs": [],
   "source": [
    "import matplotlib.pyplot as plt\n",
    "import numpy as np\n",
    "import pandas as pd\n",
    "import SBstoat\n",
    "import tellurium as te"
   ]
  },
  {
   "cell_type": "markdown",
   "metadata": {},
   "source": [
    "## Constants"
   ]
  },
  {
   "cell_type": "code",
   "execution_count": 2,
   "metadata": {},
   "outputs": [],
   "source": [
    "ENDTIME = 60\n",
    "NUMPOINT = 1200\n",
    "STDS = [0.1, 0.2, 0.5]"
   ]
  },
  {
   "cell_type": "markdown",
   "metadata": {},
   "source": [
    "## BioModels 45"
   ]
  },
  {
   "cell_type": "code",
   "execution_count": 3,
   "metadata": {},
   "outputs": [
    {
     "name": "stdout",
     "output_type": "stream",
     "text": [
      "// Created by libAntimony v2.13.2\n",
      "model *Goldbeter_Calcium_Oscillation_based_onCICR_AND_two_pool_model()\n",
      "\n",
      "  // Compartments and Species:\n",
      "  compartment extracellular, cytosol, intravesicular1, intravesicular2;\n",
      "  species EC in extracellular, Z in cytosol, Y in intravesicular2, X in intravesicular1;\n",
      "\n",
      "  // Reactions:\n",
      "  vin: EC => Z; cytosol*(vin_v0 + vin_v1*beta);\n",
      "  v2i: Z => Y; intravesicular2*v2i_Vm2i*Z^2/(v2i_K2i^2 + Z^2);\n",
      "  v3i: Y => Z; cytosol*v3i_Vm3i*Y^2*Z^2/((v3i_K3y^2 + Y^2)*(v3i_K3z^2 + Z^2));\n",
      "  v4: Y => Z; cytosol*v4_Kf*Y;\n",
      "  v5: Z => EC; extracellular*v5_K*Z;\n",
      "  v6: X => Z; cytosol*v6_Kf*X;\n",
      "  v2s: Z => X; intravesicular1*v2s_Vm2s*Z^2/(v2s_K2s^2 + Z^2);\n",
      "  v3s: X => Z; cytosol*beta*v3s_Vm3s*X^2/(v3s_K3s^2 + X^2);\n",
      "\n",
      "  // Species initializations:\n",
      "  EC = 0;\n",
      "  Z = 0;\n",
      "  Y = 0;\n",
      "  X = 0.5;\n",
      "\n",
      "  // Compartment initializations:\n",
      "  extracellular = 1;\n",
      "  cytosol = 1;\n",
      "  intravesicular1 = 1;\n",
      "  intravesicular2 = 1;\n",
      "\n",
      "  // Variable initializations:\n",
      "  beta = 1;\n",
      "  vin_v0 = 0.015;\n",
      "  vin_v1 = 0.012;\n",
      "  v2i_Vm2i = 3.1;\n",
      "  v2i_K2i = 0.005;\n",
      "  v3i_Vm3i = 25;\n",
      "  v3i_K3y = 0.065;\n",
      "  v3i_K3z = 0.022;\n",
      "  v4_Kf = 0.5;\n",
      "  v5_K = 1;\n",
      "  v6_Kf = 0.5;\n",
      "  v2s_Vm2s = 1.5;\n",
      "  v2s_K2s = 0.0265;\n",
      "  v3s_Vm3s = 0.169;\n",
      "  v3s_K3s = 0.1;\n",
      "\n",
      "  // Other declarations:\n",
      "  const extracellular, cytosol, intravesicular1, intravesicular2, beta;\n",
      "\n",
      "  // Unit definitions:\n",
      "  unit substance = 1e-6 mole;\n",
      "  unit time_unit = 60 second;\n",
      "\n",
      "  // Display Names:\n",
      "  substance is \"micromole (default)\";\n",
      "  time_unit is \"minute (default)\";\n",
      "\n",
      "  // CV terms:\n",
      "  extracellular hypernym \"http://identifiers.org/obo.go/GO:0005615\"\n",
      "  cytosol hypernym \"http://identifiers.org/obo.go/GO:0005829\"\n",
      "  intravesicular1 hypernym \"http://identifiers.org/obo.go/GO:0005790\"\n",
      "  EC identity \"http://identifiers.org/chebi/CHEBI:29108\",\n",
      "              \"http://identifiers.org/kegg.compound/C00076\"\n",
      "  Z identity \"http://identifiers.org/chebi/CHEBI:29108\",\n",
      "             \"http://identifiers.org/kegg.compound/C00076\"\n",
      "  Y identity \"http://identifiers.org/chebi/CHEBI:29108\",\n",
      "             \"http://identifiers.org/kegg.compound/C00076\"\n",
      "  X identity \"http://identifiers.org/chebi/CHEBI:29108\",\n",
      "             \"http://identifiers.org/kegg.compound/C00076\"\n",
      "  vin hypernym \"http://identifiers.org/obo.go/GO:0006816\",\n",
      "               \"http://identifiers.org/obo.go/GO:0007204\"\n",
      "  v2i hypernym \"http://identifiers.org/obo.go/GO:0051481\",\n",
      "               \"http://identifiers.org/obo.go/GO:0006816\"\n",
      "  v3i hypernym \"http://identifiers.org/obo.go/GO:0005219\",\n",
      "               \"http://identifiers.org/obo.go/GO:0006816\",\n",
      "               \"http://identifiers.org/obo.go/GO:0007204\"\n",
      "  v4 hypernym \"http://identifiers.org/obo.go/GO:0006816\",\n",
      "              \"http://identifiers.org/obo.go/GO:0007204\"\n",
      "  v5 hypernym \"http://identifiers.org/obo.go/GO:0051481\",\n",
      "              \"http://identifiers.org/obo.go/GO:0006816\"\n",
      "  v6 hypernym \"http://identifiers.org/obo.go/GO:0006816\",\n",
      "              \"http://identifiers.org/obo.go/GO:0007204\"\n",
      "  v2s hypernym \"http://identifiers.org/obo.go/GO:0006816\",\n",
      "               \"http://identifiers.org/obo.go/GO:0051481\"\n",
      "  v3s hypernym \"http://identifiers.org/obo.go/GO:0006816\",\n",
      "               \"http://identifiers.org/obo.go/GO:0051482\"\n",
      "end\n",
      "\n",
      "Goldbeter_Calcium_Oscillation_based_onCICR_AND_two_pool_model is \"Borghans1997 - Calcium Oscillation - Model 3\"\n",
      "\n",
      "Goldbeter_Calcium_Oscillation_based_onCICR_AND_two_pool_model model_entity_is \"http://identifiers.org/biomodels.db/MODEL6623009547\"\n",
      "Goldbeter_Calcium_Oscillation_based_onCICR_AND_two_pool_model model_entity_is \"http://identifiers.org/biomodels.db/BIOMD0000000045\"\n",
      "Goldbeter_Calcium_Oscillation_based_onCICR_AND_two_pool_model description \"http://identifiers.org/pubmed/17029867\"\n",
      "Goldbeter_Calcium_Oscillation_based_onCICR_AND_two_pool_model hypernym \"http://identifiers.org/obo.go/GO:0048016\",\n",
      "                                                                       \"http://identifiers.org/obo.go/GO:0019722\"\n",
      "Goldbeter_Calcium_Oscillation_based_onCICR_AND_two_pool_model taxon \"http://identifiers.org/taxonomy/10114\"\n",
      "Goldbeter_Calcium_Oscillation_based_onCICR_AND_two_pool_model identity \"http://identifiers.org/kegg.pathway/rno04020\"\n",
      "\n"
     ]
    }
   ],
   "source": [
    "MODEL_RR = te.loadSBMLModel(\"https://www.ebi.ac.uk/biomodels/model/download/BIOMD0000000045.2?filename=BIOMD0000000045_url.xml\")\n",
    "MODEL_ARR = MODEL_RR.simulate()\n",
    "MODEL_ANT = MODEL_RR.getAntimony()\n",
    "print(MODEL_ANT)"
   ]
  },
  {
   "cell_type": "markdown",
   "metadata": {
    "tags": []
   },
   "source": [
    "## Helper Functions"
   ]
  },
  {
   "cell_type": "code",
   "execution_count": 4,
   "metadata": {},
   "outputs": [
    {
     "name": "stdout",
     "output_type": "stream",
     "text": [
      "OK!\n"
     ]
    }
   ],
   "source": [
    "def arrToDF(arr):\n",
    "    \"\"\"\n",
    "    Converts a NamedArray into a DataFrame.\n",
    "    If it is simulation output, makes TIME the index.\n",
    "\n",
    "    Parameters\n",
    "    ----------\n",
    "    arr: NamedArray\n",
    "    \n",
    "    Returns\n",
    "    -------\n",
    "    DataFrame\n",
    "        Removes \"[\" , \"]\" from the names of species\n",
    "    \"\"\"\n",
    "    columns = [c[1:-1] if c[0] == \"[\" else c for c in arr.colnames]\n",
    "    df = pd.DataFrame(arr, columns=columns)\n",
    "    df = df.set_index(\"time\")\n",
    "    return df\n",
    "\n",
    "# Tests\n",
    "assert(isinstance(arrToDF(MODEL_ARR), pd.DataFrame))\n",
    "print(\"OK!\")"
   ]
  },
  {
   "cell_type": "code",
   "execution_count": 5,
   "metadata": {},
   "outputs": [],
   "source": [
    "MODEL_DF = arrToDF(MODEL_ARR)"
   ]
  },
  {
   "cell_type": "code",
   "execution_count": 6,
   "metadata": {},
   "outputs": [
    {
     "ename": "NameError",
     "evalue": "name 'makeSyntheticData' is not defined",
     "output_type": "error",
     "traceback": [
      "\u001b[0;31m---------------------------------------------------------------------------\u001b[0m",
      "\u001b[0;31mNameError\u001b[0m                                 Traceback (most recent call last)",
      "\u001b[0;32m<ipython-input-6-2a2412bd3a7a>\u001b[0m in \u001b[0;36m<module>\u001b[0;34m\u001b[0m\n\u001b[1;32m     41\u001b[0m \u001b[0;34m\u001b[0m\u001b[0m\n\u001b[1;32m     42\u001b[0m \u001b[0;31m# Tests\u001b[0m\u001b[0;34m\u001b[0m\u001b[0;34m\u001b[0m\u001b[0;34m\u001b[0m\u001b[0m\n\u001b[0;32m---> 43\u001b[0;31m \u001b[0mobservedDF\u001b[0m \u001b[0;34m=\u001b[0m \u001b[0mmakeSyntheticData\u001b[0m\u001b[0;34m(\u001b[0m\u001b[0mMODEL_DF\u001b[0m\u001b[0;34m,\u001b[0m \u001b[0;36m0\u001b[0m\u001b[0;34m)\u001b[0m\u001b[0;34m\u001b[0m\u001b[0;34m\u001b[0m\u001b[0m\n\u001b[0m\u001b[1;32m     44\u001b[0m \u001b[0mobservedDF\u001b[0m \u001b[0;34m=\u001b[0m \u001b[0mobservedDF\u001b[0m\u001b[0;34m[\u001b[0m\u001b[0mobservedDF\u001b[0m\u001b[0;34m.\u001b[0m\u001b[0mindex\u001b[0m \u001b[0;34m<\u001b[0m \u001b[0;36m5\u001b[0m\u001b[0;34m]\u001b[0m\u001b[0;34m\u001b[0m\u001b[0;34m\u001b[0m\u001b[0m\n\u001b[1;32m     45\u001b[0m \u001b[0mparameterDct\u001b[0m\u001b[0;34m,\u001b[0m \u001b[0mfittedDF\u001b[0m \u001b[0;34m=\u001b[0m \u001b[0mfitModel\u001b[0m\u001b[0;34m(\u001b[0m\u001b[0mMODEL_ANT\u001b[0m\u001b[0;34m,\u001b[0m \u001b[0mobservedDF\u001b[0m\u001b[0;34m,\u001b[0m \u001b[0;34m[\u001b[0m\u001b[0;34m\"beta\"\u001b[0m\u001b[0;34m]\u001b[0m\u001b[0;34m,\u001b[0m \u001b[0;34m[\u001b[0m\u001b[0;36m10\u001b[0m\u001b[0;34m,\u001b[0m \u001b[0;36m20\u001b[0m\u001b[0;34m]\u001b[0m\u001b[0;34m)\u001b[0m\u001b[0;34m\u001b[0m\u001b[0;34m\u001b[0m\u001b[0m\n",
      "\u001b[0;31mNameError\u001b[0m: name 'makeSyntheticData' is not defined"
     ]
    }
   ],
   "source": [
    "def fitModel(model, observedDF, parameterNames, testIdxs):\n",
    "    \"\"\"\n",
    "    Fits the model parameters to the observed data.\n",
    "    \n",
    "    Parameters\n",
    "    ----------\n",
    "    model: str\n",
    "        Antimony model or roadrunner\n",
    "    observedDF: DataFrame\n",
    "        Index: time\n",
    "        Columns: floating species\n",
    "    parameterNames: list-str\n",
    "    testIdxs: list-int\n",
    "        Indices in data that should be ignored in fitting since\n",
    "        they will be used to evaluate test data\n",
    "    \n",
    "    Returns\n",
    "    -------\n",
    "    parameterDct\n",
    "        key: parameterName\n",
    "        value: parameterEstimate\n",
    "    DataFrame - fitted values\n",
    "        key: time\n",
    "        columns: floating species     \n",
    "    \"\"\"\n",
    "    indexArr = np.array(observedDF.index)\n",
    "    endTime = max(observedDF.index)\n",
    "    testIndices = indexArr[testIdxs]  # Elements in index that are test data\n",
    "    newObservedDF = observedDF.copy()\n",
    "    newObservedDF.loc[testIndices, :] = np.nan\n",
    "    newObservedDF.index.name = C_TIME\n",
    "    observedTS = SBstoat.NamedTimeseries(dataframe=newObservedDF)\n",
    "    fitter = SBstoat.ModelFitter(model, observedTS,\n",
    "                          parameterNames,\n",
    "                          endTime=endTime,\n",
    "                          numPoint=len(observedDF))\n",
    "    fitter.fitModel()\n",
    "    parameterDct = dict(fitter.params.valuesdict())\n",
    "    #\n",
    "    return parameterDct, fitter.fittedTS.to_dataframe()\n",
    "\n",
    "# Tests\n",
    "observedDF = makeSyntheticData(MODEL_DF, 0)\n",
    "observedDF = observedDF[observedDF.index < 5]\n",
    "parameterDct, fittedDF = fitModel(MODEL_ANT, observedDF, [\"beta\"], [10, 20])\n",
    "assert(len(parameterDct) == 1)\n",
    "assert(np.abs(parameterDct[\"beta\"] - 1) < 0.001)\n",
    "assert(len(observedDF) == len(fittedDF))\n",
    "print(\"OK!\")"
   ]
  },
  {
   "cell_type": "markdown",
   "metadata": {},
   "source": [
    "# Question 1: Data Generation"
   ]
  },
  {
   "cell_type": "code",
   "execution_count": 19,
   "metadata": {},
   "outputs": [
    {
     "name": "stdout",
     "output_type": "stream",
     "text": [
      "OK!\n"
     ]
    }
   ],
   "source": [
    "def generateNoise(std, roadrunner=MODEL_RR, is_plot=True):\n",
    "    \"\"\"\n",
    "    Generates noise columns in a dataframe.\n",
    "    \n",
    "    Parameters\n",
    "    ----------\n",
    "    std: float (standard deviation of generated noise)\n",
    "    roadrunner: ExtendedRoadrunner\n",
    "    is_plot: bool (plot the noise)\n",
    "    \"\"\"\n",
    "    data = MODEL_RR.simulate()\n",
    "    df = arrToDF(data)\n",
    "    normalization_ser = df.mean()\n",
    "    # Use the input DataFrame as a template\n",
    "    noise_df = df.copy()\n",
    "    # Create the noise data\n",
    "    for column in noise_df.columns:\n",
    "        noise_arr = np.random.normal(0, std, len(noise_df))\n",
    "        noise_df[column] = normalization_ser.loc[column]*noise_arr \n",
    "    if is_plot:\n",
    "        _, ax = plt.subplots(1)\n",
    "        for column in noise_df.columns:\n",
    "            ax.scatter(noise_df.index, noise_df[column])\n",
    "        plt.legend(noise_df.columns)\n",
    "        plt.title(\"Generated Noise. Std=%2.2f\" % std)\n",
    "    return noise_df\n",
    "                  \n",
    "# Tests\n",
    "df = generateNoise(0.5, is_plot=False)\n",
    "assert(isinstance(df, pd.DataFrame))\n",
    "print(\"OK!\")"
   ]
  },
  {
   "cell_type": "code",
   "execution_count": 20,
   "metadata": {},
   "outputs": [
    {
     "data": {
      "image/png": "[encoded data removed]",
      "text/plain": [
       "<Figure size 432x288 with 1 Axes>"
      ]
     },
     "metadata": {
      "needs_background": "light"
     },
     "output_type": "display_data"
    },
    {
     "data": {
      "image/png": "[encoded data removed]",
      "text/plain": [
       "<Figure size 432x288 with 1 Axes>"
      ]
     },
     "metadata": {
      "needs_background": "light"
     },
     "output_type": "display_data"
    },
    {
     "data": {
      "image/png": "[encoded data removed]",
      "text/plain": [
       "<Figure size 432x288 with 1 Axes>"
      ]
     },
     "metadata": {
      "needs_background": "light"
     },
     "output_type": "display_data"
    }
   ],
   "source": [
    "for std in STDS:\n",
    "    generateNoise(std)"
   ]
  },
  {
   "cell_type": "markdown",
   "metadata": {},
   "source": [
    "# Question 2: Experiment Implementation"
   ]
  },
  {
   "cell_type": "markdown",
   "metadata": {},
   "source": [
    "# Question 3: Experiment Execution and Analysis"
   ]
  }
 ],
 "metadata": {
  "kernelspec": {
   "display_name": "Python 3",
   "language": "python",
   "name": "python3"
  },
  "language_info": {
   "codemirror_mode": {
    "name": "ipython",
    "version": 3
   },
   "file_extension": ".py",
   "mimetype": "text/x-python",
   "name": "python",
   "nbconvert_exporter": "python",
   "pygments_lexer": "ipython3",
   "version": "3.6.9"
  },
  "toc-autonumbering": true
 },
 "nbformat": 4,
 "nbformat_minor": 4
}

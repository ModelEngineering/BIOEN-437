{
 "cells": [
  {
   "cell_type": "markdown",
   "metadata": {},
   "source": [
    "# MIDTERM: PARAMETER ESTIMATION"
   ]
  },
  {
   "cell_type": "markdown",
   "metadata": {
    "tags": []
   },
   "source": [
    "# Questions"
   ]
  },
  {
   "cell_type": "markdown",
   "metadata": {},
   "source": [
    "In this homework, you will do a parameter estimation for\n",
    "BioModels model 45.\n",
    "\n",
    "1. (10 pts) **Acquire the Model**. Create a roadrunner instance of the model and print the antimony representation of the model in an output cell.\n",
    "\n",
    "1. (20 pts) **Data Generation**. Create synthetic data for the floating species using the values of the parameter in the published model:\n",
    "   1. (10 pts) Create 3 sets of synthetic data for standard deviations of 0.1, 0.2, and 0.5.\n",
    "   1. (10 pts) Plot the three datatsets. What characteristics of the data confirm that these synthetic data\n",
    "   are consistent with your expectations.\n",
    "   \n",
    "1. (40 pts) **Experiment Infrastructure**. Implement the following functions:\n",
    "\n",
    "    1. ``generateNoisyData``: Creates noisy versions of the simulation floating species. Inputs are antimony model and stadard deviation of noise; outputs are SBstoat.NamedTimeseries.\n",
    "    1. ``doFit``: Encapsulates the fitting and evaluation workflow. Inputs are: antimony model, standard deviation of noise, the fitting method, and fractions of the true value for: lower end of parameter search, starting value of parameter search, and upper end of parameter search; Outputs are: residual sum of squares of the fit and the number of function evaluations (see ``getFitInfo`` in Helper Functions).\n",
    "    **Don't forget to document your functions and include tests. All tests must have at least one ``assert``**\n",
    "\n",
    "   \n",
    "1. (30 pts) **Experiments and Analysis**.\n",
    "Use the experiment infrastructure to determine of effects of: standard deviation of noise,\n",
    "search range, and search algorithm. You want to understand the impact on accuracy of parameter estimates and the time to do the parameter estimation. We will quantify accuracy in terms of residual sum of square, and time is in units of function evaluations.\n",
    "\n",
    "    A. (20 pts) Plot the results. All experiments should set the starting value of the search\n",
    "to the lower end of the range.\n",
    "        1. Use the standard deviations of noise: 0.1, 0.2, 0.5\n",
    "        1. Use the search ranges lower_frc, upper_frc = (0.5, 2.0) and (0.25, 4.0)\n",
    "        1. Use the search algorithms ``leastsquares`` and ``differential_evolution``\n",
    "   \n",
    "   Construct plots as follows:\n",
    "   \n",
    "        1. x-axis: number of function evaluations\n",
    "        2. y-axis: residual sum of squares\n",
    "        3. Separate lines for each standard deviation\n",
    "    You will have 4 such plots.\n",
    "    \n",
    "   B. (10 pts) Explain the results.\n",
    "\n",
    "**Please do your homework in a copy of this notebook, maintaining the sections.**"
   ]
  },
  {
   "cell_type": "markdown",
   "metadata": {},
   "source": [
    "# Programming Preliminaries\n",
    "This section provides the setup to run your python codes."
   ]
  },
  {
   "cell_type": "markdown",
   "metadata": {},
   "source": [
    "## Imports"
   ]
  },
  {
   "cell_type": "code",
   "execution_count": 1,
   "metadata": {},
   "outputs": [],
   "source": [
    "import matplotlib.pyplot as plt\n",
    "import numpy as np\n",
    "import pandas as pd\n",
    "import SBstoat\n",
    "import tellurium as te"
   ]
  },
  {
   "cell_type": "markdown",
   "metadata": {},
   "source": [
    "## Constants"
   ]
  },
  {
   "cell_type": "code",
   "execution_count": 2,
   "metadata": {},
   "outputs": [],
   "source": [
    "ENDTIME = 60\n",
    "NUMPOINT = 1200\n",
    "STDS = [0.1, 0.2, 0.5]"
   ]
  },
  {
   "cell_type": "markdown",
   "metadata": {
    "tags": []
   },
   "source": [
    "# Helper Functions"
   ]
  },
  {
   "cell_type": "code",
   "execution_count": 3,
   "metadata": {},
   "outputs": [],
   "source": [
    "TEST_MODEL = \"\"\"\n",
    "A->B; A\n",
    "B->; k*B; \n",
    "A = 10; \n",
    "B=0\n",
    "k = 2\n",
    "\"\"\"\n",
    "TEST_MODEL_RR = te.loada(TEST_MODEL)\n",
    "TEST_MODEL_ARR = TEST_MODEL_RR.simulate()\n",
    "TEST_MODEL_TS = SBstoat.NamedTimeseries(array=TEST_MODEL_ARR, colnames=TEST_MODEL_ARR.colnames)"
   ]
  },
  {
   "cell_type": "code",
   "execution_count": 4,
   "metadata": {},
   "outputs": [
    {
     "name": "stdout",
     "output_type": "stream",
     "text": [
      "OK!\n"
     ]
    }
   ],
   "source": [
    "def arrToDF(arr):\n",
    "    \"\"\"\n",
    "    Converts a NamedArray into a DataFrame.\n",
    "    If it is simulation output, makes TIME the index.\n",
    "\n",
    "    Parameters\n",
    "    ----------\n",
    "    arr: NamedArray\n",
    "    \n",
    "    Returns\n",
    "    -------\n",
    "    DataFrame\n",
    "        Removes \"[\" , \"]\" from the names of species\n",
    "    \"\"\"\n",
    "    columns = [c[1:-1] if c[0] == \"[\" else c for c in arr.colnames]\n",
    "    df = pd.DataFrame(arr, columns=columns)\n",
    "    df = df.set_index(\"time\")\n",
    "    return df\n",
    "\n",
    "# Tests\n",
    "assert(isinstance(arrToDF(TEST_MODEL_ARR), pd.DataFrame))\n",
    "print(\"OK!\")"
   ]
  },
  {
   "cell_type": "code",
   "execution_count": 5,
   "metadata": {},
   "outputs": [
    {
     "name": "stdout",
     "output_type": "stream",
     "text": [
      "OK!\n"
     ]
    }
   ],
   "source": [
    "def getFitInfo(fitter):\n",
    "    \"\"\"\n",
    "    Calculates the residuals sum of squares of a fitted model and the number of function evaluations.\n",
    "    \n",
    "    Parameters\n",
    "    ----------\n",
    "    fitter: SBstoat.ModelFitter\n",
    "    \n",
    "    Returns\n",
    "    -------\n",
    "    float (sum of squares of the residuals of the fit)\n",
    "    \"\"\"\n",
    "    df = (fitter.residualsTS.to_dataframe()**2)\n",
    "    rssq = df.sum().sum()\n",
    "    # Find the number of function evaluations\n",
    "    report_stg = fitter.reportFit()\n",
    "    pos = report_stg.index(\"function evals\")\n",
    "    stg = report_stg[pos:]\n",
    "    start_pos = stg.index(\"=\") + 1\n",
    "    end_pos = stg.index(\"\\n\")\n",
    "    num_eval = int(stg[start_pos:end_pos])\n",
    "    #\n",
    "    return rssq, num_eval\n",
    "    \n",
    "\n",
    "# Tests\n",
    "fitter = SBstoat.ModelFitter(TEST_MODEL, TEST_MODEL_TS, parametersToFit=[SBstoat.Parameter(\"k\", lower=1, value=1, upper=4)])\n",
    "fitter.fitModel()\n",
    "rssq, num_eval = getFitInfo(fitter)\n",
    "assert(np.isclose(rssq, 0))\n",
    "assert(num_eval < 10)\n",
    "print(\"OK!\")"
   ]
  },
  {
   "cell_type": "markdown",
   "metadata": {},
   "source": [
    "# Question 1: Acquire the model"
   ]
  },
  {
   "cell_type": "code",
   "execution_count": 6,
   "metadata": {},
   "outputs": [
    {
     "name": "stdout",
     "output_type": "stream",
     "text": [
      "// Created by libAntimony v2.13.2\n",
      "model *Goldbeter_Calcium_Oscillation_based_onCICR_AND_two_pool_model()\n",
      "\n",
      "  // Compartments and Species:\n",
      "  compartment extracellular, cytosol, intravesicular1, intravesicular2;\n",
      "  species EC in extracellular, Z in cytosol, Y in intravesicular2, X in intravesicular1;\n",
      "\n",
      "  // Reactions:\n",
      "  vin: EC => Z; cytosol*(vin_v0 + vin_v1*beta);\n",
      "  v2i: Z => Y; intravesicular2*v2i_Vm2i*Z^2/(v2i_K2i^2 + Z^2);\n",
      "  v3i: Y => Z; cytosol*v3i_Vm3i*Y^2*Z^2/((v3i_K3y^2 + Y^2)*(v3i_K3z^2 + Z^2));\n",
      "  v4: Y => Z; cytosol*v4_Kf*Y;\n",
      "  v5: Z => EC; extracellular*v5_K*Z;\n",
      "  v6: X => Z; cytosol*v6_Kf*X;\n",
      "  v2s: Z => X; intravesicular1*v2s_Vm2s*Z^2/(v2s_K2s^2 + Z^2);\n",
      "  v3s: X => Z; cytosol*beta*v3s_Vm3s*X^2/(v3s_K3s^2 + X^2);\n",
      "\n",
      "  // Species initializations:\n",
      "  EC = 0;\n",
      "  Z = 0;\n",
      "  Y = 0;\n",
      "  X = 0.5;\n",
      "\n",
      "  // Compartment initializations:\n",
      "  extracellular = 1;\n",
      "  cytosol = 1;\n",
      "  intravesicular1 = 1;\n",
      "  intravesicular2 = 1;\n",
      "\n",
      "  // Variable initializations:\n",
      "  beta = 1;\n",
      "  vin_v0 = 0.015;\n",
      "  vin_v1 = 0.012;\n",
      "  v2i_Vm2i = 3.1;\n",
      "  v2i_K2i = 0.005;\n",
      "  v3i_Vm3i = 25;\n",
      "  v3i_K3y = 0.065;\n",
      "  v3i_K3z = 0.022;\n",
      "  v4_Kf = 0.5;\n",
      "  v5_K = 1;\n",
      "  v6_Kf = 0.5;\n",
      "  v2s_Vm2s = 1.5;\n",
      "  v2s_K2s = 0.0265;\n",
      "  v3s_Vm3s = 0.169;\n",
      "  v3s_K3s = 0.1;\n",
      "\n",
      "  // Other declarations:\n",
      "  const extracellular, cytosol, intravesicular1, intravesicular2, beta;\n",
      "\n",
      "  // Unit definitions:\n",
      "  unit substance = 1e-6 mole;\n",
      "  unit time_unit = 60 second;\n",
      "\n",
      "  // Display Names:\n",
      "  substance is \"micromole (default)\";\n",
      "  time_unit is \"minute (default)\";\n",
      "\n",
      "  // CV terms:\n",
      "  extracellular hypernym \"http://identifiers.org/obo.go/GO:0005615\"\n",
      "  cytosol hypernym \"http://identifiers.org/obo.go/GO:0005829\"\n",
      "  intravesicular1 hypernym \"http://identifiers.org/obo.go/GO:0005790\"\n",
      "  EC identity \"http://identifiers.org/chebi/CHEBI:29108\",\n",
      "              \"http://identifiers.org/kegg.compound/C00076\"\n",
      "  Z identity \"http://identifiers.org/chebi/CHEBI:29108\",\n",
      "             \"http://identifiers.org/kegg.compound/C00076\"\n",
      "  Y identity \"http://identifiers.org/chebi/CHEBI:29108\",\n",
      "             \"http://identifiers.org/kegg.compound/C00076\"\n",
      "  X identity \"http://identifiers.org/chebi/CHEBI:29108\",\n",
      "             \"http://identifiers.org/kegg.compound/C00076\"\n",
      "  vin hypernym \"http://identifiers.org/obo.go/GO:0006816\",\n",
      "               \"http://identifiers.org/obo.go/GO:0007204\"\n",
      "  v2i hypernym \"http://identifiers.org/obo.go/GO:0051481\",\n",
      "               \"http://identifiers.org/obo.go/GO:0006816\"\n",
      "  v3i hypernym \"http://identifiers.org/obo.go/GO:0005219\",\n",
      "               \"http://identifiers.org/obo.go/GO:0006816\",\n",
      "               \"http://identifiers.org/obo.go/GO:0007204\"\n",
      "  v4 hypernym \"http://identifiers.org/obo.go/GO:0006816\",\n",
      "              \"http://identifiers.org/obo.go/GO:0007204\"\n",
      "  v5 hypernym \"http://identifiers.org/obo.go/GO:0051481\",\n",
      "              \"http://identifiers.org/obo.go/GO:0006816\"\n",
      "  v6 hypernym \"http://identifiers.org/obo.go/GO:0006816\",\n",
      "              \"http://identifiers.org/obo.go/GO:0007204\"\n",
      "  v2s hypernym \"http://identifiers.org/obo.go/GO:0006816\",\n",
      "               \"http://identifiers.org/obo.go/GO:0051481\"\n",
      "  v3s hypernym \"http://identifiers.org/obo.go/GO:0006816\",\n",
      "               \"http://identifiers.org/obo.go/GO:0051482\"\n",
      "end\n",
      "\n",
      "Goldbeter_Calcium_Oscillation_based_onCICR_AND_two_pool_model is \"Borghans1997 - Calcium Oscillation - Model 3\"\n",
      "\n",
      "Goldbeter_Calcium_Oscillation_based_onCICR_AND_two_pool_model model_entity_is \"http://identifiers.org/biomodels.db/MODEL6623009547\"\n",
      "Goldbeter_Calcium_Oscillation_based_onCICR_AND_two_pool_model model_entity_is \"http://identifiers.org/biomodels.db/BIOMD0000000045\"\n",
      "Goldbeter_Calcium_Oscillation_based_onCICR_AND_two_pool_model description \"http://identifiers.org/pubmed/17029867\"\n",
      "Goldbeter_Calcium_Oscillation_based_onCICR_AND_two_pool_model hypernym \"http://identifiers.org/obo.go/GO:0048016\",\n",
      "                                                                       \"http://identifiers.org/obo.go/GO:0019722\"\n",
      "Goldbeter_Calcium_Oscillation_based_onCICR_AND_two_pool_model taxon \"http://identifiers.org/taxonomy/10114\"\n",
      "Goldbeter_Calcium_Oscillation_based_onCICR_AND_two_pool_model identity \"http://identifiers.org/kegg.pathway/rno04020\"\n",
      "\n"
     ]
    }
   ],
   "source": [
    "MODEL_RR = te.loadSBMLModel(\"https://www.ebi.ac.uk/biomodels/model/download/BIOMD0000000045.2?filename=BIOMD0000000045_url.xml\")\n",
    "MODEL_ARR = MODEL_RR.simulate()\n",
    "MODEL_ANT = MODEL_RR.getAntimony()\n",
    "print(MODEL_ANT)"
   ]
  },
  {
   "cell_type": "markdown",
   "metadata": {},
   "source": [
    "# Question 2: Data Generation"
   ]
  },
  {
   "cell_type": "code",
   "execution_count": 7,
   "metadata": {},
   "outputs": [
    {
     "name": "stdout",
     "output_type": "stream",
     "text": [
      "OK!\n"
     ]
    }
   ],
   "source": [
    "def generateNoisyData(std, model=MODEL_ANT, is_plot=True):\n",
    "    \"\"\"\n",
    "    Generates noise columns in a dataframe.\n",
    "    \n",
    "    Parameters\n",
    "    ----------\n",
    "    std: float (standard deviation of generated noise)\n",
    "    model: str (antimony model)\n",
    "    is_plot: bool (plot the noise)\n",
    "    \n",
    "    Returns\n",
    "    -------\n",
    "    NamedTimeseries\n",
    "    \"\"\"\n",
    "    rr = te.loada(model)\n",
    "    data = rr.simulate()\n",
    "    df = arrToDF(data)\n",
    "    normalization_ser = df.mean()\n",
    "    # Use the input DataFrame as a template\n",
    "    noise_df = df.copy()\n",
    "    # Create the noise data\n",
    "    for column in noise_df.columns:\n",
    "        noise_arr = np.random.normal(0, std, len(noise_df))\n",
    "        noise_df[column] = normalization_ser.loc[column]*noise_arr \n",
    "    if is_plot:\n",
    "        _, ax = plt.subplots(1)\n",
    "        for column in noise_df.columns:\n",
    "            ax.scatter(noise_df.index, noise_df[column])\n",
    "        plt.legend(noise_df.columns)\n",
    "        plt.title(\"Generated Noise. Std=%2.2f\" % std)\n",
    "    data_df = df + noise_df\n",
    "    return SBstoat.NamedTimeseries(dataframe=data_df)\n",
    "                  \n",
    "# Tests\n",
    "df = generateNoisyData(0.5, is_plot=False)\n",
    "assert(isinstance(df, SBstoat.NamedTimeseries))\n",
    "print(\"OK!\")"
   ]
  },
  {
   "cell_type": "code",
   "execution_count": 8,
   "metadata": {},
   "outputs": [
    {
     "data": {
      "image/png": "[encoded data removed]",
      "text/plain": [
       "<Figure size 432x288 with 1 Axes>"
      ]
     },
     "metadata": {
      "needs_background": "light"
     },
     "output_type": "display_data"
    },
    {
     "data": {
      "image/png": "[encoded data removed]",
      "text/plain": [
       "<Figure size 432x288 with 1 Axes>"
      ]
     },
     "metadata": {
      "needs_background": "light"
     },
     "output_type": "display_data"
    },
    {
     "data": {
      "image/png": "[encoded data removed]",
      "text/plain": [
       "<Figure size 432x288 with 1 Axes>"
      ]
     },
     "metadata": {
      "needs_background": "light"
     },
     "output_type": "display_data"
    }
   ],
   "source": [
    "DATA_DCT = {}\n",
    "for std in STDS:\n",
    "    DATA_DCT[std] = generateNoisyData(std)"
   ]
  },
  {
   "cell_type": "markdown",
   "metadata": {},
   "source": [
    "# Question 3: Experiment Infrastructure"
   ]
  },
  {
   "cell_type": "code",
   "execution_count": 9,
   "metadata": {},
   "outputs": [
    {
     "name": "stdout",
     "output_type": "stream",
     "text": [
      "OK!\n"
     ]
    }
   ],
   "source": [
    "# Dictionary representation of the parameters and their values\n",
    "PARAMETER_DCT = {\"beta\": 1, \"vin_v0\": 0.015, \"vin_v1\": 0.012,\n",
    "       \"v2i_Vm2i\": 3.1, \"v2i_K2i\": 0.005,\n",
    "      \"v3i_Vm3i\": 25, \"v3i_K3y\": 0.065, \"v3i_K3z\": 0.022, \"v4_Kf\": 0.5,\n",
    "       \"v5_K\": 1, \"v6_Kf\": 0.5, \"v2s_Vm2s\": 1.5, \"v2s_K2s\": 0.0265,\n",
    "       \"v3s_Vm3s\": 0.169, \"v3s_K3s\": 0.1,\n",
    "      }\n",
    "\n",
    "def getParameters(parameter_dct=PARAMETER_DCT, lower_frc=1.0, value_frc=1.0, upper_frc=1.0):\n",
    "    \"\"\"\n",
    "    Constructs the list of parameters for for the model.\n",
    "    \n",
    "    Parameters\n",
    "    ----------\n",
    "    parameter_dct: dict (key: name, value: parameter value)\n",
    "    lower_frc: float (fraction used to calculate lower range of search. Should be in [0, 1.0])\n",
    "    value_frc: float (fraction used to calculate start of search. lower_frc <= value_frc <= upper_frc)\n",
    "    upper_frc: float (fraction used to calculate upper limit of search. Should be in [value_frc, inf])\n",
    "    \n",
    "    Returns\n",
    "    -------\n",
    "    list-SBstoat.Parameter\n",
    "    \"\"\"\n",
    "    parameters = []\n",
    "    for key, true_value in parameter_dct.items():\n",
    "        lower = lower_frc*true_value\n",
    "        value = value_frc*true_value\n",
    "        upper = upper_frc*true_value\n",
    "        parameter = SBstoat.Parameter(key, lower=lower, value=value, upper=upper)\n",
    "        parameters.append(parameter)\n",
    "    return parameters\n",
    "\n",
    "# Tests\n",
    "parameter_dct = {\"k1\": 1, \"k2\": 2}\n",
    "parameters = getParameters(parameter_dct=parameter_dct, lower_frc=0.5, value_frc=0.8, upper_frc=2.0)\n",
    "assert(len(parameters) == 2)\n",
    "assert(isinstance(parameters[0], SBstoat.Parameter))\n",
    "assert(parameters[0].lower == 0.5)\n",
    "assert(parameters[0].value == 0.8)\n",
    "assert(parameters[0].upper == 2.0)\n",
    "print(\"OK!\")"
   ]
  },
  {
   "cell_type": "code",
   "execution_count": 10,
   "metadata": {},
   "outputs": [
    {
     "name": "stdout",
     "output_type": "stream",
     "text": [
      "OK\n"
     ]
    }
   ],
   "source": [
    "def doFit(model=MODEL_ANT,\n",
    "          std=0.2,\n",
    "          fitterMethods=[\"leastsq\"], \n",
    "          lower_frc=0.5,\n",
    "          value_frc=0.5,\n",
    "          upper_frc=2.0,\n",
    "          isReport=False):\n",
    "    \"\"\"\n",
    "    Encapsulates the workflow to fit the linear pathway model.\n",
    "\n",
    "    Parameters\n",
    "    ----------\n",
    "    selectedColumns: list-str\n",
    "    endTime: int\n",
    "    fitterMethods: list-str\n",
    "    parametersToFit: list-SBstoat.Parameter\n",
    "    isReport: bool\n",
    "        Produce outputs\n",
    "\n",
    "    Returns\n",
    "    -------\n",
    "    float (residual sum of squares), int (number of function evaluations)\n",
    "    \"\"\"\n",
    "    parameters = getParameters(PARAMETER_DCT, lower_frc, value_frc, upper_frc)\n",
    "    timeseries = generateNoisyData(std, model=model, is_plot=False)\n",
    "    # Construct the fitter and do the fit\n",
    "    fitter = SBstoat.ModelFitter(model, timeseries,\n",
    "                         fitterMethods=fitterMethods, \n",
    "                         parametersToFit=parameters)\n",
    "    fitter.fitModel()\n",
    "    if isReport:\n",
    "        print(fitter.reportFit())\n",
    "        fitter.plotFitAll(figsize=(20, 5), numCol=5, color=[\"red\", \"blue\"],\n",
    "                          titlePosition=(0.5, 1.05))\n",
    "    return getFitInfo(fitter)\n",
    "\n",
    "# TESTS\n",
    "rssq, num_eval = doFit(isReport=False, std=0.2, fitterMethods=[\"leastsquares\"],\n",
    "              lower_frc=0.5, value_frc=0.5, upper_frc=2.0)\n",
    "assert(rssq < 5)\n",
    "assert(num_eval > 0 and num_eval < 500)\n",
    "print(\"OK\")"
   ]
  },
  {
   "cell_type": "code",
   "execution_count": 13,
   "metadata": {},
   "outputs": [
    {
     "data": {
      "text/plain": [
       "[0.1, 0.2, 0.5]"
      ]
     },
     "execution_count": 13,
     "metadata": {},
     "output_type": "execute_result"
    }
   ],
   "source": [
    "STDS"
   ]
  },
  {
   "cell_type": "markdown",
   "metadata": {},
   "source": [
    "# Question 4: Experiment Execution and Analysis"
   ]
  },
  {
   "cell_type": "code",
   "execution_count": 24,
   "metadata": {},
   "outputs": [
    {
     "data": {
      "text/html": [
       "<div>\n",
       "<style scoped>\n",
       "    .dataframe tbody tr th:only-of-type {\n",
       "        vertical-align: middle;\n",
       "    }\n",
       "\n",
       "    .dataframe tbody tr th {\n",
       "        vertical-align: top;\n",
       "    }\n",
       "\n",
       "    .dataframe thead th {\n",
       "        text-align: right;\n",
       "    }\n",
       "</style>\n",
       "<table border=\"1\" class=\"dataframe\">\n",
       "  <thead>\n",
       "    <tr style=\"text-align: right;\">\n",
       "      <th></th>\n",
       "      <th>std</th>\n",
       "      <th>rssq</th>\n",
       "      <th>num_eval</th>\n",
       "    </tr>\n",
       "  </thead>\n",
       "  <tbody>\n",
       "    <tr>\n",
       "      <th>0</th>\n",
       "      <td>0.1</td>\n",
       "      <td>0.138748</td>\n",
       "      <td>179</td>\n",
       "    </tr>\n",
       "    <tr>\n",
       "      <th>1</th>\n",
       "      <td>0.2</td>\n",
       "      <td>2.111423</td>\n",
       "      <td>191</td>\n",
       "    </tr>\n",
       "    <tr>\n",
       "      <th>2</th>\n",
       "      <td>0.5</td>\n",
       "      <td>2.228141</td>\n",
       "      <td>159</td>\n",
       "    </tr>\n",
       "  </tbody>\n",
       "</table>\n",
       "</div>"
      ],
      "text/plain": [
       "   std      rssq  num_eval\n",
       "0  0.1  0.138748       179\n",
       "1  0.2  2.111423       191\n",
       "2  0.5  2.228141       159"
      ]
     },
     "execution_count": 24,
     "metadata": {},
     "output_type": "execute_result"
    }
   ],
   "source": [
    "def makePlot(model=MODEL_ANT, method=\"leastsquares\", search_range=2, stds=STDS):\n",
    "    \"\"\"\n",
    "    Creates a results plot for the specified parameters.\n",
    "    \n",
    "    Parameters\n",
    "    ----------\n",
    "    method: str (optimization method)\n",
    "    search_range: float (size of the search range for the fit)\n",
    "    \"\"\"\n",
    "    STD = \"std\"\n",
    "    RSSQ = \"rssq\"\n",
    "    NUM_EVAL = \"num_eval\"\n",
    "    # Initializations\n",
    "    lower_frc = 1/search_range\n",
    "    value_frc = lower_frc\n",
    "    upper_frc = search_range\n",
    "    # Obtain the fitter results\n",
    "    result_dct = {n: [] for n in [STD, RSSQ, NUM_EVAL]}\n",
    "    for std in STDS:\n",
    "        rssq, num_eval = doFit(model=MODEL_ANT, std=std, fitterMethods=[method], lower_frc=lower_frc,\n",
    "              value_frc=value_frc, upper_frc=upper_frc, isReport=False)\n",
    "        result_dct[STD].append(std)\n",
    "        result_dct[RSSQ].append(rssq)\n",
    "        result_dct[NUM_EVAL].append(num_eval)\n",
    "    return pd.DataFrame(result_dct)\n",
    "\n",
    "# Tests\n",
    "makePlot()\n",
    "    \n",
    "        "
   ]
  }
 ],
 "metadata": {
  "kernelspec": {
   "display_name": "Python 3",
   "language": "python",
   "name": "python3"
  },
  "language_info": {
   "codemirror_mode": {
    "name": "ipython",
    "version": 3
   },
   "file_extension": ".py",
   "mimetype": "text/x-python",
   "name": "python",
   "nbconvert_exporter": "python",
   "pygments_lexer": "ipython3",
   "version": "3.6.9"
  },
  "toc-autonumbering": true
 },
 "nbformat": 4,
 "nbformat_minor": 4
}

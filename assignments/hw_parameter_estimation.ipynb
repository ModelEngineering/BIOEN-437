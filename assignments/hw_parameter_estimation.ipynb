{
 "cells": [
  {
   "cell_type": "markdown",
   "metadata": {},
   "source": [
    "# MIDTERM: PARAMETER ESTIMATION"
   ]
  },
  {
   "cell_type": "markdown",
   "metadata": {
    "tags": []
   },
   "source": [
    "# Questions"
   ]
  },
  {
   "cell_type": "markdown",
   "metadata": {},
   "source": [
    "In this homework, you will do a parameter estimation for\n",
    "BioModels model 45.\n",
    "\n",
    "1. (10 pts) **Acquire the Model**. Create a roadrunner instance of the model and print the antimony representation of the model in an output cell.\n",
    "\n",
    "1. (20 pts) **Data Generation**. Create synthetic data for the floating species using the values of the parameter in the published model:\n",
    "   1. (10 pts) Create 3 sets of synthetic data for standard deviations of 0.1, 0.2, and 0.5.\n",
    "   1. (10 pts) Plot the three datatsets. What characteristics of the data confirm that these synthetic data\n",
    "   are consistent with your expectations.\n",
    "   \n",
    "1. (50 pts) **Experiment Infrastructure**. Implement a ``doFit`` function that encapsulates the workflow that you'll use to evaluate fits on the 3 datasets you constructed in Question 1 that consider: (a) the starting point for fitting each parameter and (b) the range of parameter values.\n",
    "\n",
    "   \n",
    "1. (20 pts) **Experiment Execution and Analysis**.\n",
    "Analyze the quality of fits obtained for the 3 different synthetic observation data.\n",
    "The analysis should be conducted by setting the model parameters to 0 (variables in the \"Variable initialization\"\n",
    "section of the model). Report the number of function evaluations and the quality of the\n",
    "parameter estimates for the optimization algorithms differential_evolution and leastsquares for:\n",
    "1. lower value of parameter = 0.5 its true value; \n",
    "\n",
    "**Please do your homework in a copy of this notebook, maintaining the sections.**"
   ]
  },
  {
   "cell_type": "markdown",
   "metadata": {},
   "source": [
    "# Programming Preliminaries\n",
    "This section provides the setup to run your python codes."
   ]
  },
  {
   "cell_type": "markdown",
   "metadata": {},
   "source": [
    "## Imports"
   ]
  },
  {
   "cell_type": "code",
   "execution_count": 1,
   "metadata": {},
   "outputs": [],
   "source": [
    "import matplotlib.pyplot as plt\n",
    "import numpy as np\n",
    "import pandas as pd\n",
    "import SBstoat\n",
    "import tellurium as te"
   ]
  },
  {
   "cell_type": "markdown",
   "metadata": {},
   "source": [
    "## Constants"
   ]
  },
  {
   "cell_type": "code",
   "execution_count": 2,
   "metadata": {},
   "outputs": [],
   "source": [
    "ENDTIME = 60\n",
    "NUMPOINT = 1200\n",
    "STDS = [0.1, 0.2, 0.5]"
   ]
  },
  {
   "cell_type": "markdown",
   "metadata": {
    "tags": []
   },
   "source": [
    "## Helper Functions"
   ]
  },
  {
   "cell_type": "code",
   "execution_count": 3,
   "metadata": {},
   "outputs": [],
   "source": [
    "MODEL = \"\"\"\n",
    "A->B; A\n",
    "B->; k*B; \n",
    "A = 10; \n",
    "B=0\n",
    "k = 2\n",
    "\"\"\"\n",
    "MODEL_RR = te.loada(MODEL)\n",
    "MODEL_ARR = MODEL_RR.simulate()"
   ]
  },
  {
   "cell_type": "code",
   "execution_count": 4,
   "metadata": {},
   "outputs": [
    {
     "name": "stdout",
     "output_type": "stream",
     "text": [
      "OK!\n"
     ]
    }
   ],
   "source": [
    "def arrToDF(arr):\n",
    "    \"\"\"\n",
    "    Converts a NamedArray into a DataFrame.\n",
    "    If it is simulation output, makes TIME the index.\n",
    "\n",
    "    Parameters\n",
    "    ----------\n",
    "    arr: NamedArray\n",
    "    \n",
    "    Returns\n",
    "    -------\n",
    "    DataFrame\n",
    "        Removes \"[\" , \"]\" from the names of species\n",
    "    \"\"\"\n",
    "    columns = [c[1:-1] if c[0] == \"[\" else c for c in arr.colnames]\n",
    "    df = pd.DataFrame(arr, columns=columns)\n",
    "    df = df.set_index(\"time\")\n",
    "    return df\n",
    "\n",
    "# Tests\n",
    "assert(isinstance(arrToDF(MODEL_ARR), pd.DataFrame))\n",
    "print(\"OK!\")"
   ]
  },
  {
   "cell_type": "code",
   "execution_count": 5,
   "metadata": {},
   "outputs": [],
   "source": [
    "MODEL_DF = arrToDF(MODEL_ARR)"
   ]
  },
  {
   "cell_type": "code",
   "execution_count": 6,
   "metadata": {},
   "outputs": [],
   "source": [
    "# DELETE?\n",
    "def fitModel(model, observedDF, parameterNames, testIdxs):\n",
    "    \"\"\"\n",
    "    Fits the model parameters to the observed data.\n",
    "    \n",
    "    Parameters\n",
    "    ----------\n",
    "    model: str\n",
    "        Antimony model or roadrunner\n",
    "    observedDF: DataFrame\n",
    "        Index: time\n",
    "        Columns: floating species\n",
    "    parameterNames: list-str\n",
    "    testIdxs: list-int\n",
    "        Indices in data that should be ignored in fitting since\n",
    "        they will be used to evaluate test data\n",
    "    \n",
    "    Returns\n",
    "    -------\n",
    "    parameterDct\n",
    "        key: parameterName\n",
    "        value: parameterEstimate\n",
    "    DataFrame - fitted values\n",
    "        key: time\n",
    "        columns: floating species     \n",
    "    \"\"\"\n",
    "    indexArr = np.array(observedDF.index)\n",
    "    endTime = max(observedDF.index)\n",
    "    testIndices = indexArr[testIdxs]  # Elements in index that are test data\n",
    "    newObservedDF = observedDF.copy()\n",
    "    newObservedDF.loc[testIndices, :] = np.nan\n",
    "    newObservedDF.index.name = C_TIME\n",
    "    observedTS = SBstoat.NamedTimeseries(dataframe=newObservedDF)\n",
    "    fitter = SBstoat.ModelFitter(model, observedTS,\n",
    "                          parameterNames,\n",
    "                          endTime=endTime,\n",
    "                          numPoint=len(observedDF))\n",
    "    fitter.fitModel()\n",
    "    parameterDct = dict(fitter.params.valuesdict())\n",
    "    #\n",
    "    return parameterDct, fitter.fittedTS.to_dataframe()\n"
   ]
  },
  {
   "cell_type": "markdown",
   "metadata": {},
   "source": [
    "# Question 1: Acquire the model"
   ]
  },
  {
   "cell_type": "code",
   "execution_count": 7,
   "metadata": {},
   "outputs": [
    {
     "name": "stdout",
     "output_type": "stream",
     "text": [
      "// Created by libAntimony v2.13.2\n",
      "model *Goldbeter_Calcium_Oscillation_based_onCICR_AND_two_pool_model()\n",
      "\n",
      "  // Compartments and Species:\n",
      "  compartment extracellular, cytosol, intravesicular1, intravesicular2;\n",
      "  species EC in extracellular, Z in cytosol, Y in intravesicular2, X in intravesicular1;\n",
      "\n",
      "  // Reactions:\n",
      "  vin: EC => Z; cytosol*(vin_v0 + vin_v1*beta);\n",
      "  v2i: Z => Y; intravesicular2*v2i_Vm2i*Z^2/(v2i_K2i^2 + Z^2);\n",
      "  v3i: Y => Z; cytosol*v3i_Vm3i*Y^2*Z^2/((v3i_K3y^2 + Y^2)*(v3i_K3z^2 + Z^2));\n",
      "  v4: Y => Z; cytosol*v4_Kf*Y;\n",
      "  v5: Z => EC; extracellular*v5_K*Z;\n",
      "  v6: X => Z; cytosol*v6_Kf*X;\n",
      "  v2s: Z => X; intravesicular1*v2s_Vm2s*Z^2/(v2s_K2s^2 + Z^2);\n",
      "  v3s: X => Z; cytosol*beta*v3s_Vm3s*X^2/(v3s_K3s^2 + X^2);\n",
      "\n",
      "  // Species initializations:\n",
      "  EC = 0;\n",
      "  Z = 0;\n",
      "  Y = 0;\n",
      "  X = 0.5;\n",
      "\n",
      "  // Compartment initializations:\n",
      "  extracellular = 1;\n",
      "  cytosol = 1;\n",
      "  intravesicular1 = 1;\n",
      "  intravesicular2 = 1;\n",
      "\n",
      "  // Variable initializations:\n",
      "  beta = 1;\n",
      "  vin_v0 = 0.015;\n",
      "  vin_v1 = 0.012;\n",
      "  v2i_Vm2i = 3.1;\n",
      "  v2i_K2i = 0.005;\n",
      "  v3i_Vm3i = 25;\n",
      "  v3i_K3y = 0.065;\n",
      "  v3i_K3z = 0.022;\n",
      "  v4_Kf = 0.5;\n",
      "  v5_K = 1;\n",
      "  v6_Kf = 0.5;\n",
      "  v2s_Vm2s = 1.5;\n",
      "  v2s_K2s = 0.0265;\n",
      "  v3s_Vm3s = 0.169;\n",
      "  v3s_K3s = 0.1;\n",
      "\n",
      "  // Other declarations:\n",
      "  const extracellular, cytosol, intravesicular1, intravesicular2, beta;\n",
      "\n",
      "  // Unit definitions:\n",
      "  unit substance = 1e-6 mole;\n",
      "  unit time_unit = 60 second;\n",
      "\n",
      "  // Display Names:\n",
      "  substance is \"micromole (default)\";\n",
      "  time_unit is \"minute (default)\";\n",
      "\n",
      "  // CV terms:\n",
      "  extracellular hypernym \"http://identifiers.org/obo.go/GO:0005615\"\n",
      "  cytosol hypernym \"http://identifiers.org/obo.go/GO:0005829\"\n",
      "  intravesicular1 hypernym \"http://identifiers.org/obo.go/GO:0005790\"\n",
      "  EC identity \"http://identifiers.org/chebi/CHEBI:29108\",\n",
      "              \"http://identifiers.org/kegg.compound/C00076\"\n",
      "  Z identity \"http://identifiers.org/chebi/CHEBI:29108\",\n",
      "             \"http://identifiers.org/kegg.compound/C00076\"\n",
      "  Y identity \"http://identifiers.org/chebi/CHEBI:29108\",\n",
      "             \"http://identifiers.org/kegg.compound/C00076\"\n",
      "  X identity \"http://identifiers.org/chebi/CHEBI:29108\",\n",
      "             \"http://identifiers.org/kegg.compound/C00076\"\n",
      "  vin hypernym \"http://identifiers.org/obo.go/GO:0006816\",\n",
      "               \"http://identifiers.org/obo.go/GO:0007204\"\n",
      "  v2i hypernym \"http://identifiers.org/obo.go/GO:0051481\",\n",
      "               \"http://identifiers.org/obo.go/GO:0006816\"\n",
      "  v3i hypernym \"http://identifiers.org/obo.go/GO:0005219\",\n",
      "               \"http://identifiers.org/obo.go/GO:0006816\",\n",
      "               \"http://identifiers.org/obo.go/GO:0007204\"\n",
      "  v4 hypernym \"http://identifiers.org/obo.go/GO:0006816\",\n",
      "              \"http://identifiers.org/obo.go/GO:0007204\"\n",
      "  v5 hypernym \"http://identifiers.org/obo.go/GO:0051481\",\n",
      "              \"http://identifiers.org/obo.go/GO:0006816\"\n",
      "  v6 hypernym \"http://identifiers.org/obo.go/GO:0006816\",\n",
      "              \"http://identifiers.org/obo.go/GO:0007204\"\n",
      "  v2s hypernym \"http://identifiers.org/obo.go/GO:0006816\",\n",
      "               \"http://identifiers.org/obo.go/GO:0051481\"\n",
      "  v3s hypernym \"http://identifiers.org/obo.go/GO:0006816\",\n",
      "               \"http://identifiers.org/obo.go/GO:0051482\"\n",
      "end\n",
      "\n",
      "Goldbeter_Calcium_Oscillation_based_onCICR_AND_two_pool_model is \"Borghans1997 - Calcium Oscillation - Model 3\"\n",
      "\n",
      "Goldbeter_Calcium_Oscillation_based_onCICR_AND_two_pool_model model_entity_is \"http://identifiers.org/biomodels.db/MODEL6623009547\"\n",
      "Goldbeter_Calcium_Oscillation_based_onCICR_AND_two_pool_model model_entity_is \"http://identifiers.org/biomodels.db/BIOMD0000000045\"\n",
      "Goldbeter_Calcium_Oscillation_based_onCICR_AND_two_pool_model description \"http://identifiers.org/pubmed/17029867\"\n",
      "Goldbeter_Calcium_Oscillation_based_onCICR_AND_two_pool_model hypernym \"http://identifiers.org/obo.go/GO:0048016\",\n",
      "                                                                       \"http://identifiers.org/obo.go/GO:0019722\"\n",
      "Goldbeter_Calcium_Oscillation_based_onCICR_AND_two_pool_model taxon \"http://identifiers.org/taxonomy/10114\"\n",
      "Goldbeter_Calcium_Oscillation_based_onCICR_AND_two_pool_model identity \"http://identifiers.org/kegg.pathway/rno04020\"\n",
      "\n"
     ]
    }
   ],
   "source": [
    "MODEL_RR = te.loadSBMLModel(\"https://www.ebi.ac.uk/biomodels/model/download/BIOMD0000000045.2?filename=BIOMD0000000045_url.xml\")\n",
    "MODEL_ARR = MODEL_RR.simulate()\n",
    "MODEL_ANT = MODEL_RR.getAntimony()\n",
    "print(MODEL_ANT)"
   ]
  },
  {
   "cell_type": "markdown",
   "metadata": {},
   "source": [
    "# Question 2: Data Generation"
   ]
  },
  {
   "cell_type": "code",
   "execution_count": 22,
   "metadata": {},
   "outputs": [
    {
     "name": "stdout",
     "output_type": "stream",
     "text": [
      "OK!\n"
     ]
    }
   ],
   "source": [
    "def generateNoisyData(std, model=MODEL_ANT, is_plot=True):\n",
    "    \"\"\"\n",
    "    Generates noise columns in a dataframe.\n",
    "    \n",
    "    Parameters\n",
    "    ----------\n",
    "    std: float (standard deviation of generated noise)\n",
    "    model: str (antimony model)\n",
    "    is_plot: bool (plot the noise)\n",
    "    \n",
    "    Returns\n",
    "    -------\n",
    "    NamedTimeseries\n",
    "    \"\"\"\n",
    "    rr = te.loada(model)\n",
    "    data = rr.simulate()\n",
    "    df = arrToDF(data)\n",
    "    normalization_ser = df.mean()\n",
    "    # Use the input DataFrame as a template\n",
    "    noise_df = df.copy()\n",
    "    # Create the noise data\n",
    "    for column in noise_df.columns:\n",
    "        noise_arr = np.random.normal(0, std, len(noise_df))\n",
    "        noise_df[column] = normalization_ser.loc[column]*noise_arr \n",
    "    if is_plot:\n",
    "        _, ax = plt.subplots(1)\n",
    "        for column in noise_df.columns:\n",
    "            ax.scatter(noise_df.index, noise_df[column])\n",
    "        plt.legend(noise_df.columns)\n",
    "        plt.title(\"Generated Noise. Std=%2.2f\" % std)\n",
    "    data_df = df + noise_df\n",
    "    return SBstoat.NamedTimeseries(dataframe=data_df)\n",
    "                  \n",
    "# Tests\n",
    "df = generateNoisyData(0.5, is_plot=False)\n",
    "assert(isinstance(df, SBstoat.NamedTimeseries))\n",
    "print(\"OK!\")"
   ]
  },
  {
   "cell_type": "code",
   "execution_count": 9,
   "metadata": {},
   "outputs": [
    {
     "data": {
      "image/png": "[encoded data removed]",
      "text/plain": [
       "<Figure size 432x288 with 1 Axes>"
      ]
     },
     "metadata": {
      "needs_background": "light"
     },
     "output_type": "display_data"
    },
    {
     "data": {
      "image/png": "[encoded data removed]",
      "text/plain": [
       "<Figure size 432x288 with 1 Axes>"
      ]
     },
     "metadata": {
      "needs_background": "light"
     },
     "output_type": "display_data"
    },
    {
     "data": {
      "image/png": "[encoded data removed]",
      "text/plain": [
       "<Figure size 432x288 with 1 Axes>"
      ]
     },
     "metadata": {
      "needs_background": "light"
     },
     "output_type": "display_data"
    }
   ],
   "source": [
    "for std in STDS:\n",
    "    generateNoisyData(std)"
   ]
  },
  {
   "cell_type": "markdown",
   "metadata": {},
   "source": [
    "# Question 3: Experiment Instrumentation"
   ]
  },
  {
   "cell_type": "code",
   "execution_count": 10,
   "metadata": {},
   "outputs": [
    {
     "name": "stdout",
     "output_type": "stream",
     "text": [
      "OK!\n"
     ]
    }
   ],
   "source": [
    "# Dictionary representation of the parameters and their values\n",
    "PARAMETER_DCT = {\"beta\": 1, \"vin_v0\": 0.015, \"vin_v1\": 0.012,\n",
    "       \"v2i_Vm2i\": 3.1, \"v2i_K2i\": 0.005,\n",
    "      \"v3i_Vm3i\": 25, \"v3i_K3y\": 0.065, \"v3i_K3z\": 0.022, \"v4_Kf\": 0.5,\n",
    "       \"v5_K\": 1, \"v6_Kf\": 0.5, \"v2s_Vm2s\": 1.5, \"v2s_K2s\": 0.0265,\n",
    "       \"v3s_Vm3s\": 0.169, \"v3s_K3s\": 0.1,\n",
    "      }\n",
    "\n",
    "def getParameters(parameter_dct=PARAMETER_DCT, lower_frc=1.0, value_frc=1.0, upper_frc=1.0):\n",
    "    \"\"\"\n",
    "    Constructs the list of parameters for for the model.\n",
    "    \n",
    "    Parameters\n",
    "    ----------\n",
    "    parameter_dct: dict (key: name, value: parameter value)\n",
    "    lower_frc: float (fraction used to calculate lower range of search. Should be in [0, 1.0])\n",
    "    value_frc: float (fraction used to calculate start of search. lower_frc <= value_frc <= upper_frc)\n",
    "    upper_frc: float (fraction used to calculate upper limit of search. Should be in [value_frc, inf])\n",
    "    \n",
    "    Returns\n",
    "    -------\n",
    "    list-SBstoat.Parameter\n",
    "    \"\"\"\n",
    "    parameters = []\n",
    "    for key, true_value in parameter_dct.items():\n",
    "        lower = lower_frc*true_value\n",
    "        value = value_frc*true_value\n",
    "        upper = upper_frc*true_value\n",
    "        parameter = SBstoat.Parameter(key, lower=lower, value=value, upper=upper)\n",
    "        parameters.append(parameter)\n",
    "    return parameters\n",
    "\n",
    "# Tests\n",
    "parameter_dct = {\"k1\": 1, \"k2\": 2}\n",
    "parameters = getParameters(parameter_dct=parameter_dct, lower_frc=0.5, value_frc=0.8, upper_frc=2.0)\n",
    "assert(len(parameters) == 2)\n",
    "assert(isinstance(parameters[0], SBstoat.Parameter))\n",
    "assert(parameters[0].lower == 0.5)\n",
    "assert(parameters[0].value == 0.8)\n",
    "assert(parameters[0].upper == 2.0)\n",
    "print(\"OK!\")"
   ]
  },
  {
   "cell_type": "code",
   "execution_count": 29,
   "metadata": {},
   "outputs": [
    {
     "ename": "SyntaxError",
     "evalue": "keyword argument repeated (<ipython-input-29-a4601715e572>, line 39)",
     "output_type": "error",
     "traceback": [
      "\u001b[0;36m  File \u001b[0;32m\"<ipython-input-29-a4601715e572>\"\u001b[0;36m, line \u001b[0;32m39\u001b[0m\n\u001b[0;31m    lower_frc=0.5, value_frc=0.5, upper_frc=2.0, isReport=False)\u001b[0m\n\u001b[0m                                                ^\u001b[0m\n\u001b[0;31mSyntaxError\u001b[0m\u001b[0;31m:\u001b[0m keyword argument repeated\n"
     ]
    }
   ],
   "source": [
    "def doFit(model=MODEL_ANT,\n",
    "          std=0.2,\n",
    "          fitterMethods=[\"leastsq\"], \n",
    "          lower_frc=0.5,\n",
    "          value_frc=0.5,\n",
    "          upper_frc=2.0,\n",
    "          isReport=False):\n",
    "    \"\"\"\n",
    "    Encapsulates the workflow to fit the linear pathway model.\n",
    "\n",
    "    Parameters\n",
    "    ----------\n",
    "    selectedColumns: list-str\n",
    "    endTime: int\n",
    "    fitterMethods: list-str\n",
    "    parametersToFit: list-SBstoat.Parameter\n",
    "    isReport: bool\n",
    "        Produce outputs\n",
    "\n",
    "    Returns\n",
    "    -------\n",
    "    ModelFitter\n",
    "    \"\"\"\n",
    "    parameters = getParameters(PARAMETER_DCT, lower_frc, value_frc, upper_frc)\n",
    "    timeseries = generateNoisyData(std, model=model, is_plot=False)\n",
    "    # Construct the fitter and do the fit\n",
    "    fitter = SBstoat.ModelFitter(model, timeseries,\n",
    "                         fitterMethods=fitterMethods, \n",
    "                         parametersToFit=parameters)\n",
    "    fitter.fitModel()\n",
    "    if isReport:\n",
    "        print(fitter.reportFit())\n",
    "        fitter.plotFitAll(figsize=(20, 5), numCol=5, color=[\"red\", \"blue\"],\n",
    "                          titlePosition=(0.5, 1.05))\n",
    "    return fitter\n",
    "\n",
    "# TESTS\n",
    "result = doFit(isReport=False, std=0.2, fitterMethods=[\"leastsquares\"],\n",
    "              lower_frc=0.5, value_frc=0.5, upper_frc=2.0)\n",
    "assert(isinstance(result, SBstoat.ModelFitter))\n",
    "print(\"OK\")"
   ]
  },
  {
   "cell_type": "markdown",
   "metadata": {},
   "source": [
    "# Question 4: Experiment Execution and Analysis"
   ]
  }
 ],
 "metadata": {
  "kernelspec": {
   "display_name": "Python 3",
   "language": "python",
   "name": "python3"
  },
  "language_info": {
   "codemirror_mode": {
    "name": "ipython",
    "version": 3
   },
   "file_extension": ".py",
   "mimetype": "text/x-python",
   "name": "python",
   "nbconvert_exporter": "python",
   "pygments_lexer": "ipython3",
   "version": "3.6.9"
  },
  "toc-autonumbering": true
 },
 "nbformat": 4,
 "nbformat_minor": 4
}

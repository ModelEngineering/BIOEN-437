{
 "cells": [
  {
   "cell_type": "markdown",
   "metadata": {},
   "source": [
    "<span style=\"font-family:Papyrus; font-size:3em;\">BIOE 437 Homework</span>\n",
    "\n",
    "<span style=\"font-family:Papyrus; font-size:2em;\">Design of Experiments</span>"
   ]
  },
  {
   "cell_type": "markdown",
   "metadata": {},
   "source": [
    "# Questions"
   ]
  },
  {
   "cell_type": "markdown",
   "metadata": {},
   "source": [
    "BioModels model 45 shows bursting behavior of Calcium oscillations using the chemical species ``EC``, ``X``, ``Y``, and ``Z``.\n",
    "Factors affecting the Ca oscillations include the initial concentrations of these four chemical species.\n",
    "In this problem, you will find levels of these factors that impact oscillations during the evaluation period of 26s to 38s.\n",
    "1. ``Y`` has oscillations of at least 1.3 Hz during the evaluation period\n",
    "1. The \"amplitude\" (Fourier coefficient) for the oscillations is at least 50.\n",
    "1. All concentrations of the chemical species are non-negative in the simulation.\n",
    "\n",
    "There are three parts to answering this question.\n",
    "\n",
    "1. (20 pts) **Design of Experiments**. What is your experimental design? That is: (a) what is the baseline; (b) what are the factors; (c) what are the levels of the factors; and (d) what $n$WD did you use.\n",
    "Explain why you chose the particular levels and $n$. It may be that you use a \"mixed\" strategy in which you\n",
    "do initial experiments with one design, and based on these outcomes, you do a new design.\n",
    "\n",
    "1. (60 pts) **Experimental Infrastructure**. Implement the following functions.\n",
    "As always, you should have documentation and tests for each function.\n",
    "Note that BioModels 45 is the file ``BIOMD0000000045_url.xml`` in the ``common`` directory. (See code below.)\n",
    "\n",
    "   1. ``runExperiment`` runs an experiment for levels of initial values of chemical species and returns\n",
    "   the result of the simulation. The function optionally\n",
    "   plots the results. \n",
    "   1. ``getResponse`` calculates the the\n",
    "   values of the frequency with the largest amplitude (along with the amplitude) for a chemical species over a\n",
    "   designated time interval.\n",
    "   1. ``runStudy`` runs a set of experiments, checking for combinations of factor levels that match the\n",
    "   objectives of this study.\n",
    "    \n",
    "1. (20 pts) **Studies and Analysis**. Describe the studies you conducted, showing how you found a combination of factor levels that meet the requirements.\n",
    "\n",
    "Please put your answers to these questions in the separate sections below."
   ]
  },
  {
   "cell_type": "markdown",
   "metadata": {},
   "source": [
    "# Programming Preliminaries\n",
    "This section provides the setup to run your python codes along with helpers that you are free to use in your answers."
   ]
  },
  {
   "cell_type": "markdown",
   "metadata": {},
   "source": [
    "## Imports"
   ]
  },
  {
   "cell_type": "code",
   "execution_count": 1,
   "metadata": {},
   "outputs": [],
   "source": [
    "from scipy import fftpack\n",
    "import matplotlib.pyplot as plt\n",
    "import numpy as np\n",
    "import pandas as pd\n",
    "import os\n",
    "from SBstoat.namedTimeseries import NamedTimeseries\n",
    "import tellurium as te\n",
    "import itertools"
   ]
  },
  {
   "cell_type": "markdown",
   "metadata": {},
   "source": [
    "## Constants, Model, Helper Functions"
   ]
  },
  {
   "cell_type": "code",
   "execution_count": 2,
   "metadata": {},
   "outputs": [
    {
     "name": "stdout",
     "output_type": "stream",
     "text": [
      "// Created by libAntimony v2.13.2\n",
      "model *Goldbeter_Calcium_Oscillation_based_onCICR_AND_two_pool_model()\n",
      "\n",
      "  // Compartments and Species:\n",
      "  compartment extracellular, cytosol, intravesicular1, intravesicular2;\n",
      "  species EC in extracellular, Z in cytosol, Y in intravesicular2, X in intravesicular1;\n",
      "\n",
      "  // Reactions:\n",
      "  vin: EC => Z; cytosol*(vin_v0 + vin_v1*beta);\n",
      "  v2i: Z => Y; intravesicular2*v2i_Vm2i*Z^2/(v2i_K2i^2 + Z^2);\n",
      "  v3i: Y => Z; cytosol*v3i_Vm3i*Y^2*Z^2/((v3i_K3y^2 + Y^2)*(v3i_K3z^2 + Z^2));\n",
      "  v4: Y => Z; cytosol*v4_Kf*Y;\n",
      "  v5: Z => EC; extracellular*v5_K*Z;\n",
      "  v6: X => Z; cytosol*v6_Kf*X;\n",
      "  v2s: Z => X; intravesicular1*v2s_Vm2s*Z^2/(v2s_K2s^2 + Z^2);\n",
      "  v3s: X => Z; cytosol*beta*v3s_Vm3s*X^2/(v3s_K3s^2 + X^2);\n",
      "\n",
      "  // Species initializations:\n",
      "  EC = 0;\n",
      "  Z = 0;\n",
      "  Y = 0;\n",
      "  X = 0.5;\n",
      "\n",
      "  // Compartment initializations:\n",
      "  extracellular = 1;\n",
      "  cytosol = 1;\n",
      "  intravesicular1 = 1;\n",
      "  intravesicular2 = 1;\n",
      "\n",
      "  // Variable initializations:\n",
      "  vin_v0 = 0.015;\n",
      "  vin_v1 = 0.012;\n",
      "  beta = 1;\n",
      "  v2i_Vm2i = 3.1;\n",
      "  v2i_K2i = 0.005;\n",
      "  v3i_Vm3i = 25;\n",
      "  v3i_K3y = 0.065;\n",
      "  v3i_K3z = 0.022;\n",
      "  v4_Kf = 0.5;\n",
      "  v5_K = 1;\n",
      "  v6_Kf = 0.5;\n",
      "  v2s_Vm2s = 1.5;\n",
      "  v2s_K2s = 0.0265;\n",
      "  v3s_Vm3s = 0.169;\n",
      "  v3s_K3s = 0.1;\n",
      "\n",
      "  // Other declarations:\n",
      "  const extracellular, cytosol, intravesicular1, intravesicular2, vin_v0;\n",
      "  const vin_v1, beta, v2i_Vm2i, v2i_K2i, v3i_Vm3i, v3i_K3y, v3i_K3z, v4_Kf;\n",
      "  const v5_K, v6_Kf, v2s_Vm2s, v2s_K2s, v3s_Vm3s, v3s_K3s;\n",
      "\n",
      "  // Unit definitions:\n",
      "  unit substance = 1e-6 mole;\n",
      "  unit time_unit = 6e1 second;\n",
      "\n",
      "  // Display Names:\n",
      "  substance is \"micromole (default)\";\n",
      "  time_unit is \"minute (default)\";\n",
      "\n",
      "  // CV terms:\n",
      "  extracellular hypernym \"http://identifiers.org/obo.go/GO:0005615\"\n",
      "  cytosol hypernym \"http://identifiers.org/obo.go/GO:0005829\"\n",
      "  intravesicular1 hypernym \"http://identifiers.org/obo.go/GO:0005790\"\n",
      "  EC identity \"http://identifiers.org/chebi/CHEBI:29108\",\n",
      "              \"http://identifiers.org/kegg.compound/C00076\"\n",
      "  Z identity \"http://identifiers.org/chebi/CHEBI:29108\",\n",
      "             \"http://identifiers.org/kegg.compound/C00076\"\n",
      "  Y identity \"http://identifiers.org/chebi/CHEBI:29108\",\n",
      "             \"http://identifiers.org/kegg.compound/C00076\"\n",
      "  X identity \"http://identifiers.org/chebi/CHEBI:29108\",\n",
      "             \"http://identifiers.org/kegg.compound/C00076\"\n",
      "  vin hypernym \"http://identifiers.org/obo.go/GO:0006816\",\n",
      "               \"http://identifiers.org/obo.go/GO:0007204\"\n",
      "  v2i hypernym \"http://identifiers.org/obo.go/GO:0051481\",\n",
      "               \"http://identifiers.org/obo.go/GO:0006816\"\n",
      "  v3i hypernym \"http://identifiers.org/obo.go/GO:0005219\",\n",
      "               \"http://identifiers.org/obo.go/GO:0006816\",\n",
      "               \"http://identifiers.org/obo.go/GO:0007204\"\n",
      "  v4 hypernym \"http://identifiers.org/obo.go/GO:0006816\",\n",
      "              \"http://identifiers.org/obo.go/GO:0007204\"\n",
      "  v5 hypernym \"http://identifiers.org/obo.go/GO:0051481\",\n",
      "              \"http://identifiers.org/obo.go/GO:0006816\"\n",
      "  v6 hypernym \"http://identifiers.org/obo.go/GO:0006816\",\n",
      "              \"http://identifiers.org/obo.go/GO:0007204\"\n",
      "  v2s hypernym \"http://identifiers.org/obo.go/GO:0006816\",\n",
      "               \"http://identifiers.org/obo.go/GO:0051481\"\n",
      "  v3s hypernym \"http://identifiers.org/obo.go/GO:0006816\",\n",
      "               \"http://identifiers.org/obo.go/GO:0051482\"\n",
      "end\n",
      "\n",
      "Goldbeter_Calcium_Oscillation_based_onCICR_AND_two_pool_model is \"Borghans1997 - Calcium Oscillation - Model 3\"\n",
      "\n",
      "Goldbeter_Calcium_Oscillation_based_onCICR_AND_two_pool_model model_entity_is \"http://identifiers.org/biomodels.db/MODEL6623009547\",\n",
      "                                                                              \"http://identifiers.org/biomodels.db/BIOMD0000000045\"\n",
      "Goldbeter_Calcium_Oscillation_based_onCICR_AND_two_pool_model description \"http://identifiers.org/pubmed/17029867\"\n",
      "Goldbeter_Calcium_Oscillation_based_onCICR_AND_two_pool_model hypernym \"http://identifiers.org/obo.go/GO:0048016\",\n",
      "                                                                       \"http://identifiers.org/obo.go/GO:0019722\"\n",
      "Goldbeter_Calcium_Oscillation_based_onCICR_AND_two_pool_model taxon \"http://identifiers.org/taxonomy/10114\"\n",
      "Goldbeter_Calcium_Oscillation_based_onCICR_AND_two_pool_model identity \"http://identifiers.org/kegg.pathway/rno04020\"\n",
      "\n"
     ]
    }
   ],
   "source": [
    "roadrunner = te.loadSBMLModel(\"https://www.ebi.ac.uk/biomodels/model/download/BIOMD0000000045.2?filename=BIOMD0000000045_url.xml\")\n",
    "MODEL = roadrunner.getAntimony()\n",
    "# Simulation constants\n",
    "START_TIME = 0  # Start time for the simulation\n",
    "END_TIME = 60  # End time for the simulation\n",
    "BEGIN_EVAL = 26\n",
    "END_EVAL = 38\n",
    "BURST_DCT = {0: (15, 25), 1: (40, 50)}  # Where bursts should be preserved\n",
    "NUM_POINT = 100*(END_TIME - START_TIME)  # Number of points in output\n",
    "PARAMETERS = [\"X\", \"Y\", \"Z\", \"EC\"]\n",
    "TIME = \"time\"\n",
    "ROADRUNNER = te.loada(MODEL)\n",
    "MODEL_ARR = ROADRUNNER.simulate(START_TIME, END_TIME, NUM_POINT)\n",
    "print(ROADRUNNER.getAntimony())"
   ]
  },
  {
   "cell_type": "code",
   "execution_count": 3,
   "metadata": {},
   "outputs": [
    {
     "data": {
      "image/png": "[encoded data removed]",
      "text/plain": [
       "<Figure size 432x288 with 1 Axes>"
      ]
     },
     "metadata": {},
     "output_type": "display_data"
    }
   ],
   "source": [
    "ROADRUNNER.plot(MODEL_ARR)"
   ]
  },
  {
   "cell_type": "code",
   "execution_count": 4,
   "metadata": {},
   "outputs": [],
   "source": [
    "MODEL_ARR = ROADRUNNER.simulate(START_TIME, END_TIME, NUM_POINT)"
   ]
  },
  {
   "cell_type": "raw",
   "metadata": {},
   "source": [
    "Note that ``Y`` does not start oscillating at 0. Also, the oscillations are broken into two segments. We\n",
    "are looking for an unbroken oscillation of ``Y`` starting at time 0."
   ]
  },
  {
   "cell_type": "code",
   "execution_count": 5,
   "metadata": {},
   "outputs": [],
   "source": [
    "def arrToDF(arr):\n",
    "    \"\"\"\n",
    "    Converts a NamedArray to a DataFrame.\n",
    "    \n",
    "    Parameters\n",
    "    ----------\n",
    "    arr: NamedArray\n",
    "    \n",
    "    Returns\n",
    "    -------\n",
    "    DataFrame\n",
    "        Removes \"[\" , \"]\" from the names of species\n",
    "        index: time\n",
    "    \"\"\"\n",
    "    columns = [c[1:-1] if c[0] == \"[\" else c for c in arr.colnames]\n",
    "    df = pd.DataFrame(arr, columns=columns)\n",
    "    return df.set_index(TIME)\n",
    "\n",
    "# TESTS\n",
    "rr = te.loada(\"A -> B; 1; A=0; B=0; a=2\")\n",
    "arr = rr.simulate()\n",
    "df = arrToDF(arr)\n",
    "assert(isinstance(df, pd.DataFrame))\n",
    "trues = [\"[\" not in c and \"]\" not in c for c in df.columns]\n",
    "assert(all(trues))"
   ]
  },
  {
   "cell_type": "code",
   "execution_count": 6,
   "metadata": {},
   "outputs": [],
   "source": [
    "MODEL_DF = arrToDF(MODEL_ARR)"
   ]
  },
  {
   "cell_type": "code",
   "execution_count": 7,
   "metadata": {},
   "outputs": [
    {
     "name": "stdout",
     "output_type": "stream",
     "text": [
      "OK!\n"
     ]
    }
   ],
   "source": [
    "def filterResponse(df):\n",
    "    \"\"\"\n",
    "    Subsets the dataframe to the period of the evaluation.\n",
    "    \n",
    "    Parameters\n",
    "    ----------\n",
    "    df: DataFrame\n",
    "        index: time\n",
    "        columns: floating species\n",
    "    \n",
    "    Returns\n",
    "    -------\n",
    "    DataFrame (same structure as input)\n",
    "    \"\"\"\n",
    "    sel = [(v >= 26) and (v <= 38) for v in df.index]\n",
    "    return df[sel]\n",
    "\n",
    "# Tests\n",
    "df = filterResponse(MODEL_DF)\n",
    "assert(isinstance(df, pd.DataFrame))\n",
    "print(\"OK!\")"
   ]
  },
  {
   "cell_type": "code",
   "execution_count": 8,
   "metadata": {},
   "outputs": [],
   "source": [
    "MODEL_EVAL_DF = filterResponse(MODEL_DF)"
   ]
  },
  {
   "cell_type": "code",
   "execution_count": 9,
   "metadata": {
    "executionInfo": {
     "elapsed": 240,
     "status": "ok",
     "timestamp": 1626975106219,
     "user": {
      "displayName": "Joseph Hellerstein",
      "photoUrl": "https://lh3.googleusercontent.com/a-/AOh14Ggr-yAwbfqFCOlFTHoKepUYJ9VjZuCGILW-YdHvUQ=s64",
      "userId": "07301174361489660166"
     },
     "user_tz": 420
    },
    "id": "WqxyeG5VeYDa"
   },
   "outputs": [
    {
     "name": "stdout",
     "output_type": "stream",
     "text": [
      "OK!\n"
     ]
    }
   ],
   "source": [
    "def calculateFft(molecule, df):\n",
    "    \"\"\"\n",
    "    Calculate the FFT for a molecule in the simulation output.\n",
    "    The calculation does not include amplitudes at a frequency of 0.\n",
    "    \n",
    "    Parameters\n",
    "    ----------\n",
    "    molecule: str\n",
    "    df: DataFrame\n",
    "        index: time\n",
    "        columns: species\n",
    "    offset: int\n",
    "        Initial data that are not included in the FFT calculation\n",
    "             \n",
    "    Returns\n",
    "    -------\n",
    "    list-float, list-float\n",
    "        freqs, fftValues\n",
    "    \"\"\"\n",
    "    MIN_FREQ = 0.5  # Minimum frequency reported\n",
    "    times = np.array(df.index)\n",
    "    values = df[molecule].values\n",
    "    numpt = len(times)\n",
    "    endTime = times[-1]\n",
    "    startTime = times[0]\n",
    "    freqs = list(fftpack.fftfreq(numpt, (endTime-startTime)/numpt))\n",
    "    values = list(np.abs(fftpack.fft(values)))\n",
    "    # Eliminate frequency of 0\n",
    "    new_freqs = []\n",
    "    new_values = []\n",
    "    for idx, freq in enumerate(freqs):\n",
    "        if np.abs(freq) >= MIN_FREQ:\n",
    "            new_freqs.append(freq)\n",
    "            new_values.append(values[idx])\n",
    "    freq_arr = np.array(new_freqs)\n",
    "    value_arr = np.array(new_values)\n",
    "    return freq_arr, value_arr\n",
    "\n",
    "# Tests\n",
    "freqs, values = calculateFft(\"X\", MODEL_EVAL_DF)\n",
    "assert(max(values) > 1)  # Top frequency should have a large magnitude\n",
    "print(\"OK!\")"
   ]
  },
  {
   "cell_type": "code",
   "execution_count": 10,
   "metadata": {
    "colab": {
     "base_uri": "https://localhost:8080/",
     "height": 281
    },
    "executionInfo": {
     "elapsed": 6,
     "status": "ok",
     "timestamp": 1626975106220,
     "user": {
      "displayName": "Joseph Hellerstein",
      "photoUrl": "https://lh3.googleusercontent.com/a-/AOh14Ggr-yAwbfqFCOlFTHoKepUYJ9VjZuCGILW-YdHvUQ=s64",
      "userId": "07301174361489660166"
     },
     "user_tz": 420
    },
    "id": "DflZrFGGeYDb",
    "outputId": "448cf8d0-4b55-47da-d55f-e5616f002fae"
   },
   "outputs": [
    {
     "name": "stdout",
     "output_type": "stream",
     "text": [
      "OK!\n"
     ]
    }
   ],
   "source": [
    "def plotFft(molecule, df, ax=None, isPlot=True, **kwargs):\n",
    "    \"\"\"\n",
    "    Plot the FFT for a molecule.\n",
    "    \n",
    "    Parameters\n",
    "    ----------\n",
    "    df: DataFrame\n",
    "        index: time\n",
    "        columns: floating species\n",
    "    ax: Matplotlib.Axes\n",
    "    kwargs: dict\n",
    "        optional arguments passed to FFT calculation\n",
    "    \"\"\"\n",
    "    if ax is None:\n",
    "        _, ax = plt.subplots(1,1)\n",
    "    freqs, fftValues = calculateFft(molecule, df=df, **kwargs)\n",
    "    ax.plot(freqs, fftValues)\n",
    "    ax.set_title(molecule)\n",
    "    if not isPlot:\n",
    "        plt.close()\n",
    "    \n",
    "# Tests\n",
    "plotFft(\"Y\", MODEL_EVAL_DF, isPlot=False)  # \"Smoke\" test\n",
    "print(\"OK!\")"
   ]
  },
  {
   "cell_type": "code",
   "execution_count": 11,
   "metadata": {
    "executionInfo": {
     "elapsed": 5,
     "status": "ok",
     "timestamp": 1626975106220,
     "user": {
      "displayName": "Joseph Hellerstein",
      "photoUrl": "https://lh3.googleusercontent.com/a-/AOh14Ggr-yAwbfqFCOlFTHoKepUYJ9VjZuCGILW-YdHvUQ=s64",
      "userId": "07301174361489660166"
     },
     "user_tz": 420
    },
    "id": "ZONuGXbi3Tuj"
   },
   "outputs": [
    {
     "name": "stdout",
     "output_type": "stream",
     "text": [
      "OK!\n"
     ]
    }
   ],
   "source": [
    "def calculatePeakFrequency(molecule, df):\n",
    "    \"\"\"\n",
    "    Calculate the FFT for a molecule in the simulation output.\n",
    "    The calculation does not include amplitudes at a frequency of 0.\n",
    "    \n",
    "    Parameters\n",
    "    ----------\n",
    "    molecule: str\n",
    "    df: DataFrame\n",
    "        index: time\n",
    "        columns: floating species\n",
    "        values: species concentrations\n",
    "             \n",
    "    Returns\n",
    "    -------\n",
    "    float: peak frequency\n",
    "    float: amplitude\n",
    "    \"\"\"\n",
    "    def getIndexOfMax(arr):\n",
    "        maxx = max(arr)\n",
    "        lst = list(arr)\n",
    "        return lst.index(maxx)\n",
    "    def deleteArrayElement(arr, idx):\n",
    "        lst = list(arr)\n",
    "        lst1 = lst[:idx]\n",
    "        lst2 = lst[idx+1:]\n",
    "        lst1.extend(lst2)\n",
    "        return np.array(lst1)\n",
    "    MIN_FREQ = 0.1\n",
    "    max_delete = 10\n",
    "    #\n",
    "    frequencies, amplitudes = calculateFft(molecule, df)\n",
    "    # Delete the largest N values\n",
    "    for _ in range(max_delete):\n",
    "        maxIdx = getIndexOfMax(amplitudes)\n",
    "        if np.abs(frequencies[maxIdx]) < MIN_FREQ:\n",
    "            frequencies = deleteArrayElement(frequencies, maxIdx)\n",
    "            amplitudes = deleteArrayElement(amplitudes, maxIdx)\n",
    "        else:\n",
    "            break\n",
    "    # Report the next highest value\n",
    "    maxIdx = getIndexOfMax(amplitudes)\n",
    "    return frequencies[maxIdx], amplitudes[maxIdx]\n",
    "\n",
    "# TESTS\n",
    "peak_frequency, peak_amplitude = calculatePeakFrequency(\"Y\", MODEL_EVAL_DF)\n",
    "assert(peak_frequency > 0)\n",
    "assert(peak_amplitude > 0)\n",
    "print(\"OK!\")"
   ]
  },
  {
   "cell_type": "markdown",
   "metadata": {},
   "source": [
    "# Experimental Design"
   ]
  },
  {
   "cell_type": "markdown",
   "metadata": {},
   "source": [
    "The experimental design will initially use one factor at a time (1WD) because the combinatorics\n",
    "are modest.\n",
    "If this fails, we'll use two factors in combination (2WD)."
   ]
  },
  {
   "cell_type": "markdown",
   "metadata": {},
   "source": [
    "# Experimental Infrastructure"
   ]
  },
  {
   "cell_type": "code",
   "execution_count": 12,
   "metadata": {},
   "outputs": [
    {
     "name": "stdout",
     "output_type": "stream",
     "text": [
      "OK!\n"
     ]
    },
    {
     "data": {
      "image/png": "[encoded data removed]",
      "text/plain": [
       "<Figure size 432x288 with 1 Axes>"
      ]
     },
     "metadata": {
      "needs_background": "light"
     },
     "output_type": "display_data"
    }
   ],
   "source": [
    "def runExperiment(parameter_dct=None, model=MODEL, is_plot=True,\n",
    "                  start_time=START_TIME, end_time=END_TIME, num_point=NUM_POINT):\n",
    "    \"\"\"\n",
    "    Run a simulation experiment making the parameter substations.\n",
    "    \n",
    "    Parameters\n",
    "    ----------\n",
    "    parameter_dct: dict (key: parameter; value: value to assign)\n",
    "    model: str (antimony model)\n",
    "    isPlot: bool\n",
    "    start_time: float (beginning of simulation)\n",
    "    end_time: float (end of simulation)\n",
    "    num_point: number of points in the simulation\n",
    "    \n",
    "    Returns\n",
    "    -------\n",
    "    pd.DataFrame (index: time; columns: floating species)\n",
    "    \"\"\"\n",
    "    if parameter_dct is None:\n",
    "        parameter_dct = {}\n",
    "    #\n",
    "    roadrunner = te.loada(model)\n",
    "    for parameter, value in parameter_dct.items():\n",
    "        roadrunner[parameter] = value\n",
    "    df = arrToDF(roadrunner.simulate(start_time, end_time, num_point))\n",
    "    #import pdb; pdb.set_trace()\n",
    "    max_y = df.max().max()\n",
    "    #\n",
    "    figure, ax = plt.subplots(1)\n",
    "    title = \" \".join([\"%s: %1.2f\" % (k, v) for k, v in parameter_dct.items()])\n",
    "    for col in df.columns:\n",
    "        _ = ax.plot(df.index, df[col])\n",
    "    _ = ax.set_title(title)\n",
    "    _ = ax.set_xlim([start_time, end_time])\n",
    "    _ = ax.set_ylim([0, max_y])\n",
    "    _ = plt.legend(df.columns)\n",
    "    #ROADRUNNER.plot(data, title=title, ax=ax)\n",
    "    if not is_plot:\n",
    "        _ = plt.close()\n",
    "    return df\n",
    "\n",
    "# Test\n",
    "data = runExperiment({}, is_plot=True)\n",
    "assert(len(data) > 0)\n",
    "print(\"OK!\")"
   ]
  },
  {
   "cell_type": "code",
   "execution_count": 13,
   "metadata": {},
   "outputs": [],
   "source": [
    "def getResponse(molecule, df):\n",
    "    \"\"\"\n",
    "    Calculate the FFT for a molecule in the simulation output.\n",
    "    The calculation does not include amplitudes at a frequency of 0.\n",
    "    \n",
    "    Parameters\n",
    "    ----------\n",
    "    molecule: str\n",
    "    df: DataFrame\n",
    "        index: time\n",
    "        columns: species\n",
    "    offset: int\n",
    "        Initial data that are not included in the FFT calculation\n",
    "             \n",
    "    Returns\n",
    "    -------\n",
    "    list-float, list-float\n",
    "        freqs, fftValues\n",
    "    \"\"\"\n",
    "    return calculatePeakFrequency(molecule, df)"
   ]
  },
  {
   "cell_type": "code",
   "execution_count": 14,
   "metadata": {},
   "outputs": [
    {
     "name": "stdout",
     "output_type": "stream",
     "text": [
      "OK!\n"
     ]
    }
   ],
   "source": [
    "LEVELS = [v for v in range(11)]\n",
    "def runStudy(levels=LEVELS, isProgressReport=True, isTFC=True):\n",
    "    \"\"\"\n",
    "    Runs experiments searching for combinations of parameter values that statisfy:\n",
    "    1. ``Y`` has oscillations of at least 1.5 Hz during the times 5 sec to 30 sec.\n",
    "    2. The \"amplitude\" (Fourier coefficient) for the oscillations is at least 2.5.\n",
    "    3. All concentrations of the chemical species are non-negative in the simulation.\n",
    "    \n",
    "    Parameters\n",
    "    ----------\n",
    "    levels: list-float\n",
    "        levels (values) to use for initial values of chemical species\n",
    "    isProgressReport: bool\n",
    "        reports initial values of parameters being tested\n",
    "    isTFC: bool\n",
    "        two factor in combination design\n",
    "        \n",
    "    Returns\n",
    "    -------\n",
    "    int: number of experiments run\n",
    "    \"\"\"\n",
    "    # One factor at a time study\n",
    "    numExperiment = 0\n",
    "    AMPLITUDE_MIN = 50\n",
    "    FREQUENCY_MIN = 1.3\n",
    "    done = False\n",
    "    parameterItr = itertools.product(PARAMETERS, PARAMETERS)\n",
    "    for parameter1, parameter2 in parameterItr:\n",
    "        if parameter1 == parameter2:\n",
    "            continue\n",
    "        if done:\n",
    "            break\n",
    "        levelItr = itertools.product(levels, levels)\n",
    "        for level1, level2 in levelItr:\n",
    "            parameterDct = {parameter1: level1}\n",
    "            if isTFC:\n",
    "                parameterDct[parameter2] = level2\n",
    "            df = runExperiment(parameterDct, is_plot=False)\n",
    "            for col in df.columns:\n",
    "                trues = [v >= 0 for v in df[col]]\n",
    "                if not all(trues):\n",
    "                    continue\n",
    "            numExperiment += 1\n",
    "            freq, ampl = getResponse(\"Y\", df)\n",
    "            if isProgressReport:\n",
    "                print(\"%s: %2.1f, %s: %2.1f, freq: %2.2f, ampl: %2.2f \" \n",
    "                      % (parameter1, level1, parameter2, level2, freq, ampl))\n",
    "            if (ampl >= AMPLITUDE_MIN) and (freq >= FREQUENCY_MIN):\n",
    "                _ = runExperiment(parameterDct, is_plot=True)\n",
    "                done = True\n",
    "                break\n",
    "    return numExperiment\n",
    "                \n",
    "# Tests\n",
    "numExperiment = runStudy(levels=[0, 0.5], isProgressReport=False)\n",
    "assert(numExperiment > 10)\n",
    "print(\"OK!\")"
   ]
  },
  {
   "cell_type": "markdown",
   "metadata": {},
   "source": [
    "# Studies and Analysis"
   ]
  },
  {
   "cell_type": "markdown",
   "metadata": {},
   "source": [
    "By choosing a combination of factors at the low and high end of change, the combinatorics were modest.\n",
    "Changes two factors in combination was sufficient to find a combination of values\n",
    "that met the requirements of the problem."
   ]
  },
  {
   "cell_type": "code",
   "execution_count": 15,
   "metadata": {},
   "outputs": [
    {
     "name": "stdout",
     "output_type": "stream",
     "text": [
      "X: 0.1, Y: 0.1, freq: 1.38, ampl: 62.95 \n"
     ]
    },
    {
     "data": {
      "text/plain": [
       "1"
      ]
     },
     "execution_count": 15,
     "metadata": {},
     "output_type": "execute_result"
    },
    {
     "data": {
      "image/png": "[encoded data removed]",
      "text/plain": [
       "<Figure size 432x288 with 1 Axes>"
      ]
     },
     "metadata": {
      "needs_background": "light"
     },
     "output_type": "display_data"
    }
   ],
   "source": [
    "runStudy(levels=[0.1, 0.2, .9, 1], isProgressReport=True, isTFC=False)"
   ]
  },
  {
   "cell_type": "markdown",
   "metadata": {},
   "source": [
    "Since we failed to find a combination of levels that meets our criteria, we now use TFC."
   ]
  },
  {
   "cell_type": "markdown",
   "metadata": {},
   "source": [
    "We found values that meet our requirements, including that all concentrations are non-negative."
   ]
  }
 ],
 "metadata": {
  "kernelspec": {
   "display_name": "Python 3",
   "language": "python",
   "name": "python3"
  },
  "language_info": {
   "codemirror_mode": {
    "name": "ipython",
    "version": 3
   },
   "file_extension": ".py",
   "mimetype": "text/x-python",
   "name": "python",
   "nbconvert_exporter": "python",
   "pygments_lexer": "ipython3",
   "version": "3.6.9"
  }
 },
 "nbformat": 4,
 "nbformat_minor": 4
}

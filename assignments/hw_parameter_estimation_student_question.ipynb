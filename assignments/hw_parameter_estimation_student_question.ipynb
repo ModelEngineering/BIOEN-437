{
 "cells": [
  {
   "cell_type": "markdown",
   "metadata": {},
   "source": [
    "# MIDTERM: PARAMETER ESTIMATION"
   ]
  },
  {
   "cell_type": "markdown",
   "metadata": {
    "tags": []
   },
   "source": [
    "# Questions"
   ]
  },
  {
   "cell_type": "markdown",
   "metadata": {},
   "source": [
    "In this homework, you will do a parameter estimation for\n",
    "BioModels model 957, a model of COVID.\n",
    "\n",
    "1. (10 pts) **Acquire the Model**. Create a roadrunner instance of the model and print the antimony representation of the model in an output cell.\n",
    "1. (20 pts) **Data Generation**. Create synthetic data for the floating species using the values of the parameter in the published model. Use start time 0 and end time of 5.\n",
    "   1. (10 pts) Create a function ``generateNoisyData``: Creates noisy versions of the simulation floating species. Inputs are antimony model and stadard deviation of noise; outputs are SBstoat.NamedTimeseries.\n",
    "   1. (5 pts) Create and save in a global variable synthetic data for standard deviations of 0, 0.1, 0.5, 1.0, 2.0.\n",
    "   1. (5 pts) Plot the three datatsets. What characteristics of the data confirm that these synthetic data\n",
    "   are consistent with your expectations.\n",
    "1. (40 pts) **Experiment Infrastructure**. Implement the following functions. Feel free to use ``SBstoat`` or ``lmfit``.:\n",
    "    1. (10 pts) ``getParameters``: Creates a list of ``SBstoat.Parameter`` (or ``lmfit.Parameter``) from a dictionary with keys of parameter names and values that are the values of parameters in the model. It also has arguments that indicate the range for the parameter (as a fraction of the parameter's true value) and the starting value.\n",
    "    1. (30 pts) ``doFit``: Encapsulates the fitting and evaluation workflow. Inputs are: antimony model, standard deviation of noise, the fitting method, and fractions of the true value for: lower end of parameter search, starting value of parameter search, and upper end of parameter search; Outputs are: residual sum of squares of the fit and the number of function evaluations (see ``getFitterInfo`` in Helper Functions.  \n",
    "1. (30 pts) **Experiments and Analysis**.\n",
    "Use the experiment infrastructure to determine of effects of: standard deviation of noise,\n",
    "search range, and search algorithm. You want to understand the impact on accuracy of parameter estimates and the time to do the parameter estimation. We will quantify accuracy in terms of residual sum of square, and time is in units of function evaluations.\n",
    "    1. (10 pts) Plot the results. (16 plots.) All experiments should set the starting value of the searchto the lower end of the range.\n",
    "        1. Use the data generated in Question 2.\n",
    "        1. Use the search ranges lower_frc, upper_frc = (0.5, 2.0) and (0.25, 4.0)\n",
    "        1. Use the search algorithms ``leastsquares`` and ``differential_evolution`` Construct plots as follows:\n",
    "            1. x-axis: standard deviation\n",
    "            2. y-axis: residual sum of squares, maximum estimation error, median estimation error, number of function evaluations (set getFitterInfo in Helpers)\n",
    "            3. Do 2 plots; one for each combination of lower_frc, upper_frc.\n",
    "    1. (20 pts) Answer the following questions. (5 pts for each correct answer)\n",
    "       1. Which algorithm (leastsquares or differential_evolution) works best for these data and why?\n",
    "       1. Why are the maximum error and median error higher for the search range (0.25, 4.0) compared with (0.5, 2.0)?\n",
    "       1. Why does the residual sum of squares (RSSQ) increase with standard deviation?\n",
    "       1. Why does do estimation errors (max_err and median_err) increase from standard deviation of 0 to non-zero standard deviations?\n",
    "\n",
    "**Please do your homework in a copy of this notebook, maintaining the sections.**\n",
    "\n",
    "**Don't forget to document your functions and include tests. All tests must have at least one ``assert``**\n",
    "\n",
    "**Feel free to make use of any of the codes in the Helper Functions or any codes we developed in class. However, you are not required to use these codes.**In this homework, you will do a parameter estimation for\n",
    "BioModels model 957, a model of COVID.\n",
    "\n",
    "1. (10 pts) **Acquire the Model**. Create a roadrunner instance of the model and print the antimony representation of the model in an output cell.\n",
    "\n",
    "1. (20 pts) **Data Generation**. Create synthetic data for the floating species using the values of the parameter in the published model:\n",
    "   1. (10 pts) Create a function ``generateNoisyData``: Creates noisy versions of the simulation floating species. Inputs are antimony model and stadard deviation of noise; outputs are SBstoat.NamedTimeseries.\n",
    "   1. (5 pts) Create and save in a global variable synthetic data for standard deviations of 0, 0.1, 0.5, 1.0, 2.0.\n",
    "   1. (5 pts) Plot the three datatsets. What characteristics of the data confirm that these synthetic data\n",
    "   are consistent with your expectations.\n",
    "   \n",
    "1. (40 pts) **Experiment Infrastructure**. Implement the following functions:\n",
    "\n",
    "    1. (10 pts) ``getParameters``: Creates a list of SBstoat.Parameter from a dictionary with keys of parameter names and values that are the values of parameters in the model. It also has arguments that indicate the range for the parameter (as a fraction of the parameter's true value) and the starting value.\n",
    "    1. (30 pts) ``doFit``: Encapsulates the fitting and evaluation workflow. Inputs are: antimony model, standard deviation of noise, the fitting method, and fractions of the true value for: lower end of parameter search, starting value of parameter search, and upper end of parameter search; Outputs are: residual sum of squares of the fit and the number of function evaluations (see ``getFitterInfo`` in Helper Functions.\n",
    "\n",
    "   \n",
    "1. (30 pts) **Experiments and Analysis**.\n",
    "Use the experiment infrastructure to determine of effects of: standard deviation of noise,\n",
    "search range, and search algorithm. You want to understand the impact on accuracy of parameter estimates and the time to do the parameter estimation. We will quantify accuracy in terms of residual sum of square, and time is in units of function evaluations.\n",
    "\n",
    "    A. (10 pts) Plot the results. All experiments should set the starting value of the search\n",
    "to the lower end of the range.\n",
    "        1. Use the data generated in Question 2.\n",
    "        1. Use the search ranges lower_frc, upper_frc = (0.5, 2.0) and (0.25, 4.0)\n",
    "        1. Use the search algorithms ``leastsquares`` and ``differential_evolution``\n",
    "   \n",
    "   Construct plots as follows:\n",
    "   \n",
    "        1. x-axis: standard deviation\n",
    "        2. y-axis: residual sum of squares, maximum estimation error, median estimation error, number of function evaluations (set getFitterInfo in Helpers)\n",
    "        3. Do 2 plots; one for each combination of lower_frc, upper_frc\n",
    "    \n",
    "   B. (20 pts) Answer the following questions. (5 pts for each correct answer)\n",
    "       1. Which algorithm (leastsquares or differential_evolution) works best for these data and why?\n",
    "       1. Why are the maximum error and median error higher for the search range (0.25, 4.0) compared with (0.5, 2.0)?\n",
    "       1. Why does the residual sum of squares (RSSQ) increase with standard deviation?\n",
    "       1. Why does do estimation errors (max_err and median_err) increase from standard deviation of 0 to non-zero standard deviations?\n",
    "\n",
    "**Please do your homework in a copy of this notebook, maintaining the sections.**\n",
    "\n",
    "**Don't forget to document your functions and include tests. All tests must have at least one ``assert``**\n",
    "\n",
    "**Feel free to make use of any of the codes in the Helper Functions or any codes we developed in class. However, you are not required to use these codes.**"
   ]
  },
  {
   "cell_type": "markdown",
   "metadata": {},
   "source": [
    "# Programming Preliminaries\n",
    "This section provides the setup to run your python codes."
   ]
  },
  {
   "cell_type": "markdown",
   "metadata": {},
   "source": [
    "## Imports"
   ]
  },
  {
   "cell_type": "code",
   "execution_count": null,
   "metadata": {},
   "outputs": [],
   "source": [
    "!pip install -q tellurium\n",
    "!pip install -q SBstoat"
   ]
  },
  {
   "cell_type": "code",
   "execution_count": 1,
   "metadata": {},
   "outputs": [],
   "source": [
    "import collections\n",
    "import matplotlib.pyplot as plt\n",
    "import numpy as np\n",
    "import pandas as pd\n",
    "import SBstoat\n",
    "import tellurium as te"
   ]
  },
  {
   "cell_type": "markdown",
   "metadata": {},
   "source": [
    "## Constants"
   ]
  },
  {
   "cell_type": "code",
   "execution_count": 2,
   "metadata": {},
   "outputs": [],
   "source": [
    "STDS = [0, 0.1, 0.5, 1.0, 2.0]\n",
    "# Key and column names\n",
    "STD = \"std\"\n",
    "RSSQ = \"rssq\"\n",
    "NUM_EVAL = \"num_eval\"\n",
    "METHOD = \"method\"\n",
    "MAX_ERR = \"max_err\"\n",
    "MEDIAN_ERR = \"median_err\"\n",
    "REPL = \"repl\"\n",
    "TS = \"timeseries\""
   ]
  },
  {
   "cell_type": "markdown",
   "metadata": {
    "tags": []
   },
   "source": [
    "# Helper Functions"
   ]
  },
  {
   "cell_type": "code",
   "execution_count": 3,
   "metadata": {},
   "outputs": [],
   "source": [
    "TEST_MODEL = \"\"\"\n",
    "A->B; A\n",
    "B->; k*B; \n",
    "A = 10; \n",
    "B=0\n",
    "k = 2\n",
    "\"\"\"\n",
    "TEST_MODEL_RR = te.loada(TEST_MODEL)\n",
    "TEST_MODEL_ARR = TEST_MODEL_RR.simulate()\n",
    "TEST_MODEL_TS = SBstoat.NamedTimeseries(array=TEST_MODEL_ARR, colnames=TEST_MODEL_ARR.colnames)"
   ]
  },
  {
   "cell_type": "code",
   "execution_count": 4,
   "metadata": {},
   "outputs": [
    {
     "name": "stdout",
     "output_type": "stream",
     "text": [
      "OK!\n"
     ]
    }
   ],
   "source": [
    "def arrToDF(arr):\n",
    "    \"\"\"\n",
    "    Converts a NamedArray into a DataFrame.\n",
    "    If it is simulation output, makes TIME the index.\n",
    "\n",
    "    Parameters\n",
    "    ----------\n",
    "    arr: NamedArray\n",
    "    \n",
    "    Returns\n",
    "    -------\n",
    "    DataFrame\n",
    "        Removes \"[\" , \"]\" from the names of species\n",
    "    \"\"\"\n",
    "    columns = [c[1:-1] if c[0] == \"[\" else c for c in arr.colnames]\n",
    "    df = pd.DataFrame(arr, columns=columns)\n",
    "    df = df.set_index(\"time\")\n",
    "    return df\n",
    "\n",
    "# Tests\n",
    "assert(isinstance(arrToDF(TEST_MODEL_ARR), pd.DataFrame))\n",
    "print(\"OK!\")"
   ]
  },
  {
   "cell_type": "code",
   "execution_count": 5,
   "metadata": {},
   "outputs": [
    {
     "name": "stdout",
     "output_type": "stream",
     "text": [
      "OK!\n"
     ]
    }
   ],
   "source": [
    "def arrToTS(arr):\n",
    "    \"\"\"\n",
    "    Converts NamedArray to a NamedTimeseries\n",
    "    \n",
    "    Parameters\n",
    "    ----------\n",
    "    arr: NamedArray\n",
    "    \n",
    "    Returns\n",
    "    -------\n",
    "    NamedTimeseries\n",
    "    \"\"\"\n",
    "    return SBstoat.NamedTimeseries(array=arr, colnames=arr.colnames)\n",
    "\n",
    "# Tests\n",
    "assert(isinstance(arrToTS(TEST_MODEL_ARR), SBstoat.NamedTimeseries))\n",
    "print(\"OK!\")"
   ]
  },
  {
   "cell_type": "code",
   "execution_count": 6,
   "metadata": {
    "tags": []
   },
   "outputs": [
    {
     "name": "stdout",
     "output_type": "stream",
     "text": [
      "OK!\n"
     ]
    }
   ],
   "source": [
    "def getParameterValueDct(model):\n",
    "    \"\"\"\n",
    "    Finds the name and value of all parameters.\n",
    "    \n",
    "    Parameters\n",
    "    ----------\n",
    "    model: str (Antimony model)\n",
    "    \n",
    "    Returns\n",
    "    -------\n",
    "    dict (key: str, value: float)\n",
    "    \"\"\"\n",
    "    rr = te.loada(model)\n",
    "    return {n: rr[n] for n in rr.model.getGlobalParameterIds()}\n",
    "\n",
    "# Tests\n",
    "dct = getParameterValueDct(TEST_MODEL)\n",
    "assert(isinstance(dct, dict))\n",
    "assert(\"k\" in dct.keys())\n",
    "print(\"OK!\")"
   ]
  },
  {
   "cell_type": "code",
   "execution_count": 7,
   "metadata": {},
   "outputs": [
    {
     "name": "stdout",
     "output_type": "stream",
     "text": [
      "OK!\n"
     ]
    }
   ],
   "source": [
    "FitterInfo = collections.namedtuple(\"FitterInfo\", \"rssq num_eval fitter max_err median_err\")\n",
    "\n",
    "def getFitterInfo(fitter):\n",
    "    \"\"\"\n",
    "    Calculates statistics for the accuracy of a fit.\n",
    "    \n",
    "    Parameters\n",
    "    ----------\n",
    "    fitter: SBstoat.ModelFitter\n",
    "    \n",
    "    Returns\n",
    "    -------\n",
    "    FitterInfo\n",
    "    \"\"\"\n",
    "    df = (fitter.residualsTS.to_dataframe()**2)\n",
    "    rssq = df.sum().sum()\n",
    "    # Find the number of function evaluations\n",
    "    report_stg = fitter.reportFit()\n",
    "    pos = report_stg.index(\"function evals\")\n",
    "    stg = report_stg[pos:]\n",
    "    start_pos = stg.index(\"=\") + 1\n",
    "    end_pos = stg.index(\"\\n\")\n",
    "    num_eval = int(stg[start_pos:end_pos])\n",
    "    # Get statistics on the fit\n",
    "    fitter.roadrunnerModel.resetAll()\n",
    "    parameter_value_dct = getParameterValueDct(fitter.roadrunnerModel.getAntimony())\n",
    "    errs = []\n",
    "    for key, value in fitter.params.valuesdict().items():\n",
    "        err = np.abs(value - parameter_value_dct[key])/parameter_value_dct[key]\n",
    "        errs.append(err)\n",
    "    max_err = max(errs)\n",
    "    median_err = np.median(errs)\n",
    "    #\n",
    "    return FitterInfo(rssq=rssq, num_eval=num_eval, fitter=fitter, max_err=max_err, median_err=median_err)\n",
    "    \n",
    "\n",
    "# Tests\n",
    "fitter = SBstoat.ModelFitter(TEST_MODEL, TEST_MODEL_TS, parametersToFit=[SBstoat.Parameter(\"k\", lower=1, value=1, upper=4)])\n",
    "fitter.fitModel()\n",
    "fitter_info = getFitterInfo(fitter)\n",
    "assert(np.isclose(fitter_info.rssq, 0))\n",
    "assert(fitter_info.num_eval < 10)\n",
    "print(\"OK!\")"
   ]
  },
  {
   "cell_type": "markdown",
   "metadata": {},
   "source": [
    "# Question 1: Acquire the model"
   ]
  },
  {
   "cell_type": "markdown",
   "metadata": {},
   "source": [
    "# Question 2: Data Generation"
   ]
  },
  {
   "cell_type": "markdown",
   "metadata": {},
   "source": [
    "# Question 3: Experiment Infrastructure"
   ]
  },
  {
   "cell_type": "markdown",
   "metadata": {},
   "source": [
    "# Question 4: Experiment Execution and Analysis"
   ]
  }
 ],
 "metadata": {
  "kernelspec": {
   "display_name": "Python 3 (ipykernel)",
   "language": "python",
   "name": "python3"
  },
  "language_info": {
   "codemirror_mode": {
    "name": "ipython",
    "version": 3
   },
   "file_extension": ".py",
   "mimetype": "text/x-python",
   "name": "python",
   "nbconvert_exporter": "python",
   "pygments_lexer": "ipython3",
   "version": "3.9.6"
  },
  "toc-autonumbering": true
 },
 "nbformat": 4,
 "nbformat_minor": 4
}

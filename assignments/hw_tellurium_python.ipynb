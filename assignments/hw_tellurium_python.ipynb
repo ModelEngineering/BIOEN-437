{
 "cells": [
  {
   "cell_type": "markdown",
   "id": "e212e17d-4be4-405f-9024-bb94ba766c3a",
   "metadata": {},
   "source": [
    "# HOMEWORK 1: TELLURIUM AND PYTHON"
   ]
  },
  {
   "cell_type": "code",
   "execution_count": 1,
   "id": "c3545562-e420-43a5-9ad0-60b56a64125c",
   "metadata": {},
   "outputs": [
    {
     "name": "stdout",
     "output_type": "stream",
     "text": [
      "\n",
      "\u001b[1m[\u001b[0m\u001b[34;49mnotice\u001b[0m\u001b[1;39;49m]\u001b[0m\u001b[39;49m A new release of pip available: \u001b[0m\u001b[31;49m22.3.1\u001b[0m\u001b[39;49m -> \u001b[0m\u001b[32;49m24.2\u001b[0m\n",
      "\u001b[1m[\u001b[0m\u001b[34;49mnotice\u001b[0m\u001b[1;39;49m]\u001b[0m\u001b[39;49m To update, run: \u001b[0m\u001b[32;49mpip install --upgrade pip\u001b[0m\n"
     ]
    }
   ],
   "source": [
    "# Preliminaries\n",
    "!pip install -q tellurium\n",
    "import tellurium as te\n",
    "import numpy as np\n",
    "import pandas as pd\n",
    "import matplotlib.pyplot as plt"
   ]
  },
  {
   "cell_type": "markdown",
   "id": "72cee766-7b96-43a4-8721-d79c0dd8ccc5",
   "metadata": {},
   "source": [
    "# Radio Immunoassays"
   ]
  },
  {
   "cell_type": "markdown",
   "id": "13226459-2a7d-4941-b6b0-70d51226b5bf",
   "metadata": {},
   "source": [
    "Antibodies are proteins with very high affinities to specific molecules called antigens. Because of their specificity,\n",
    "antibodies can be used to get very precise assays. One approach is radioimmunoassay (RIA).\n",
    "\n",
    "The principle of RIA involves competitive binding of radiolabeled antigen and unlabeled antigen to a high-affinity antibody. The labeled antigen is mixed with antibody at a concentration that saturates the antigen-binding sites of the antibody. Then test samples of unlabeled antigen of unknown concentration are added in progressively larger amounts. The antibody does not distinguish labeled from unlabeled antigen, so the two kinds of antigen compete for available binding sites on the antibody. As the concentration of unlabeled antigen increases, more labeled antigen will be displaced from the binding sites. The decrease in the amount of radiolabeled antigen bound to specific antibody in the presence of the test sample is measured in order to determine the amount of antigen present in the test sample."
   ]
  },
  {
   "cell_type": "markdown",
   "id": "0b31f5a4-3347-424c-a265-955e97cb7e54",
   "metadata": {},
   "source": [
    "In this problem, you will:\n",
    "1. (40 pt) Write an Antimony reaction network for the interactions between an antibody and its labelled and unlabelled antigen. Assume mass action kinetics with a kinetic constant of 1.\n",
    "1. (50 pt) Our intuition is that bound, labelled antigen should *decrease* as we increase the amount of unlabelled antigen (because of competition for antibody binding sites). Write a python funtion that calculates bound, labelled antigen at steady state from given an initial value of unlabelled antigen, then construct a plot that demonstrates this effect.\n",
    "1. (10 pt) Describe how a lab can use the curve you plotted in (2) to determine the concentration of antigen in a test specimen from the amount of unlabelled antigen.\n",
    "\n",
    "To simplify matters, use mass action kinetics in which all kinetic constants are 1."
   ]
  },
  {
   "cell_type": "markdown",
   "id": "47da2371-aa1f-457f-b2d2-dc098f172703",
   "metadata": {},
   "source": [
    "Requirements for the functions you write:\n",
    "1. Document the data type and semantics of the inputs to and outputs from functions\n",
    "1. The function must have a comment that describes what it does.\n",
    "1. Include a test. A test must have an ``assert`` statement."
   ]
  },
  {
   "cell_type": "markdown",
   "id": "3bd7e9e2-468e-4b01-90d2-ac14f7ac387e",
   "metadata": {},
   "source": [
    "# Q1: Antimony Model"
   ]
  },
  {
   "cell_type": "markdown",
   "id": "30c2d733-2729-4f9b-bdef-6a42812b6806",
   "metadata": {},
   "source": [
    "Let ``Agu`` be the unlabelled antigen and ``Agl`` be the labelled antigen. ``Ab`` is the antibody."
   ]
  },
  {
   "cell_type": "code",
   "execution_count": 2,
   "id": "c18d0f60-0d52-45b7-86bc-7021df86fe4a",
   "metadata": {},
   "outputs": [
    {
     "data": {
      "image/png": "[encoded data removed]",
      "text/plain": [
       "<Figure size 600x400 with 1 Axes>"
      ]
     },
     "metadata": {},
     "output_type": "display_data"
    }
   ],
   "source": [
    "antibody_model = \"\"\"\n",
    "Agu + Ab -> bound_unlabelled; k1*Agu*Ab\n",
    "Agl + Ab -> bound_labelled; k1*Agl*Ab\n",
    "bound_unlabelled -> Agu + Ab; k2*bound_unlabelled\n",
    "bound_labelled -> Agl + Ab; k2*bound_labelled\n",
    "\n",
    "Agu = 5\n",
    "Agl = 10\n",
    "Ab = 20\n",
    "bound_labelled = 0\n",
    "bound_unlabelled = 0\n",
    "k1 = 1\n",
    "k2 = 1\n",
    "\"\"\"\n",
    "rr = te.loada(antibody_model)\n",
    "rr.simulate()\n",
    "rr.plot()"
   ]
  },
  {
   "cell_type": "code",
   "execution_count": 3,
   "id": "ef0c58ab-ff0c-48de-9c92-d673bf3d8022",
   "metadata": {},
   "outputs": [
    {
     "data": {
      "text/plain": [
       "8.734013676289095"
      ]
     },
     "execution_count": 3,
     "metadata": {},
     "output_type": "execute_result"
    }
   ],
   "source": [
    "rr.steadyState()\n",
    "rr['bound_labelled']"
   ]
  },
  {
   "cell_type": "markdown",
   "id": "96f27af3-cbed-4bdb-8bd5-486748181135",
   "metadata": {},
   "source": [
    "# Q2: Evaluation of Antimony Model"
   ]
  },
  {
   "cell_type": "code",
   "execution_count": 4,
   "id": "173f4f41-f809-44e8-912d-e6adf8409b48",
   "metadata": {},
   "outputs": [
    {
     "name": "stdout",
     "output_type": "stream",
     "text": [
      "OK!\n"
     ]
    }
   ],
   "source": [
    "def findStationaryValue(roadrunner, species:str, max_time:float=1000, max_difference=0.001)->float:\n",
    "    \"\"\"\n",
    "    Determines the time, if any, at which species changes by no more than 1 percent. Assumes that rate of change is decreasing.\n",
    "    \n",
    "    Args:\n",
    "        roadrunner: Roadrunner object\n",
    "        species: Chemical species (without '[' ']')\n",
    "        max_time: seconds\n",
    "    \n",
    "    Returns:\n",
    "        Stationary value of species\n",
    "    \"\"\"\n",
    "    num_point = max_time*1000\n",
    "    rr.reset()\n",
    "    data = roadrunner.simulate(0, max_time, num_point, ['time', \"[\" + species + \"]\"])\n",
    "    diff_values = np.abs(np.diff(data[:, 1]))\n",
    "    idxs = np.array(diff_values < max_difference)\n",
    "    idxs = np.concatenate([[False], idxs])  # adjust the array length\n",
    "    return data[idxs, 1][0]\n",
    "\n",
    "# Tests\n",
    "rr = te.loada(antibody_model)\n",
    "assert(np.round(findStationaryValue(rr, 'bound_labelled', max_time=100), 1) == 8.6)\n",
    "print(\"OK!\")"
   ]
  },
  {
   "cell_type": "code",
   "execution_count": 5,
   "id": "5ae2ab36-d8b2-407d-b139-5bd4c813b815",
   "metadata": {},
   "outputs": [
    {
     "data": {
      "text/plain": [
       "8.6"
      ]
     },
     "execution_count": 5,
     "metadata": {},
     "output_type": "execute_result"
    }
   ],
   "source": [
    "np.round(findStationaryValue(rr, 'bound_labelled', max_time=100), 1)"
   ]
  },
  {
   "cell_type": "code",
   "execution_count": 6,
   "id": "564579c8-268b-4e28-8f93-738414e9604b",
   "metadata": {},
   "outputs": [
    {
     "name": "stdout",
     "output_type": "stream",
     "text": [
      "OK!\n"
     ]
    }
   ],
   "source": [
    "def calculateBoundLabelledAntigen(agu:np.ndarray[float])->np.ndarray[float]:\n",
    "    \"\"\"\n",
    "    Calculate the amount of bound labelled antigen at steady state given an amount of unlabelled antigen.\n",
    "    \n",
    "    Args:\n",
    "        agu: Unlabelled antigen\n",
    "    \"\"\"\n",
    "    if isinstance(agu, float) or isinstance(agu, int):\n",
    "        values = np.array([agu])\n",
    "    else:\n",
    "        values = agu\n",
    "    rr = te.loada(antibody_model)\n",
    "    results = []\n",
    "    for value in values:\n",
    "        rr['Agu'] = float(value)\n",
    "        bound_labelled = findStationaryValue(rr, 'bound_labelled')\n",
    "        results.append(bound_labelled)\n",
    "    return np.array(results)\n",
    "\n",
    "# Tests\n",
    "#assert(np.round(calculateBoundLabelledAntigen(5), 1)[0] == 4.6)\n",
    "assert(len(calculateBoundLabelledAntigen(range(2, 5)) == 3))\n",
    "print(\"OK!\")"
   ]
  },
  {
   "cell_type": "code",
   "execution_count": 8,
   "id": "f153cfe9-7c20-46a9-a3ea-b6745794d121",
   "metadata": {},
   "outputs": [
    {
     "data": {
      "image/png": "[encoded data removed]",
      "text/plain": [
       "<Figure size 640x480 with 1 Axes>"
      ]
     },
     "metadata": {},
     "output_type": "display_data"
    }
   ],
   "source": [
    "aguv = np.arange(1, 10, 0.1)\n",
    "plt.plot(aguv, calculateBoundLabelledAntigen(aguv))\n",
    "plt.xlabel('Agu')\n",
    "_ = plt.ylabel('Bound Agl')"
   ]
  },
  {
   "cell_type": "markdown",
   "id": "aeb81266-0771-45fa-a566-6246761f643a",
   "metadata": {},
   "source": [
    "**Bug** Why the initial increase?"
   ]
  },
  {
   "cell_type": "markdown",
   "id": "5d35d0c1-c8b4-4469-99b1-9803fbb20f06",
   "metadata": {},
   "source": [
    "# Q3: Application of the analysis"
   ]
  },
  {
   "cell_type": "markdown",
   "id": "225c3b49-85cd-4897-a740-138ad7e36931",
   "metadata": {},
   "source": [
    "We can determine the amount of unlabelled antigen by locating the amount of bound, labelled antigen in the above curve and finding the associated amount of Agu."
   ]
  }
 ],
 "metadata": {
  "kernelspec": {
   "display_name": "Python 3 (ipykernel)",
   "language": "python",
   "name": "python3"
  },
  "language_info": {
   "codemirror_mode": {
    "name": "ipython",
    "version": 3
   },
   "file_extension": ".py",
   "mimetype": "text/x-python",
   "name": "python",
   "nbconvert_exporter": "python",
   "pygments_lexer": "ipython3",
   "version": "3.9.6"
  }
 },
 "nbformat": 4,
 "nbformat_minor": 5
}

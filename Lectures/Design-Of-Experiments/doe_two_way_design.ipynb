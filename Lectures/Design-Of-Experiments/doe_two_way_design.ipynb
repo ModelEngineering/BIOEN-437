{
 "cells": [
  {
   "cell_type": "markdown",
   "metadata": {},
   "source": [
    "# TWO WAY DESIGN (2WD)"
   ]
  },
  {
   "cell_type": "markdown",
   "metadata": {},
   "source": [
    "This lecture continues the analysis of the Wolf model of glycolytic oscillations to consider the effects of two parameters in combination."
   ]
  },
  {
   "cell_type": "markdown",
   "metadata": {},
   "source": [
    "A two way design (2WD) is used to identify interactions between factors.\n",
    "This means that there is an experiment for every combination of levels of both factors.\n",
    "That is, there are $n_1 \\times n_2$ experiments if there are $n_i$ levels of the two factors."
   ]
  },
  {
   "cell_type": "markdown",
   "metadata": {
    "tags": []
   },
   "source": [
    "## Challenges"
   ]
  },
  {
   "cell_type": "markdown",
   "metadata": {},
   "source": [
    "1. **Combinatorics.**\n",
    "The Wolf model has 16 parameters, which means that there are 120 interactions, each of which need to be calculated at several levels.\n",
    "With 10 levels for each interaction, this results in $10 \\times 10 \\times 120 = 12,000$ constants to calculate.\n",
    "1. **Visualization.**\n",
    "How should we present the responses that clearly presents which interaction terms are displayed, their values, and patterns in the responses?\n",
    "1. **Generalizing 1WD codes for 2WD**. ``runExperiments`` and other codes assumed a 1-way interaction."
   ]
  },
  {
   "cell_type": "markdown",
   "metadata": {
    "id": "X4HXBAyUeYDV",
    "tags": []
   },
   "source": [
    "# Preliminaries"
   ]
  },
  {
   "cell_type": "markdown",
   "metadata": {},
   "source": [
    "## Imports"
   ]
  },
  {
   "cell_type": "code",
   "execution_count": 1,
   "metadata": {
    "executionInfo": {
     "elapsed": 1802,
     "status": "ok",
     "timestamp": 1626975103536,
     "user": {
      "displayName": "Joseph Hellerstein",
      "photoUrl": "https://lh3.googleusercontent.com/a-/AOh14Ggr-yAwbfqFCOlFTHoKepUYJ9VjZuCGILW-YdHvUQ=s64",
      "userId": "07301174361489660166"
     },
     "user_tz": 420
    },
    "id": "vTtDaMhYeYDW"
   },
   "outputs": [],
   "source": [
    "!pip install -q tellurium\n",
    "#\n",
    "import matplotlib.pyplot as plt\n",
    "import matplotlib.gridspec as gridspec\n",
    "import numpy as np\n",
    "import pandas as pd\n",
    "from scipy import fftpack\n",
    "import tellurium as te\n",
    "import seaborn as sns"
   ]
  },
  {
   "cell_type": "markdown",
   "metadata": {},
   "source": [
    "## Constants for models and simulation"
   ]
  },
  {
   "cell_type": "code",
   "execution_count": 2,
   "metadata": {},
   "outputs": [],
   "source": [
    "# Constants\n",
    "TIME = \"time\"\n",
    "# Constants used in the analysis of the Wolf model\n",
    "START = 0\n",
    "END = 20\n",
    "NUMPT = 1000  # number of points to simulate"
   ]
  },
  {
   "cell_type": "markdown",
   "metadata": {},
   "source": [
    "## General helper Functions"
   ]
  },
  {
   "cell_type": "code",
   "execution_count": 3,
   "metadata": {},
   "outputs": [],
   "source": [
    "TEST_MODEL = \"\"\"\n",
    "A -> B; k*A\n",
    "\n",
    "k = 1\n",
    "A = 0\n",
    "\"\"\"\n",
    "TEST_RR = te.loada(TEST_MODEL)"
   ]
  },
  {
   "cell_type": "code",
   "execution_count": 4,
   "metadata": {},
   "outputs": [],
   "source": [
    "def arrToDF(arr):\n",
    "    \"\"\"\n",
    "    Converts a NamedArray to a DataFrame.\n",
    "    \n",
    "    Parameters\n",
    "    ----------\n",
    "    arr: NamedArray\n",
    "    \n",
    "    Returns\n",
    "    -------\n",
    "    DataFrame\n",
    "        Removes \"[\" , \"]\" from the names of species\n",
    "        Index: time\n",
    "    \"\"\"\n",
    "    columns = [c[1:-1] if c[0] == \"[\" else c for c in arr.colnames]\n",
    "    df = pd.DataFrame(arr, columns=columns)\n",
    "    return df.set_index(TIME)\n",
    "\n",
    "# TESTS\n",
    "rr = te.loada(\"A -> B; 1; A=0; B=0; a=2\")\n",
    "arr = rr.simulate()\n",
    "df = arrToDF(arr)\n",
    "assert(isinstance(df, pd.DataFrame))\n",
    "trues = [\"[\" not in c and \"]\" not in c for c in df.columns]\n",
    "assert(all(trues))"
   ]
  },
  {
   "cell_type": "code",
   "execution_count": 5,
   "metadata": {},
   "outputs": [],
   "source": [
    "TEST_DF = arrToDF(TEST_RR.simulate())"
   ]
  },
  {
   "cell_type": "code",
   "execution_count": 6,
   "metadata": {},
   "outputs": [
    {
     "name": "stdout",
     "output_type": "stream",
     "text": [
      "OK!\n"
     ]
    }
   ],
   "source": [
    "def getParameterValueDct(model):\n",
    "    \"\"\"\n",
    "    Finds the name and value of all parameters.\n",
    "    \n",
    "    Parameters\n",
    "    ----------\n",
    "    model: str (Antimony model)\n",
    "    \n",
    "    Returns\n",
    "    -------\n",
    "    dict (key: str, value: float)\n",
    "    \"\"\"\n",
    "    rr = te.loada(model)\n",
    "    dct = {}\n",
    "    for parameter_name in rr.model.getGlobalParameterIds():\n",
    "        try:\n",
    "            rr[parameter_name] = rr[parameter_name]\n",
    "            dct[parameter_name] = rr[parameter_name]\n",
    "        except:\n",
    "            pass\n",
    "    return dct\n",
    "                \n",
    "# Tests\n",
    "dct = getParameterValueDct(TEST_MODEL)\n",
    "assert(isinstance(dct, dict))\n",
    "assert(\"k\" in dct.keys())\n",
    "print(\"OK!\")"
   ]
  },
  {
   "cell_type": "markdown",
   "metadata": {},
   "source": [
    "## DOE Helper functions"
   ]
  },
  {
   "cell_type": "code",
   "execution_count": 7,
   "metadata": {},
   "outputs": [
    {
     "name": "stdout",
     "output_type": "stream",
     "text": [
      "OK!\n"
     ]
    }
   ],
   "source": [
    "def runSimulation(model, parameter_dct, roadrunner=None,\n",
    "      startTime=START, endTime=END, numPoint=NUMPT):\n",
    "    \"\"\"\n",
    "    Runs a simulation for parameters with percentage changes from baseline values.\n",
    "\n",
    "    Parameters\n",
    "    ----------\n",
    "    parameter_dct: dict\n",
    "       key: parameter\n",
    "       value: float\n",
    "           percent change\n",
    "    roadrunner: ExtendedRoadRunner\n",
    "    startTime: float\n",
    "    endTime: float\n",
    "    numPoint: int\n",
    "       \n",
    "    Returns\n",
    "    -------\n",
    "    DataFrame: simulation results\n",
    "        index: time\n",
    "        columns: floating species\n",
    "    \"\"\"\n",
    "    if roadrunner is None:\n",
    "        roadrunner = te.loada(model)\n",
    "    else:\n",
    "        roadrunner.resetAll()\n",
    "    for parameter, percent in parameter_dct.items():\n",
    "        baseValue = roadrunner[parameter]\n",
    "        roadrunner[parameter] = baseValue*(1 + 0.01*percent)\n",
    "    # Run the simulation\n",
    "    data = roadrunner.simulate(startTime, endTime, numPoint)\n",
    "    return arrToDF(data)\n",
    "\n",
    "# Tests\n",
    "parameter_dct = {\"k\": 10}\n",
    "df = runSimulation(TEST_MODEL, parameter_dct)\n",
    "assert(isinstance(df, pd.DataFrame))\n",
    "assert(len(df) > 0)\n",
    "print(\"OK!\")"
   ]
  },
  {
   "cell_type": "code",
   "execution_count": 8,
   "metadata": {},
   "outputs": [
    {
     "name": "stdout",
     "output_type": "stream",
     "text": [
      "OK!\n"
     ]
    }
   ],
   "source": [
    "def runSimulations(model, parameter, percents, isPlot=True):\n",
    "    \"\"\"\n",
    "    Runs experiments and produces plots for the percent changes in parameter values.\n",
    "\n",
    "    Parameters\n",
    "    ----------\n",
    "    parameter: str\n",
    "    percents: list-float\n",
    "        list of percent change in values\n",
    "          (smallest value is -100)\n",
    "    model: str (Antimony model)\n",
    "          \n",
    "    Returns\n",
    "    -------\n",
    "    dict:\n",
    "        key: pct\n",
    "        value: DataFrame\n",
    "    \"\"\"\n",
    "    dct = {}\n",
    "    for percent in percents:\n",
    "        dct[percent] = runSimulation(model, {parameter: percent})\n",
    "    return dct\n",
    "\n",
    "# Tests\n",
    "percents = [-10, 0, 10]\n",
    "resultDct = runSimulations(TEST_MODEL, \"k\", percents, isPlot=False)\n",
    "assert(len(set(percents).symmetric_difference(resultDct.keys())) == 0)\n",
    "print(\"OK!\")"
   ]
  },
  {
   "cell_type": "code",
   "execution_count": 9,
   "metadata": {
    "executionInfo": {
     "elapsed": 240,
     "status": "ok",
     "timestamp": 1626975106219,
     "user": {
      "displayName": "Joseph Hellerstein",
      "photoUrl": "https://lh3.googleusercontent.com/a-/AOh14Ggr-yAwbfqFCOlFTHoKepUYJ9VjZuCGILW-YdHvUQ=s64",
      "userId": "07301174361489660166"
     },
     "user_tz": 420
    },
    "id": "WqxyeG5VeYDa"
   },
   "outputs": [
    {
     "name": "stdout",
     "output_type": "stream",
     "text": [
      "OK!\n"
     ]
    }
   ],
   "source": [
    "def calculateFft(molecule, df, offset=100):\n",
    "    \"\"\"\n",
    "    Calculate the FFT for a molecule in the simulation output.\n",
    "    The calculation does not include amplitudes at a frequency of 0.\n",
    "    \n",
    "    Parameters\n",
    "    ----------\n",
    "    molecule: str\n",
    "    df: DataFrame\n",
    "        index: time\n",
    "        columns: species\n",
    "    offset: int\n",
    "        Initial data that are not included in the FFT calculation\n",
    "             \n",
    "    Returns\n",
    "    -------\n",
    "    list-float, list-float\n",
    "        freqs, fftValues\n",
    "    \"\"\"\n",
    "    times = np.array(df.index)\n",
    "    values = df[molecule].values\n",
    "    numPoint = len(times)\n",
    "    count = numPoint - offset\n",
    "    if count < 5:\n",
    "        raise ValueError(\"Too few points. Offset is too large.\")\n",
    "    endTime = times[-1]\n",
    "    freqs = fftpack.fftfreq(count, endTime/numPoint)\n",
    "    fftValues = np.abs(fftpack.fft(values[offset:]))\n",
    "    # Eliminate frequency of 0\n",
    "    freqs = freqs[1:]\n",
    "    fftValues = fftValues[1:]\n",
    "    return freqs, fftValues\n",
    "\n",
    "# Tests\n",
    "freqs, fftValues = calculateFft(\"A\", TEST_DF, offset=0)\n",
    "assert(len(freqs) > 0)  # Top frequency should have a large magnitude\n",
    "print(\"OK!\")"
   ]
  },
  {
   "cell_type": "code",
   "execution_count": 18,
   "metadata": {
    "executionInfo": {
     "elapsed": 5,
     "status": "ok",
     "timestamp": 1626975106220,
     "user": {
      "displayName": "Joseph Hellerstein",
      "photoUrl": "https://lh3.googleusercontent.com/a-/AOh14Ggr-yAwbfqFCOlFTHoKepUYJ9VjZuCGILW-YdHvUQ=s64",
      "userId": "07301174361489660166"
     },
     "user_tz": 420
    },
    "id": "ZONuGXbi3Tuj"
   },
   "outputs": [
    {
     "name": "stdout",
     "output_type": "stream",
     "text": [
      "OK!\n"
     ]
    }
   ],
   "source": [
    "def calculatePeak(molecule, data_df, numDelete=0, offset=100):\n",
    "    \"\"\"\n",
    "    Calculate the FFT for a molecule in the simulation output.\n",
    "    The calculation does not include amplitudes at a frequency of 0.\n",
    "    \n",
    "    Parameters\n",
    "    ----------\n",
    "    molecule: str\n",
    "    data_df: DataFrame\n",
    "    offset: int\n",
    "        Initial data that are not included in the FFT calculation\n",
    "             \n",
    "    Returns\n",
    "    -------\n",
    "    float: peak frequency\n",
    "    float: amplitude at peak frequency\n",
    "    \"\"\"\n",
    "    def getIndexOfMax(arr):\n",
    "        maxx = max(arr)\n",
    "        lst = list(arr)\n",
    "        return lst.index(maxx)\n",
    "    def deleteArrayElement(arr, idx):\n",
    "        lst = list(arr)\n",
    "        lst1 = lst[:idx]\n",
    "        lst2 = lst[idx+1:]\n",
    "        newLst = lst1.extend(lst2)\n",
    "        return np.array(lst1)    \n",
    "    #\n",
    "    frequencies, amplitudes = calculateFft(molecule, data_df, offset=offset)\n",
    "    # Delete the largest N values\n",
    "    for _ in range(numDelete):\n",
    "        maxIdx = getIndexOfMax(amplitudes)\n",
    "        frequencies = deleteArrayElement(frequencies, maxIdx)\n",
    "        amplitudes = deleteArrayElement(amplitudes, maxIdx)\n",
    "    # Report the next highest value\n",
    "    maxIdx = getIndexOfMax(amplitudes)\n",
    "    return frequencies[maxIdx], amplitudes[maxIdx]\n",
    "\n",
    "# TESTS\n",
    "peak_frequency, peak_amplitude = calculatePeak(\"A\", TEST_DF, offset=0)\n",
    "assert(peak_frequency > 0)\n",
    "print(\"OK!\")"
   ]
  },
  {
   "cell_type": "code",
   "execution_count": 19,
   "metadata": {},
   "outputs": [
    {
     "name": "stdout",
     "output_type": "stream",
     "text": [
      "OK!\n"
     ]
    }
   ],
   "source": [
    "def runFFTExperiment(model, parameter_dct, offset=100, **kwargs):\n",
    "    \"\"\" \n",
    "    Runs an experiment by changing parameters by the specified\n",
    "    fractions and calculating FFT peak frequencies and amplitudes.\n",
    "    \n",
    "    Parameters\n",
    "    ----------\n",
    "    model: str (Antimony model)\n",
    "    parameter_dct: dict\n",
    "       key: parameter name\n",
    "       value: percent change the parameter\n",
    "    offset: int\n",
    "    kwargs: dict\n",
    "       keyword arguments passed to runSimulation\n",
    "       \n",
    "    Returns\n",
    "    -------\n",
    "    amplitude_ser: pd.Series\n",
    "        index: molecule\n",
    "        value: frequency with largest amplitude\n",
    "    \"\"\"\n",
    "    df = runSimulation(model, parameter_dct, **kwargs)\n",
    "    dct = {}\n",
    "    for molecule in df.columns:\n",
    "        _, amplitude = calculatePeak(molecule, df, offset=offset) \n",
    "        dct[molecule] = amplitude\n",
    "    return pd.Series(dct)\n",
    "\n",
    "# Tests\n",
    "parameter_dct = {\"k\": 5}\n",
    "ampl_ser = runFFTExperiment(TEST_MODEL, parameter_dct, offset=0)\n",
    "freq_ser = runFFTExperiment(TEST_MODEL, {}, offset=0)\n",
    "assert(isinstance(freq_ser, pd.Series))\n",
    "assert(len(freq_ser) > 0)\n",
    "print(\"OK!\")"
   ]
  },
  {
   "cell_type": "markdown",
   "metadata": {
    "id": "IW3R97u6eYDW"
   },
   "source": [
    "# Wolf Model"
   ]
  },
  {
   "cell_type": "code",
   "execution_count": 12,
   "metadata": {},
   "outputs": [],
   "source": [
    "WOLF_MODEL = \"\"\"\n",
    "// Created by libAntimony v2.12.0.3\n",
    "model *Jana_WolfGlycolysis()\n",
    "\n",
    "  // Compartments and Species:\n",
    "  compartment compartment_;\n",
    "  species Glucose in compartment_, fructose_1_6_bisphosphate in compartment_;\n",
    "  species glyceraldehyde_3_phosphate in compartment_, glycerate_3_phosphate in compartment_;\n",
    "  species pyruvate in compartment_, Acetyladehyde in compartment_, External_acetaldehyde in compartment_;\n",
    "  species ATP in compartment_, ADP in compartment_, NAD in compartment_, NADH in compartment_;\n",
    "  species $External_glucose in compartment_, $ethanol in compartment_, $Glycerol in compartment_;\n",
    "  species $Sink in compartment_;\n",
    "\n",
    "  // Reactions:\n",
    "  J0: $External_glucose => Glucose; J0_inputFlux;\n",
    "  J1: Glucose + 2 ATP => fructose_1_6_bisphosphate + 2 ADP; J1_k1*Glucose*ATP*(1/(1 + (ATP/J1_Ki)^J1_n));\n",
    "  J2: fructose_1_6_bisphosphate => glyceraldehyde_3_phosphate + glyceraldehyde_3_phosphate; J2_k*fructose_1_6_bisphosphate;\n",
    "  J3: glyceraldehyde_3_phosphate + NADH => NAD + $Glycerol; J3_k*glyceraldehyde_3_phosphate*NADH;\n",
    "  J4: glyceraldehyde_3_phosphate + ADP + NAD => ATP + glycerate_3_phosphate + NADH; (J4_kg*J4_kp*glyceraldehyde_3_phosphate*NAD*ADP - J4_ka*J4_kk*glycerate_3_phosphate*ATP*NADH)/(J4_ka*NADH + J4_kp*ADP);\n",
    "  J5: glycerate_3_phosphate + ADP => ATP + pyruvate; J5_k*glycerate_3_phosphate*ADP;\n",
    "  J6: pyruvate => Acetyladehyde; J6_k*pyruvate;\n",
    "  J7: Acetyladehyde + NADH => NAD + $ethanol; J7_k*Acetyladehyde*NADH;\n",
    "  J8: Acetyladehyde => External_acetaldehyde; J8_k1*Acetyladehyde - J8_k2*External_acetaldehyde;\n",
    "  J9: ATP => ADP; J9_k*ATP;\n",
    "  J10: External_acetaldehyde => $Sink; J10_k*External_acetaldehyde;\n",
    "\n",
    "  // Species initializations:\n",
    "  Glucose = 0;\n",
    "  fructose_1_6_bisphosphate = 0;\n",
    "  glyceraldehyde_3_phosphate = 0;\n",
    "  glycerate_3_phosphate = 0;\n",
    "  pyruvate = 0;\n",
    "  Acetyladehyde = 0;\n",
    "  External_acetaldehyde = 0;\n",
    "  ATP = 3;\n",
    "  ADP = 1;\n",
    "  NAD = 0.5;\n",
    "  NADH = 0.5;\n",
    "  External_glucose = 0;\n",
    "  ethanol = 0;\n",
    "  Glycerol = 0;\n",
    "  Sink = 0;\n",
    "\n",
    "  // Compartment initializations:\n",
    "  compartment_ = 1;\n",
    "\n",
    "  // Variable initializations:\n",
    "  J0_inputFlux = 50;\n",
    "  J1_k1 = 550;\n",
    "  J1_Ki = 1;\n",
    "  J1_n = 4;\n",
    "  J2_k = 9.8;\n",
    "  J3_k = 85.7;\n",
    "  J4_kg = 323.8;\n",
    "  J4_kp = 76411.1;\n",
    "  J4_ka = 57823.1;\n",
    "  J4_kk = 23.7;\n",
    "  J5_k = 80;\n",
    "  J6_k = 9.7;\n",
    "  J7_k = 2000;\n",
    "  J8_k1 = 375;\n",
    "  J8_k2 = 375;\n",
    "  J9_k = 28;\n",
    "  J10_k = 80;\n",
    "  \n",
    "  // Other declarations:\n",
    "  const compartment_, J0_inputFlux, J1_k1, J1_Ki, J1_n, J2_k, J3_k;\n",
    "  const J4_kg, J4_kp, J4_ka, J4_kk, J5_k, J6_k, J7_k, J8_k1, J8_k2;\n",
    "  const J9_k, J10_k;\n",
    "end\n",
    "\"\"\""
   ]
  },
  {
   "cell_type": "code",
   "execution_count": 13,
   "metadata": {
    "executionInfo": {
     "elapsed": 8,
     "status": "ok",
     "timestamp": 1626975103542,
     "user": {
      "displayName": "Joseph Hellerstein",
      "photoUrl": "https://lh3.googleusercontent.com/a-/AOh14Ggr-yAwbfqFCOlFTHoKepUYJ9VjZuCGILW-YdHvUQ=s64",
      "userId": "07301174361489660166"
     },
     "user_tz": 420
    },
    "id": "EHwnz6sDeYDY"
   },
   "outputs": [],
   "source": [
    "# Constants used in the analysis of the Wolf model\n",
    "START = 0\n",
    "END = 5\n",
    "NUMPT = 1000  # number of points to simulate\n",
    "WOLF_RR = te.loada(WOLF_MODEL)\n",
    "PARAMETER_DCT = getParameterValueDct(WOLF_MODEL)\n",
    "WOLF_FACTORS = list(PARAMETER_DCT.keys())\n",
    "rr = te.loada(WOLF_MODEL)\n",
    "WOLF_DF = arrToDF(rr.simulate(START, END, NUMPT))\n",
    "WOLF_SPECIES = list(WOLF_DF.columns)\n",
    "SPECIES = \"Glucose\"  # Used in tests\n",
    "PARAMETER = \"J1_k1\"  # Used in tests"
   ]
  },
  {
   "cell_type": "markdown",
   "metadata": {},
   "source": [
    "# Generalize runExperiments\n",
    "Generalize ``runExperiments`` so that it calculates responses for all combinations of levels of two factors."
   ]
  },
  {
   "cell_type": "code",
   "execution_count": 25,
   "metadata": {},
   "outputs": [
    {
     "name": "stdout",
     "output_type": "stream",
     "text": [
      "OK!\n"
     ]
    }
   ],
   "source": [
    "def runExperiments2WD(model, factor1, factor2, percent1s, percent2s, isRelative=True):\n",
    "    \"\"\"\n",
    "    Runs experiments for multiple factors at different percent changes in factor levels.\n",
    "    \n",
    "    Parameter\n",
    "    ---------\n",
    "    model: str (Antimony model)\n",
    "    factor1: str\n",
    "    factor2: str\n",
    "    percent1s: list-int\n",
    "    percent2s: list-int\n",
    "    isRelative: bool\n",
    "        True: values are percent changes relative to baseline\n",
    "        False: absolute value\n",
    "        \n",
    "    Returns\n",
    "    -------\n",
    "    amplitude_df: DataFrame; amplitude: DataFrame\n",
    "       index: tuple of percent changes in factor values\n",
    "       columns: molecule\n",
    "       value: depends on isRelative\n",
    "       index.name: string of tuple (rowFactor, columnFactor)\n",
    "    \"\"\"\n",
    "    # Constants\n",
    "    INDEX1 = \"index1\"\n",
    "    INDEX2 = \"index2\"\n",
    "    def appendSer(ser, baseSer, sers):\n",
    "        adjSer = 100*(ser - baseSer) / baseSer\n",
    "        sers.append(pd.DataFrame(adjSer).transpose())\n",
    "    def calcResult(sers):\n",
    "        resultDF = pd.concat(sers)\n",
    "        resultDF[INDEX1] = index1\n",
    "        resultDF[INDEX2] = index2\n",
    "        resultDF = resultDF.set_index([index1, index2])\n",
    "        for column in [INDEX1, INDEX2]:\n",
    "            del resultDF[column]\n",
    "        resultDF.index.name = str((factor1, factor2))\n",
    "        return resultDF\n",
    "    # Initializations\n",
    "    index1 = []\n",
    "    index2 = []\n",
    "    amplitude_sers = []  # Collection of experiment results\n",
    "    base_amplitude_ser = runFFTExperiment(model, {})\n",
    "    # Calculate the changes\n",
    "    for percent1 in percent1s:\n",
    "        for percent2 in percent2s:\n",
    "            #indices.append(\"%d_%d\" % (percent1, percent2))\n",
    "            index1.append(percent1)\n",
    "            index2.append(percent2)\n",
    "            factorDct = {factor1: percent1, factor2: percent2}\n",
    "            amplitude_ser = runFFTExperiment(model, factorDct)\n",
    "            appendSer(amplitude_ser, base_amplitude_ser, amplitude_sers)\n",
    "    # Construct the result dataframe\n",
    "    amplitude_df = calcResult(amplitude_sers)\n",
    "    return amplitude_df\n",
    "\n",
    "# Tests\n",
    "percents = [-7, -5, -2, 0, 2, 5, 7]\n",
    "amplitude_df = runExperiments2WD(WOLF_MODEL, WOLF_FACTORS[0], WOLF_FACTORS[1], percents, percents)\n",
    "assert(amplitude_df.loc[(-7, -7), \"Glucose\"] > 0 )\n",
    "print(\"OK!\")"
   ]
  },
  {
   "cell_type": "code",
   "execution_count": 30,
   "metadata": {},
   "outputs": [],
   "source": [
    "AMPLITUDE_DF = amplitude_df"
   ]
  },
  {
   "cell_type": "markdown",
   "metadata": {},
   "source": [
    "**Data: Response2WDDF**. We will describe the response for a 2WD using a dataframe structured as above.\n",
    "* Columns: names of factors\n",
    "* index.name: str(str, str) - factors changed\n",
    "* Index: (int, int) (in same order as index)\n",
    "* Values: float (percent change)"
   ]
  },
  {
   "cell_type": "markdown",
   "metadata": {},
   "source": [
    "# Visualizing results of an Experiment"
   ]
  },
  {
   "cell_type": "markdown",
   "metadata": {},
   "source": [
    "We will visualize the 2FD reponses using a heatmap. The horizontal and vertical axes\n",
    "will be percent changes in parameter values; cells will be colored with the change in magnitude."
   ]
  },
  {
   "cell_type": "code",
   "execution_count": 26,
   "metadata": {},
   "outputs": [
    {
     "data": {
      "text/plain": [
       "['J0_inputFlux',\n",
       " 'J1_k1',\n",
       " 'J1_Ki',\n",
       " 'J1_n',\n",
       " 'J2_k',\n",
       " 'J3_k',\n",
       " 'J4_kg',\n",
       " 'J4_kp',\n",
       " 'J4_ka',\n",
       " 'J4_kk',\n",
       " 'J5_k',\n",
       " 'J6_k',\n",
       " 'J7_k',\n",
       " 'J8_k1',\n",
       " 'J8_k2',\n",
       " 'J9_k',\n",
       " 'J10_k']"
      ]
     },
     "execution_count": 26,
     "metadata": {},
     "output_type": "execute_result"
    }
   ],
   "source": [
    "WOLF_FACTORS"
   ]
  },
  {
   "cell_type": "code",
   "execution_count": 29,
   "metadata": {},
   "outputs": [
    {
     "data": {
      "image/png": "[encoded data removed]",
      "text/plain": [
       "<Figure size 432x288 with 2 Axes>"
      ]
     },
     "metadata": {
      "needs_background": "light"
     },
     "output_type": "display_data"
    }
   ],
   "source": [
    "# Presentation of all variables that scales to a large number of interactions\n",
    "percents = [-10, -5, 0, 5, 10]\n",
    "amplitude_df = runExperiments2WD(WOLF_MODEL, \"J1_k1\", \"J1_Ki\", percents, percents)\n",
    "_ = sns.heatmap(freq_df.transpose(), cmap='seismic', vmin=-100, vmax=100)"
   ]
  },
  {
   "cell_type": "markdown",
   "metadata": {},
   "source": [
    "Insights\n",
    "1. All chemical species have similar trends in osciallation patterns.\n",
    "1. J1_Ki has more influence on oscillation frequency than J1_k1.\n",
    "1. Non-monotone effect when J1_Ki is increased in that oscillation frequency increase and then radically fall."
   ]
  },
  {
   "cell_type": "markdown",
   "metadata": {},
   "source": [
    "## Visualizing interactions for a single molecule"
   ]
  },
  {
   "cell_type": "code",
   "execution_count": null,
   "metadata": {},
   "outputs": [],
   "source": []
  },
  {
   "cell_type": "markdown",
   "metadata": {},
   "source": [
    "The following code makes use of the pandas ``pivot`` function to create a table where rows and columns represent different levels of the two factors."
   ]
  },
  {
   "cell_type": "code",
   "execution_count": 32,
   "metadata": {},
   "outputs": [
    {
     "name": "stdout",
     "output_type": "stream",
     "text": [
      "OK!\n"
     ]
    }
   ],
   "source": [
    "def pivotResponse(responseDF, molecule):\n",
    "    \"\"\"\n",
    "    Creates a DataFrame in which values of the parameters are rows and columns.\n",
    "    \n",
    "    Parameters\n",
    "    ----------\n",
    "    responseDF: DataFrame\n",
    "        columns: molecule names\n",
    "        rows: tuple of percent changes in parameters\n",
    "        values: response\n",
    "        index.name: string of tuple (rowParameter, columnParameter)\n",
    "    molecule: str\n",
    "        \n",
    "    Returns\n",
    "    -------\n",
    "    DataFrame\n",
    "        columns: values of columnParameter\n",
    "        rows: values of rowParameter\n",
    "        cells: response for molecule\n",
    "    \"\"\"\n",
    "    LEVEL0 = \"level_0\"\n",
    "    LEVEL1 = \"level_1\"\n",
    "    df = responseDF.reset_index()\n",
    "    resultDF = pd.pivot_table(df, values=molecule, index=LEVEL0, columns=LEVEL1)\n",
    "    parameters = eval(responseDF.index.name)\n",
    "    resultDF.index.name = parameters[0]\n",
    "    resultDF.columns.name = parameters[1]\n",
    "    return resultDF\n",
    "\n",
    "# Tests\n",
    "df = pivotResponse(AMPLITUDE_DF, \"Glucose\")\n",
    "assert(len(df.index) == len(df.columns))\n",
    "print(\"OK!\")"
   ]
  },
  {
   "cell_type": "code",
   "execution_count": 33,
   "metadata": {},
   "outputs": [
    {
     "data": {
      "text/html": [
       "<div>\n",
       "<style scoped>\n",
       "    .dataframe tbody tr th:only-of-type {\n",
       "        vertical-align: middle;\n",
       "    }\n",
       "\n",
       "    .dataframe tbody tr th {\n",
       "        vertical-align: top;\n",
       "    }\n",
       "\n",
       "    .dataframe thead th {\n",
       "        text-align: right;\n",
       "    }\n",
       "</style>\n",
       "<table border=\"1\" class=\"dataframe\">\n",
       "  <thead>\n",
       "    <tr style=\"text-align: right;\">\n",
       "      <th>J1_Ki</th>\n",
       "      <th>-10</th>\n",
       "      <th>-5</th>\n",
       "      <th>0</th>\n",
       "      <th>5</th>\n",
       "      <th>10</th>\n",
       "    </tr>\n",
       "    <tr>\n",
       "      <th>J1_k1</th>\n",
       "      <th></th>\n",
       "      <th></th>\n",
       "      <th></th>\n",
       "      <th></th>\n",
       "      <th></th>\n",
       "    </tr>\n",
       "  </thead>\n",
       "  <tbody>\n",
       "    <tr>\n",
       "      <th>-10</th>\n",
       "      <td>142.398819</td>\n",
       "      <td>96.059513</td>\n",
       "      <td>67.674475</td>\n",
       "      <td>35.191743</td>\n",
       "      <td>-32.062952</td>\n",
       "    </tr>\n",
       "    <tr>\n",
       "      <th>-5</th>\n",
       "      <td>117.486922</td>\n",
       "      <td>62.576490</td>\n",
       "      <td>50.660428</td>\n",
       "      <td>17.907062</td>\n",
       "      <td>-46.968299</td>\n",
       "    </tr>\n",
       "    <tr>\n",
       "      <th>0</th>\n",
       "      <td>85.349679</td>\n",
       "      <td>79.754816</td>\n",
       "      <td>0.000000</td>\n",
       "      <td>-4.881340</td>\n",
       "      <td>-99.608562</td>\n",
       "    </tr>\n",
       "    <tr>\n",
       "      <th>5</th>\n",
       "      <td>55.807391</td>\n",
       "      <td>27.188193</td>\n",
       "      <td>40.115591</td>\n",
       "      <td>-18.651497</td>\n",
       "      <td>-99.647327</td>\n",
       "    </tr>\n",
       "    <tr>\n",
       "      <th>10</th>\n",
       "      <td>33.801171</td>\n",
       "      <td>68.307025</td>\n",
       "      <td>-2.754446</td>\n",
       "      <td>-33.006897</td>\n",
       "      <td>-99.680960</td>\n",
       "    </tr>\n",
       "  </tbody>\n",
       "</table>\n",
       "</div>"
      ],
      "text/plain": [
       "J1_Ki         -10        -5          0          5          10\n",
       "J1_k1                                                        \n",
       "-10    142.398819  96.059513  67.674475  35.191743 -32.062952\n",
       "-5     117.486922  62.576490  50.660428  17.907062 -46.968299\n",
       " 0      85.349679  79.754816   0.000000  -4.881340 -99.608562\n",
       " 5      55.807391  27.188193  40.115591 -18.651497 -99.647327\n",
       " 10     33.801171  68.307025  -2.754446 -33.006897 -99.680960"
      ]
     },
     "execution_count": 33,
     "metadata": {},
     "output_type": "execute_result"
    }
   ],
   "source": [
    "df"
   ]
  },
  {
   "cell_type": "code",
   "execution_count": 35,
   "metadata": {},
   "outputs": [
    {
     "data": {
      "image/png": "[encoded data removed]",
      "text/plain": [
       "<Figure size 432x288 with 2 Axes>"
      ]
     },
     "metadata": {
      "needs_background": "light"
     },
     "output_type": "display_data"
    }
   ],
   "source": [
    "# Visualization that provides more insight\n",
    "percents = [-10, -5, 0, 5, 10]\n",
    "fDF = runExperiments2WD(WOLF_MODEL, \"J1_Ki\", \"J1_k1\", percents, percents)\n",
    "_ = sns.heatmap(pivotResponse(AMPLITUDE_DF, \"Glucose\"), cmap='seismic', vmin=-50, vmax=50)"
   ]
  },
  {
   "cell_type": "markdown",
   "metadata": {},
   "source": [
    "A function that encapsulates the foregoing for the output of 2WD experiments."
   ]
  },
  {
   "cell_type": "code",
   "execution_count": 38,
   "metadata": {},
   "outputs": [
    {
     "data": {
      "image/png": "[encoded data removed]",
      "text/plain": [
       "<Figure size 432x288 with 2 Axes>"
      ]
     },
     "metadata": {
      "needs_background": "light"
     },
     "output_type": "display_data"
    }
   ],
   "source": [
    "def makeHeatmap(responseDF, molecule, isColorbar=True, ax=None, vmin=-100, vmax=100, cbar_ax=None):\n",
    "    \"\"\"\n",
    "    Creates a heatmap showing the interactions of response values for two parameters.\n",
    "    \n",
    "    Parameters\n",
    "    ----------\n",
    "    reponseDF: DataFrame\n",
    "        index: tuples of percent changes in parameter values\n",
    "        columns: molecule\n",
    "        values: response\n",
    "    molecule: str\n",
    "    isColorbar: bool\n",
    "        show the colorbar\n",
    "    vmin: float\n",
    "        minimum value in color bar\n",
    "    vmax: float\n",
    "        maximum value in color bar\n",
    "    cbar_ax: Axes\n",
    "    \"\"\"\n",
    "    df = pivotResponse(responseDF, molecule)\n",
    "    df = df.sort_index(ascending=False)  # Show large values on top\n",
    "    if ax is None:\n",
    "        ax = sns.heatmap(df, cmap='seismic', vmin=vmin, vmax=vmax, cbar=isColorbar, cbar_ax=cbar_ax)\n",
    "    else:\n",
    "        _ = sns.heatmap(df, cmap='seismic', vmin=vmin, vmax=vmax, cbar=isColorbar, ax=ax, cbar_ax=cbar_ax)\n",
    "    return ax\n",
    "\n",
    "# Tests\n",
    "_ = makeHeatmap(AMPLITUDE_DF, \"Glucose\", vmin=-200, vmax=200)"
   ]
  },
  {
   "cell_type": "markdown",
   "metadata": {},
   "source": [
    "# Calculating DOE Parameters"
   ]
  },
  {
   "cell_type": "markdown",
   "metadata": {},
   "source": [
    "For 2WD, we must calculate $\\mu, \\alpha_{i, k_i}, \\alpha_{i, k_i, j, k_j}$.\n",
    "1. Use 1WD to obtain $\\mu, \\alpha_{i, k_i}$\n",
    "1. Calculate $y_{i, k_i, j, k_j}$ responses\n",
    "1. Calculate $\\alpha_{i, k_i, j, k_j}$: $\\alpha_{i, k_i, j, k_j} = y_{i, k_i, j, k_j} - \\mu\n",
    "- \\alpha_{i, k_i} - \\alpha_{j, k_j}$"
   ]
  },
  {
   "cell_type": "markdown",
   "metadata": {},
   "source": [
    "## Extracting 1WD information from a 2WD experiment"
   ]
  },
  {
   "cell_type": "markdown",
   "metadata": {},
   "source": [
    "A 2WD experiment contains information from two 1WD experiments.\n",
    "The function ``calc1WDParameters`` calculates $\\mu$, $\\alpha_{i, k_i}$, $\\alpha_{j, k_j}$."
   ]
  },
  {
   "cell_type": "code",
   "execution_count": 39,
   "metadata": {},
   "outputs": [
    {
     "name": "stdout",
     "output_type": "stream",
     "text": [
      "OK!\n"
     ]
    }
   ],
   "source": [
    "def calc1WDParameters(response2WDDF):\n",
    "    \"\"\"\n",
    "    Constructs a 1WD response for a single molecule from the results for a 2WD experiment.\n",
    "    \n",
    "    Parameters\n",
    "    ----------\n",
    "    response2WDDF: DataFrame (Response2WDDF)\n",
    "    factor: str\n",
    "    molecule: str\n",
    "    \n",
    "    Returns\n",
    "    -------\n",
    "    Series: mu\n",
    "    DataFrame: response for first factor\n",
    "        index: int (percent change)\n",
    "        value: float (percent change)\n",
    "    DataFrame: response for second factor\n",
    "        index: int (percent change)\n",
    "        value: float (percent change)  \n",
    "    \"\"\"\n",
    "    def calcFactorSer(pos):\n",
    "        \"\"\"\n",
    "        Calculates the Series for a factor.\n",
    "        \n",
    "        Parameters\n",
    "        ----------\n",
    "        pos: int\n",
    "            in the set {0, 1}\n",
    "          \n",
    "        Returns\n",
    "        -------\n",
    "        DataFrame\n",
    "        \"\"\"\n",
    "        # Find the levels\n",
    "        levels = list(set([i[pos] for i in response2WDDF.index]))\n",
    "        levels.sort()\n",
    "        # Find the indices that determine the 1WD responses\n",
    "        indices = [(i, 0) for i in levels]\n",
    "        if pos == 1:\n",
    "            indices = [(j, i) for i,j in indices]\n",
    "        #\n",
    "        df = response2WDDF.loc[indices]\n",
    "        newIndices = [i[pos] for i in df.index]\n",
    "        df.index = newIndices\n",
    "        return df\n",
    "    # \n",
    "    mu = response2WDDF.loc[(0, 0), :]\n",
    "    alphaiDF = calcFactorSer(0) - mu\n",
    "    alphajDF = calcFactorSer(1) - mu\n",
    "    #\n",
    "    return mu, alphaiDF, alphajDF\n",
    "\n",
    "# TESTS\n",
    "muSer, df1, df2 = calc1WDParameters(fDF)\n",
    "assert(all([m == 0 for m in muSer]))\n",
    "for df in [df1, df2]:\n",
    "    assert(isinstance(df, pd.DataFrame))\n",
    "    assert(len(df) == 5)\n",
    "print(\"OK!\")"
   ]
  },
  {
   "cell_type": "markdown",
   "metadata": {},
   "source": [
    "## Calculating $\\alpha_{i, k_i, j, k_j}$"
   ]
  },
  {
   "cell_type": "code",
   "execution_count": 41,
   "metadata": {},
   "outputs": [
    {
     "name": "stdout",
     "output_type": "stream",
     "text": [
      "OK!\n"
     ]
    }
   ],
   "source": [
    "def calc2WDParameters(response2WDDF):\n",
    "    \"\"\"\n",
    "    Calculates the design of experiment parameters for a 2-Way Design.\n",
    "    Assumes that there is a level of 0.\n",
    "\n",
    "    Parameters\n",
    "    ----------\n",
    "    DataFrame\n",
    "       index: tuple of percent changes in factor values\n",
    "       columns: molecule\n",
    "       value: float (response)\n",
    "       index.name: string of tuple (rowFactor, columnFactor)\n",
    "    \n",
    "    Returns\n",
    "    -------\n",
    "    Series: mu values for factors\n",
    "    pd.DataFrame: alpha_i,k_i\n",
    "        column: molecule\n",
    "        index: factor i levels\n",
    "        value: float\n",
    "    pd.DataFrame: alpha_j,k_j\n",
    "        column: molecule\n",
    "        index: factor j levels\n",
    "        value: float\n",
    "    pd.DataFrame: alpha_i,k_i,j,k_j\n",
    "        column: molecule\n",
    "        index: factor i, factor j levels\n",
    "        value: float\n",
    "    \"\"\"\n",
    "    mu, alphaiDF, alphajDF = calc1WDParameters(response2WDDF)\n",
    "    alphaijDF = response2WDDF - mu\n",
    "    # Adjust for alpha_i_ki and alpha_j_kj\n",
    "    for idx, row in alphaijDF.iterrows():\n",
    "        iLevel, jLevel = idx\n",
    "        alphaijDF.loc[idx, :] = alphaijDF.loc[idx, :].values - alphaiDF.loc[iLevel, :].values  \\\n",
    "            - alphajDF.loc[jLevel, :].values\n",
    "    #\n",
    "    return mu, alphaiDF, alphajDF, alphaijDF\n",
    "\n",
    "# TESTS\n",
    "muSer, alphaiDF, alphajDF, alphaijDF = calc2WDParameters(AMPLITUDE_DF)\n",
    "assert(isinstance(muSer, pd.Series))\n",
    "assert(isinstance(alphaiDF, pd.DataFrame))\n",
    "assert(isinstance(alphajDF, pd.DataFrame))\n",
    "assert(isinstance(alphaijDF, pd.DataFrame))\n",
    "assert(len(alphaijDF) == len(alphaiDF)*len(alphajDF))\n",
    "print(\"OK!\")"
   ]
  },
  {
   "cell_type": "code",
   "execution_count": 43,
   "metadata": {},
   "outputs": [
    {
     "data": {
      "text/html": [
       "<div>\n",
       "<style scoped>\n",
       "    .dataframe tbody tr th:only-of-type {\n",
       "        vertical-align: middle;\n",
       "    }\n",
       "\n",
       "    .dataframe tbody tr th {\n",
       "        vertical-align: top;\n",
       "    }\n",
       "\n",
       "    .dataframe thead th {\n",
       "        text-align: right;\n",
       "    }\n",
       "</style>\n",
       "<table border=\"1\" class=\"dataframe\">\n",
       "  <thead>\n",
       "    <tr style=\"text-align: right;\">\n",
       "      <th></th>\n",
       "      <th>Glucose</th>\n",
       "      <th>fructose_1_6_bisphosphate</th>\n",
       "      <th>glyceraldehyde_3_phosphate</th>\n",
       "      <th>glycerate_3_phosphate</th>\n",
       "      <th>pyruvate</th>\n",
       "      <th>Acetyladehyde</th>\n",
       "      <th>External_acetaldehyde</th>\n",
       "      <th>ATP</th>\n",
       "      <th>ADP</th>\n",
       "      <th>NAD</th>\n",
       "      <th>NADH</th>\n",
       "    </tr>\n",
       "  </thead>\n",
       "  <tbody>\n",
       "    <tr>\n",
       "      <th>-10</th>\n",
       "      <td>67.674475</td>\n",
       "      <td>67.160659</td>\n",
       "      <td>75.356492</td>\n",
       "      <td>70.265868</td>\n",
       "      <td>66.676103</td>\n",
       "      <td>68.553191</td>\n",
       "      <td>68.636692</td>\n",
       "      <td>63.139330</td>\n",
       "      <td>63.139330</td>\n",
       "      <td>65.765087</td>\n",
       "      <td>65.765087</td>\n",
       "    </tr>\n",
       "    <tr>\n",
       "      <th>-5</th>\n",
       "      <td>50.660428</td>\n",
       "      <td>50.490217</td>\n",
       "      <td>54.005021</td>\n",
       "      <td>52.145945</td>\n",
       "      <td>50.661933</td>\n",
       "      <td>51.182305</td>\n",
       "      <td>51.223193</td>\n",
       "      <td>48.339602</td>\n",
       "      <td>48.339602</td>\n",
       "      <td>50.000159</td>\n",
       "      <td>50.000159</td>\n",
       "    </tr>\n",
       "    <tr>\n",
       "      <th>0</th>\n",
       "      <td>0.000000</td>\n",
       "      <td>0.000000</td>\n",
       "      <td>0.000000</td>\n",
       "      <td>0.000000</td>\n",
       "      <td>0.000000</td>\n",
       "      <td>0.000000</td>\n",
       "      <td>0.000000</td>\n",
       "      <td>0.000000</td>\n",
       "      <td>0.000000</td>\n",
       "      <td>0.000000</td>\n",
       "      <td>0.000000</td>\n",
       "    </tr>\n",
       "    <tr>\n",
       "      <th>5</th>\n",
       "      <td>40.115591</td>\n",
       "      <td>40.670344</td>\n",
       "      <td>37.308462</td>\n",
       "      <td>40.824908</td>\n",
       "      <td>41.681900</td>\n",
       "      <td>40.348852</td>\n",
       "      <td>40.360412</td>\n",
       "      <td>42.577387</td>\n",
       "      <td>42.577387</td>\n",
       "      <td>41.185858</td>\n",
       "      <td>41.185858</td>\n",
       "    </tr>\n",
       "    <tr>\n",
       "      <th>10</th>\n",
       "      <td>-2.754446</td>\n",
       "      <td>-2.199351</td>\n",
       "      <td>-6.873507</td>\n",
       "      <td>-2.807036</td>\n",
       "      <td>-1.465658</td>\n",
       "      <td>-2.905553</td>\n",
       "      <td>-2.946206</td>\n",
       "      <td>0.016696</td>\n",
       "      <td>0.016696</td>\n",
       "      <td>-1.603824</td>\n",
       "      <td>-1.603824</td>\n",
       "    </tr>\n",
       "  </tbody>\n",
       "</table>\n",
       "</div>"
      ],
      "text/plain": [
       "       Glucose  fructose_1_6_bisphosphate  glyceraldehyde_3_phosphate  \\\n",
       "-10  67.674475                  67.160659                   75.356492   \n",
       "-5   50.660428                  50.490217                   54.005021   \n",
       " 0    0.000000                   0.000000                    0.000000   \n",
       " 5   40.115591                  40.670344                   37.308462   \n",
       " 10  -2.754446                  -2.199351                   -6.873507   \n",
       "\n",
       "     glycerate_3_phosphate   pyruvate  Acetyladehyde  External_acetaldehyde  \\\n",
       "-10              70.265868  66.676103      68.553191              68.636692   \n",
       "-5               52.145945  50.661933      51.182305              51.223193   \n",
       " 0                0.000000   0.000000       0.000000               0.000000   \n",
       " 5               40.824908  41.681900      40.348852              40.360412   \n",
       " 10              -2.807036  -1.465658      -2.905553              -2.946206   \n",
       "\n",
       "           ATP        ADP        NAD       NADH  \n",
       "-10  63.139330  63.139330  65.765087  65.765087  \n",
       "-5   48.339602  48.339602  50.000159  50.000159  \n",
       " 0    0.000000   0.000000   0.000000   0.000000  \n",
       " 5   42.577387  42.577387  41.185858  41.185858  \n",
       " 10   0.016696   0.016696  -1.603824  -1.603824  "
      ]
     },
     "execution_count": 43,
     "metadata": {},
     "output_type": "execute_result"
    }
   ],
   "source": [
    "alphaiDF"
   ]
  },
  {
   "cell_type": "code",
   "execution_count": 44,
   "metadata": {},
   "outputs": [
    {
     "data": {
      "text/html": [
       "<div>\n",
       "<style scoped>\n",
       "    .dataframe tbody tr th:only-of-type {\n",
       "        vertical-align: middle;\n",
       "    }\n",
       "\n",
       "    .dataframe tbody tr th {\n",
       "        vertical-align: top;\n",
       "    }\n",
       "\n",
       "    .dataframe thead th {\n",
       "        text-align: right;\n",
       "    }\n",
       "</style>\n",
       "<table border=\"1\" class=\"dataframe\">\n",
       "  <thead>\n",
       "    <tr style=\"text-align: right;\">\n",
       "      <th></th>\n",
       "      <th>Glucose</th>\n",
       "      <th>fructose_1_6_bisphosphate</th>\n",
       "      <th>glyceraldehyde_3_phosphate</th>\n",
       "      <th>glycerate_3_phosphate</th>\n",
       "      <th>pyruvate</th>\n",
       "      <th>Acetyladehyde</th>\n",
       "      <th>External_acetaldehyde</th>\n",
       "      <th>ATP</th>\n",
       "      <th>ADP</th>\n",
       "      <th>NAD</th>\n",
       "      <th>NADH</th>\n",
       "    </tr>\n",
       "  </thead>\n",
       "  <tbody>\n",
       "    <tr>\n",
       "      <th>-10</th>\n",
       "      <td>85.349679</td>\n",
       "      <td>80.855906</td>\n",
       "      <td>124.278654</td>\n",
       "      <td>94.312655</td>\n",
       "      <td>75.713741</td>\n",
       "      <td>88.270576</td>\n",
       "      <td>88.491073</td>\n",
       "      <td>61.270971</td>\n",
       "      <td>61.270971</td>\n",
       "      <td>73.527722</td>\n",
       "      <td>73.527722</td>\n",
       "    </tr>\n",
       "    <tr>\n",
       "      <th>-5</th>\n",
       "      <td>79.754816</td>\n",
       "      <td>78.077832</td>\n",
       "      <td>96.933838</td>\n",
       "      <td>83.973547</td>\n",
       "      <td>76.231875</td>\n",
       "      <td>80.818459</td>\n",
       "      <td>80.962500</td>\n",
       "      <td>69.204733</td>\n",
       "      <td>69.204733</td>\n",
       "      <td>74.624851</td>\n",
       "      <td>74.624851</td>\n",
       "    </tr>\n",
       "    <tr>\n",
       "      <th>0</th>\n",
       "      <td>0.000000</td>\n",
       "      <td>0.000000</td>\n",
       "      <td>0.000000</td>\n",
       "      <td>0.000000</td>\n",
       "      <td>0.000000</td>\n",
       "      <td>0.000000</td>\n",
       "      <td>0.000000</td>\n",
       "      <td>0.000000</td>\n",
       "      <td>0.000000</td>\n",
       "      <td>0.000000</td>\n",
       "      <td>0.000000</td>\n",
       "    </tr>\n",
       "    <tr>\n",
       "      <th>5</th>\n",
       "      <td>-4.881340</td>\n",
       "      <td>-3.799367</td>\n",
       "      <td>-11.994211</td>\n",
       "      <td>-4.765537</td>\n",
       "      <td>-2.144695</td>\n",
       "      <td>-4.627138</td>\n",
       "      <td>-4.680381</td>\n",
       "      <td>0.400246</td>\n",
       "      <td>0.400246</td>\n",
       "      <td>-2.259651</td>\n",
       "      <td>-2.259651</td>\n",
       "    </tr>\n",
       "    <tr>\n",
       "      <th>10</th>\n",
       "      <td>-99.608562</td>\n",
       "      <td>-99.842421</td>\n",
       "      <td>-99.781735</td>\n",
       "      <td>-99.612114</td>\n",
       "      <td>-98.952389</td>\n",
       "      <td>-98.903158</td>\n",
       "      <td>-98.893685</td>\n",
       "      <td>-99.741967</td>\n",
       "      <td>-99.741967</td>\n",
       "      <td>-99.513883</td>\n",
       "      <td>-99.513883</td>\n",
       "    </tr>\n",
       "  </tbody>\n",
       "</table>\n",
       "</div>"
      ],
      "text/plain": [
       "       Glucose  fructose_1_6_bisphosphate  glyceraldehyde_3_phosphate  \\\n",
       "-10  85.349679                  80.855906                  124.278654   \n",
       "-5   79.754816                  78.077832                   96.933838   \n",
       " 0    0.000000                   0.000000                    0.000000   \n",
       " 5   -4.881340                  -3.799367                  -11.994211   \n",
       " 10 -99.608562                 -99.842421                  -99.781735   \n",
       "\n",
       "     glycerate_3_phosphate   pyruvate  Acetyladehyde  External_acetaldehyde  \\\n",
       "-10              94.312655  75.713741      88.270576              88.491073   \n",
       "-5               83.973547  76.231875      80.818459              80.962500   \n",
       " 0                0.000000   0.000000       0.000000               0.000000   \n",
       " 5               -4.765537  -2.144695      -4.627138              -4.680381   \n",
       " 10             -99.612114 -98.952389     -98.903158             -98.893685   \n",
       "\n",
       "           ATP        ADP        NAD       NADH  \n",
       "-10  61.270971  61.270971  73.527722  73.527722  \n",
       "-5   69.204733  69.204733  74.624851  74.624851  \n",
       " 0    0.000000   0.000000   0.000000   0.000000  \n",
       " 5    0.400246   0.400246  -2.259651  -2.259651  \n",
       " 10 -99.741967 -99.741967 -99.513883 -99.513883  "
      ]
     },
     "execution_count": 44,
     "metadata": {},
     "output_type": "execute_result"
    }
   ],
   "source": [
    "alphajDF"
   ]
  },
  {
   "cell_type": "markdown",
   "metadata": {},
   "source": [
    "# Running a Study"
   ]
  },
  {
   "cell_type": "markdown",
   "metadata": {},
   "source": [
    "A study for 2WD must considerations *combinations* of changes in levels for two factors.\n",
    "So, running a study must specify: (a) the list of factors considered for changes in combinations\n",
    "and (b) the levels of factors."
   ]
  },
  {
   "cell_type": "markdown",
   "metadata": {},
   "source": [
    "## Calculating responses for 2WD"
   ]
  },
  {
   "cell_type": "code",
   "execution_count": 47,
   "metadata": {},
   "outputs": [
    {
     "name": "stdout",
     "output_type": "stream",
     "text": [
      "OK!\n"
     ]
    }
   ],
   "source": [
    "def runStudy2WD(model, factor1, factor2, percents, isRelative=True):\n",
    "    \"\"\"\n",
    "    Calculates parameters for a 2WD study.\n",
    "    \n",
    "    Parameters\n",
    "    ----------\n",
    "    molecule: str\n",
    "    factor1: str\n",
    "    factor2: str\n",
    "    percents: list-int\n",
    "    isRelative: bool\n",
    "       Results are percent change w.r.t. base\n",
    "       \n",
    "    Returns\n",
    "    -------\n",
    "    Series: mean values\n",
    "    pd.DataFrame: alpha_i,k_i (response2WDDF)\n",
    "    pd.DataFrame: alpha_j,k_j (response2WDDF)\n",
    "    pd.DataFrame: alpha_i,k_i,j,k_j (response2WDDF)\n",
    "    \"\"\"\n",
    "    # Get the 2WD parameters\n",
    "    frequency_df = runExperiments2WD(model, factor1, factor2, percents, percents,\n",
    "                                                 isRelative=isRelative)\n",
    "    #\n",
    "    return calc2WDParameters(frequency_df)\n",
    "\n",
    "# TESTS\n",
    "mu_ser, alphai_df, alphaj_df, betaij_df = runStudy2WD(WOLF_MODEL,\n",
    "                                                      \"J1_Ki\",\n",
    "                                                      \"J1_k1\", [-10, -7, -5, 0, 5, 7, 10])\n",
    "assert(isinstance(mu_ser, pd.Series))\n",
    "for df in [alphai_df, alphaj_df, betaij_df]:\n",
    "    assert(len(df) > 0)\n",
    "    assert(isinstance(df, pd.DataFrame))\n",
    "print(\"OK!\")"
   ]
  },
  {
   "cell_type": "code",
   "execution_count": 50,
   "metadata": {},
   "outputs": [
    {
     "data": {
      "text/html": [
       "<div>\n",
       "<style scoped>\n",
       "    .dataframe tbody tr th:only-of-type {\n",
       "        vertical-align: middle;\n",
       "    }\n",
       "\n",
       "    .dataframe tbody tr th {\n",
       "        vertical-align: top;\n",
       "    }\n",
       "\n",
       "    .dataframe thead th {\n",
       "        text-align: right;\n",
       "    }\n",
       "</style>\n",
       "<table border=\"1\" class=\"dataframe\">\n",
       "  <thead>\n",
       "    <tr style=\"text-align: right;\">\n",
       "      <th></th>\n",
       "      <th>Glucose</th>\n",
       "      <th>fructose_1_6_bisphosphate</th>\n",
       "      <th>glyceraldehyde_3_phosphate</th>\n",
       "      <th>glycerate_3_phosphate</th>\n",
       "      <th>pyruvate</th>\n",
       "      <th>Acetyladehyde</th>\n",
       "      <th>External_acetaldehyde</th>\n",
       "      <th>ATP</th>\n",
       "      <th>ADP</th>\n",
       "      <th>NAD</th>\n",
       "      <th>NADH</th>\n",
       "    </tr>\n",
       "  </thead>\n",
       "  <tbody>\n",
       "    <tr>\n",
       "      <th>-10</th>\n",
       "      <td>85.349679</td>\n",
       "      <td>80.855906</td>\n",
       "      <td>124.278654</td>\n",
       "      <td>94.312655</td>\n",
       "      <td>75.713741</td>\n",
       "      <td>88.270576</td>\n",
       "      <td>88.491073</td>\n",
       "      <td>61.270971</td>\n",
       "      <td>61.270971</td>\n",
       "      <td>73.527722</td>\n",
       "      <td>73.527722</td>\n",
       "    </tr>\n",
       "    <tr>\n",
       "      <th>-7</th>\n",
       "      <td>96.850704</td>\n",
       "      <td>93.673508</td>\n",
       "      <td>123.909630</td>\n",
       "      <td>103.062099</td>\n",
       "      <td>90.356658</td>\n",
       "      <td>98.512447</td>\n",
       "      <td>98.701269</td>\n",
       "      <td>78.753213</td>\n",
       "      <td>78.753213</td>\n",
       "      <td>88.418777</td>\n",
       "      <td>88.418777</td>\n",
       "    </tr>\n",
       "    <tr>\n",
       "      <th>-5</th>\n",
       "      <td>79.754816</td>\n",
       "      <td>78.077832</td>\n",
       "      <td>96.933838</td>\n",
       "      <td>83.973547</td>\n",
       "      <td>76.231875</td>\n",
       "      <td>80.818459</td>\n",
       "      <td>80.962500</td>\n",
       "      <td>69.204733</td>\n",
       "      <td>69.204733</td>\n",
       "      <td>74.624851</td>\n",
       "      <td>74.624851</td>\n",
       "    </tr>\n",
       "    <tr>\n",
       "      <th>0</th>\n",
       "      <td>0.000000</td>\n",
       "      <td>0.000000</td>\n",
       "      <td>0.000000</td>\n",
       "      <td>0.000000</td>\n",
       "      <td>0.000000</td>\n",
       "      <td>0.000000</td>\n",
       "      <td>0.000000</td>\n",
       "      <td>0.000000</td>\n",
       "      <td>0.000000</td>\n",
       "      <td>0.000000</td>\n",
       "      <td>0.000000</td>\n",
       "    </tr>\n",
       "    <tr>\n",
       "      <th>5</th>\n",
       "      <td>-4.881340</td>\n",
       "      <td>-3.799367</td>\n",
       "      <td>-11.994211</td>\n",
       "      <td>-4.765537</td>\n",
       "      <td>-2.144695</td>\n",
       "      <td>-4.627138</td>\n",
       "      <td>-4.680381</td>\n",
       "      <td>0.400246</td>\n",
       "      <td>0.400246</td>\n",
       "      <td>-2.259651</td>\n",
       "      <td>-2.259651</td>\n",
       "    </tr>\n",
       "    <tr>\n",
       "      <th>7</th>\n",
       "      <td>-28.511528</td>\n",
       "      <td>-27.552853</td>\n",
       "      <td>-35.526860</td>\n",
       "      <td>-28.160129</td>\n",
       "      <td>-25.392114</td>\n",
       "      <td>-28.306365</td>\n",
       "      <td>-28.354484</td>\n",
       "      <td>-24.056650</td>\n",
       "      <td>-24.056650</td>\n",
       "      <td>-25.822689</td>\n",
       "      <td>-25.822689</td>\n",
       "    </tr>\n",
       "    <tr>\n",
       "      <th>10</th>\n",
       "      <td>-99.608562</td>\n",
       "      <td>-99.842421</td>\n",
       "      <td>-99.781735</td>\n",
       "      <td>-99.612114</td>\n",
       "      <td>-98.952389</td>\n",
       "      <td>-98.903158</td>\n",
       "      <td>-98.893685</td>\n",
       "      <td>-99.741967</td>\n",
       "      <td>-99.741967</td>\n",
       "      <td>-99.513883</td>\n",
       "      <td>-99.513883</td>\n",
       "    </tr>\n",
       "  </tbody>\n",
       "</table>\n",
       "</div>"
      ],
      "text/plain": [
       "       Glucose  fructose_1_6_bisphosphate  glyceraldehyde_3_phosphate  \\\n",
       "-10  85.349679                  80.855906                  124.278654   \n",
       "-7   96.850704                  93.673508                  123.909630   \n",
       "-5   79.754816                  78.077832                   96.933838   \n",
       " 0    0.000000                   0.000000                    0.000000   \n",
       " 5   -4.881340                  -3.799367                  -11.994211   \n",
       " 7  -28.511528                 -27.552853                  -35.526860   \n",
       " 10 -99.608562                 -99.842421                  -99.781735   \n",
       "\n",
       "     glycerate_3_phosphate   pyruvate  Acetyladehyde  External_acetaldehyde  \\\n",
       "-10              94.312655  75.713741      88.270576              88.491073   \n",
       "-7              103.062099  90.356658      98.512447              98.701269   \n",
       "-5               83.973547  76.231875      80.818459              80.962500   \n",
       " 0                0.000000   0.000000       0.000000               0.000000   \n",
       " 5               -4.765537  -2.144695      -4.627138              -4.680381   \n",
       " 7              -28.160129 -25.392114     -28.306365             -28.354484   \n",
       " 10             -99.612114 -98.952389     -98.903158             -98.893685   \n",
       "\n",
       "           ATP        ADP        NAD       NADH  \n",
       "-10  61.270971  61.270971  73.527722  73.527722  \n",
       "-7   78.753213  78.753213  88.418777  88.418777  \n",
       "-5   69.204733  69.204733  74.624851  74.624851  \n",
       " 0    0.000000   0.000000   0.000000   0.000000  \n",
       " 5    0.400246   0.400246  -2.259651  -2.259651  \n",
       " 7  -24.056650 -24.056650 -25.822689 -25.822689  \n",
       " 10 -99.741967 -99.741967 -99.513883 -99.513883  "
      ]
     },
     "execution_count": 50,
     "metadata": {},
     "output_type": "execute_result"
    }
   ],
   "source": [
    "alphai_df"
   ]
  },
  {
   "cell_type": "code",
   "execution_count": null,
   "metadata": {},
   "outputs": [],
   "source": [
    "def plot2WD(factor1, factor2, percents, isRelative=True, figsize=(20, 10)):\n",
    "    \"\"\"\n",
    "    Plots the alpha for 1WD and 2WD.\n",
    "    \n",
    "    Parameters\n",
    "    ----------\n",
    "    molecule: str\n",
    "    factor1: str\n",
    "    factor2: str\n",
    "    percents: list-int\n",
    "    isRelative: bool\n",
    "       Results are percent change w.r.t. base\n",
    "    figisze: tuple-int\n",
    "       Size of figures\n",
    "    \"\"\"\n",
    "    def plotParameters(df, ax, factor):\n",
    "        sns.heatmap(df.T, cmap='seismic', vmin=vmin, vmax=vmax, ax=ax)\n",
    "        ax.set_title(factor)\n",
    "    #\n",
    "    vmin = -4\n",
    "    vmax = 4\n",
    "    # Get the 2WD parameters\n",
    "    mu, alphaiDF, alphajDF, alphaijDF = runStudy2WD(factor1, factor2, percents, isRelative=isRelative)\n",
    "    fig, axes = plt.subplots(3, figsize=figsize)\n",
    "    plotParameters(alphaiDF, axes[0], factor1, is_plot=is_plot)\n",
    "    plotParameters(alphajDF, axes[1], factor2)\n",
    "    plotParameters(alphaijDF, axes[2], factor1 + \"+\" + factor2)\n",
    "    \n",
    "    \n",
    "# TESTS\n",
    "plot2WD(\"kappa\", \"k1\", [-7, -2, -1, 0, 1, 2, 7], is_plot=False)"
   ]
  },
  {
   "cell_type": "markdown",
   "metadata": {},
   "source": [
    "## Question\n",
    "1. Analyze realtive frequencies for Glucose."
   ]
  },
  {
   "cell_type": "markdown",
   "metadata": {},
   "source": [
    "## Solution"
   ]
  },
  {
   "cell_type": "code",
   "execution_count": null,
   "metadata": {},
   "outputs": [],
   "source": [
    "# Analysis for frequency with relative (precentage) responses\n",
    "percents = 3*(np.array(range(7)) - 3)\n",
    "percents = [-5, -4, -3, -2, -1, 0, 1, 2, 3, 4, 5]\n",
    "for prm in WOLF_FACTORS[1:3]:\n",
    "    plot2WD(WOLF_FACTORS[0], prm, percents, isRelative=True)  "
   ]
  },
  {
   "cell_type": "markdown",
   "metadata": {},
   "source": [
    "## Question\n",
    "1. Which combination of parameters for which response suggest a strong interaction between parameter pairs?# Analysis for frequency with relative (precentage) responses"
   ]
  },
  {
   "cell_type": "code",
   "execution_count": null,
   "metadata": {},
   "outputs": [],
   "source": []
  }
 ],
 "metadata": {
  "kernelspec": {
   "display_name": "Python 3",
   "language": "python",
   "name": "python3"
  },
  "language_info": {
   "codemirror_mode": {
    "name": "ipython",
    "version": 3
   },
   "file_extension": ".py",
   "mimetype": "text/x-python",
   "name": "python",
   "nbconvert_exporter": "python",
   "pygments_lexer": "ipython3",
   "version": "3.6.9"
  },
  "toc-autonumbering": true
 },
 "nbformat": 4,
 "nbformat_minor": 4
}

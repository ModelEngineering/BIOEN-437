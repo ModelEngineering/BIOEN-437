{
 "cells": [
  {
   "cell_type": "markdown",
   "id": "c185d795-678b-48c1-a95d-15f5c96e056b",
   "metadata": {},
   "source": [
    "# IDENTIFIABILITY"
   ]
  },
  {
   "cell_type": "markdown",
   "id": "577012a1-ebdd-4b4b-bcec-aaaee394a509",
   "metadata": {},
   "source": [
    "This notebook explores issues with identifying parameters of a model.\n",
    "\n",
    "**Identifiability**: Given a model $\\dot{x} = f(x; \\theta)$, where $x$ is a vector of floating concentrations and $\\theta$ are parameters.\n",
    "If we know $x$, can we find unique values for $\\theta$?"
   ]
  },
  {
   "cell_type": "markdown",
   "id": "43508397-5681-4be2-a653-accccef39b13",
   "metadata": {},
   "source": [
    "# Preliminaries"
   ]
  },
  {
   "cell_type": "code",
   "execution_count": 1,
   "id": "26708ae3-754c-4764-bf03-7ece59acbbfa",
   "metadata": {},
   "outputs": [],
   "source": [
    "import pandas as pd\n",
    "import numpy as np\n",
    "import tellurium as te"
   ]
  },
  {
   "cell_type": "markdown",
   "id": "a83075c8-d03f-40f3-8d84-00c659dbeacd",
   "metadata": {},
   "source": [
    "# Example"
   ]
  },
  {
   "cell_type": "code",
   "execution_count": 2,
   "id": "b941174a-2e4a-4978-99af-65999f80e655",
   "metadata": {},
   "outputs": [],
   "source": [
    "MODEL1 = \"\"\"\n",
    "S1 -> S2; k1*k2*S1\n",
    "S2 -> S1; k3*S2\n",
    "S3 ->; k4*S3\n",
    "\n",
    "S1 = 10\n",
    "S3 = 15\n",
    "k1 = 1\n",
    "k2 = 2\n",
    "k3 = 3\n",
    "k4 = 4\n",
    "\"\"\""
   ]
  },
  {
   "cell_type": "markdown",
   "id": "9050a7ff-611a-47a4-a044-8a8790e3a7f9",
   "metadata": {},
   "source": [
    "In this model, what are:\n",
    "* $x$\n",
    "* $\\theta$\n",
    "* $f$"
   ]
  },
  {
   "cell_type": "code",
   "execution_count": 3,
   "id": "94b04ec8-51e2-416d-abf4-7d899275b7b2",
   "metadata": {},
   "outputs": [
    {
     "data": {
      "image/png": "[encoded data removed]",
      "text/plain": [
       "<Figure size 432x288 with 1 Axes>"
      ]
     },
     "metadata": {},
     "output_type": "display_data"
    }
   ],
   "source": [
    "rr = te.loada(MODEL1)\n",
    "data = rr.simulate()\n",
    "rr.plot()"
   ]
  },
  {
   "cell_type": "code",
   "execution_count": 4,
   "id": "1850dcde-a789-49c4-85e3-c3db7d8d5cb8",
   "metadata": {},
   "outputs": [
    {
     "data": {
      "text/html": [
       "<div>\n",
       "<style scoped>\n",
       "    .dataframe tbody tr th:only-of-type {\n",
       "        vertical-align: middle;\n",
       "    }\n",
       "\n",
       "    .dataframe tbody tr th {\n",
       "        vertical-align: top;\n",
       "    }\n",
       "\n",
       "    .dataframe thead th {\n",
       "        text-align: right;\n",
       "    }\n",
       "</style>\n",
       "<table border=\"1\" class=\"dataframe\">\n",
       "  <thead>\n",
       "    <tr style=\"text-align: right;\">\n",
       "      <th></th>\n",
       "      <th>[S1]</th>\n",
       "      <th>[S2]</th>\n",
       "    </tr>\n",
       "    <tr>\n",
       "      <th>time</th>\n",
       "      <th></th>\n",
       "      <th></th>\n",
       "    </tr>\n",
       "  </thead>\n",
       "  <tbody>\n",
       "    <tr>\n",
       "      <th>3.0</th>\n",
       "      <td>6.000001</td>\n",
       "      <td>3.999999</td>\n",
       "    </tr>\n",
       "    <tr>\n",
       "      <th>3.1</th>\n",
       "      <td>6.000001</td>\n",
       "      <td>3.999999</td>\n",
       "    </tr>\n",
       "    <tr>\n",
       "      <th>3.2</th>\n",
       "      <td>6.000000</td>\n",
       "      <td>4.000000</td>\n",
       "    </tr>\n",
       "    <tr>\n",
       "      <th>3.3</th>\n",
       "      <td>6.000000</td>\n",
       "      <td>4.000000</td>\n",
       "    </tr>\n",
       "    <tr>\n",
       "      <th>3.4</th>\n",
       "      <td>6.000000</td>\n",
       "      <td>4.000000</td>\n",
       "    </tr>\n",
       "    <tr>\n",
       "      <th>3.5</th>\n",
       "      <td>6.000000</td>\n",
       "      <td>4.000000</td>\n",
       "    </tr>\n",
       "    <tr>\n",
       "      <th>3.6</th>\n",
       "      <td>6.000000</td>\n",
       "      <td>4.000000</td>\n",
       "    </tr>\n",
       "    <tr>\n",
       "      <th>3.7</th>\n",
       "      <td>6.000000</td>\n",
       "      <td>4.000000</td>\n",
       "    </tr>\n",
       "    <tr>\n",
       "      <th>3.8</th>\n",
       "      <td>6.000000</td>\n",
       "      <td>4.000000</td>\n",
       "    </tr>\n",
       "    <tr>\n",
       "      <th>3.9</th>\n",
       "      <td>6.000000</td>\n",
       "      <td>4.000000</td>\n",
       "    </tr>\n",
       "    <tr>\n",
       "      <th>4.0</th>\n",
       "      <td>6.000000</td>\n",
       "      <td>4.000000</td>\n",
       "    </tr>\n",
       "    <tr>\n",
       "      <th>4.1</th>\n",
       "      <td>6.000000</td>\n",
       "      <td>4.000000</td>\n",
       "    </tr>\n",
       "    <tr>\n",
       "      <th>4.2</th>\n",
       "      <td>6.000000</td>\n",
       "      <td>4.000000</td>\n",
       "    </tr>\n",
       "    <tr>\n",
       "      <th>4.3</th>\n",
       "      <td>6.000000</td>\n",
       "      <td>4.000000</td>\n",
       "    </tr>\n",
       "    <tr>\n",
       "      <th>4.4</th>\n",
       "      <td>6.000000</td>\n",
       "      <td>4.000000</td>\n",
       "    </tr>\n",
       "    <tr>\n",
       "      <th>4.5</th>\n",
       "      <td>6.000000</td>\n",
       "      <td>4.000000</td>\n",
       "    </tr>\n",
       "    <tr>\n",
       "      <th>4.6</th>\n",
       "      <td>6.000000</td>\n",
       "      <td>4.000000</td>\n",
       "    </tr>\n",
       "    <tr>\n",
       "      <th>4.7</th>\n",
       "      <td>6.000000</td>\n",
       "      <td>4.000000</td>\n",
       "    </tr>\n",
       "    <tr>\n",
       "      <th>4.8</th>\n",
       "      <td>6.000000</td>\n",
       "      <td>4.000000</td>\n",
       "    </tr>\n",
       "    <tr>\n",
       "      <th>4.9</th>\n",
       "      <td>6.000000</td>\n",
       "      <td>4.000000</td>\n",
       "    </tr>\n",
       "    <tr>\n",
       "      <th>5.0</th>\n",
       "      <td>6.000000</td>\n",
       "      <td>4.000000</td>\n",
       "    </tr>\n",
       "  </tbody>\n",
       "</table>\n",
       "</div>"
      ],
      "text/plain": [
       "          [S1]      [S2]\n",
       "time                    \n",
       "3.0   6.000001  3.999999\n",
       "3.1   6.000001  3.999999\n",
       "3.2   6.000000  4.000000\n",
       "3.3   6.000000  4.000000\n",
       "3.4   6.000000  4.000000\n",
       "3.5   6.000000  4.000000\n",
       "3.6   6.000000  4.000000\n",
       "3.7   6.000000  4.000000\n",
       "3.8   6.000000  4.000000\n",
       "3.9   6.000000  4.000000\n",
       "4.0   6.000000  4.000000\n",
       "4.1   6.000000  4.000000\n",
       "4.2   6.000000  4.000000\n",
       "4.3   6.000000  4.000000\n",
       "4.4   6.000000  4.000000\n",
       "4.5   6.000000  4.000000\n",
       "4.6   6.000000  4.000000\n",
       "4.7   6.000000  4.000000\n",
       "4.8   6.000000  4.000000\n",
       "4.9   6.000000  4.000000\n",
       "5.0   6.000000  4.000000"
      ]
     },
     "execution_count": 4,
     "metadata": {},
     "output_type": "execute_result"
    }
   ],
   "source": [
    "DATA1_DF = pd.DataFrame(data[30:,1:3], columns=[\"[S1]\", \"[S2]\"], index=data[30:,0])\n",
    "DATA1_DF.index.name = \"time\"\n",
    "DATA1_DF"
   ]
  },
  {
   "cell_type": "code",
   "execution_count": 25,
   "id": "3872d49f-49c5-42b6-91d8-f4e122169d7d",
   "metadata": {},
   "outputs": [
    {
     "name": "stdout",
     "output_type": "stream",
     "text": [
      "OK!\n"
     ]
    },
    {
     "data": {
      "image/png": "[encoded data removed]",
      "text/plain": [
       "<Figure size 432x288 with 1 Axes>"
      ]
     },
     "metadata": {
      "needs_background": "light"
     },
     "output_type": "display_data"
    },
    {
     "data": {
      "image/png": "[encoded data removed]",
      "text/plain": [
       "<Figure size 432x288 with 1 Axes>"
      ]
     },
     "metadata": {
      "needs_background": "light"
     },
     "output_type": "display_data"
    }
   ],
   "source": [
    "def simulate(model, species=[\"[S1]\", \"[S2]\", \"[S3]\"], start_time=0, is_plot=True):\n",
    "    \"\"\"\n",
    "    Simulate the model and plot the result. Assumes 10 points per second.\n",
    "    \n",
    "    Parameters\n",
    "    ----------\n",
    "    model: str (antimony model)\n",
    "    species: list-str (species to include)\n",
    "    start_index: int (index of data to report)\n",
    "    is_plot: bool (plot the result)\n",
    "    \"\"\"\n",
    "    POINT_PER_SEC = 10\n",
    "    END_TIME = 5\n",
    "    TIME = \"time\"\n",
    "    NUM_POINT = 50\n",
    "    #\n",
    "    rr = te.loada(model)\n",
    "    num_point = int((END_TIME - start_time)*10) + 1\n",
    "    colnames = list(species)\n",
    "    all_colnames = list(colnames)\n",
    "    all_colnames.insert(0, TIME)\n",
    "    num_species = len(species)\n",
    "    data = rr.simulate(0, END_TIME, NUM_POINT, all_colnames)\n",
    "    column_idxs = np.array([i for i in range(len(colnames)) if species[i] in species], dtype=int)\n",
    "    column_idxs += 1\n",
    "    df = pd.DataFrame(data[:, column_idxs], columns=species)\n",
    "    df.index = data[:, 0]\n",
    "    df.index.name = TIME\n",
    "    df = df[df.index >= start_time]\n",
    "    if is_plot:\n",
    "        df.plot()\n",
    "    return df\n",
    "\n",
    "# Tests\n",
    "df = simulate(MODEL1, is_plot=False)\n",
    "assert(isinstance(df, pd.DataFrame))\n",
    "assert(len(df.columns) == 3)\n",
    "assert(len(df) > 0)\n",
    "#\n",
    "df = simulate(MODEL1, start_time=3, species=[\"[S1]\", \"[S2]\"], is_plot=False)\n",
    "diff = np.sum([ (x - y)**2 for x, y in zip(df.values, DATA1_DF.values)])\n",
    "assert(np.isclose(diff, 0))\n",
    "print(\"OK!\")"
   ]
  },
  {
   "cell_type": "code",
   "execution_count": 23,
   "id": "bf4d5f59-3d52-4e82-9f4a-f96bb330c2ff",
   "metadata": {},
   "outputs": [
    {
     "data": {
      "text/plain": [
       "3.4091271046436593e-13"
      ]
     },
     "execution_count": 23,
     "metadata": {},
     "output_type": "execute_result"
    }
   ],
   "source": [
    "diff\n"
   ]
  },
  {
   "cell_type": "code",
   "execution_count": 19,
   "id": "c04bb3d3-3a56-4c5d-bf24-936e89ed82f6",
   "metadata": {},
   "outputs": [
    {
     "data": {
      "text/html": [
       "<div>\n",
       "<style scoped>\n",
       "    .dataframe tbody tr th:only-of-type {\n",
       "        vertical-align: middle;\n",
       "    }\n",
       "\n",
       "    .dataframe tbody tr th {\n",
       "        vertical-align: top;\n",
       "    }\n",
       "\n",
       "    .dataframe thead th {\n",
       "        text-align: right;\n",
       "    }\n",
       "</style>\n",
       "<table border=\"1\" class=\"dataframe\">\n",
       "  <thead>\n",
       "    <tr style=\"text-align: right;\">\n",
       "      <th></th>\n",
       "      <th>[S1]</th>\n",
       "      <th>[S2]</th>\n",
       "    </tr>\n",
       "    <tr>\n",
       "      <th>time</th>\n",
       "      <th></th>\n",
       "      <th></th>\n",
       "    </tr>\n",
       "  </thead>\n",
       "  <tbody>\n",
       "    <tr>\n",
       "      <th>3.061224</th>\n",
       "      <td>6.000001</td>\n",
       "      <td>3.999999</td>\n",
       "    </tr>\n",
       "    <tr>\n",
       "      <th>3.163265</th>\n",
       "      <td>6.000001</td>\n",
       "      <td>3.999999</td>\n",
       "    </tr>\n",
       "    <tr>\n",
       "      <th>3.265306</th>\n",
       "      <td>6.000000</td>\n",
       "      <td>4.000000</td>\n",
       "    </tr>\n",
       "    <tr>\n",
       "      <th>3.367347</th>\n",
       "      <td>6.000000</td>\n",
       "      <td>4.000000</td>\n",
       "    </tr>\n",
       "    <tr>\n",
       "      <th>3.469388</th>\n",
       "      <td>6.000000</td>\n",
       "      <td>4.000000</td>\n",
       "    </tr>\n",
       "    <tr>\n",
       "      <th>3.571429</th>\n",
       "      <td>6.000000</td>\n",
       "      <td>4.000000</td>\n",
       "    </tr>\n",
       "    <tr>\n",
       "      <th>3.673469</th>\n",
       "      <td>6.000000</td>\n",
       "      <td>4.000000</td>\n",
       "    </tr>\n",
       "    <tr>\n",
       "      <th>3.775510</th>\n",
       "      <td>6.000000</td>\n",
       "      <td>4.000000</td>\n",
       "    </tr>\n",
       "    <tr>\n",
       "      <th>3.877551</th>\n",
       "      <td>6.000000</td>\n",
       "      <td>4.000000</td>\n",
       "    </tr>\n",
       "    <tr>\n",
       "      <th>3.979592</th>\n",
       "      <td>6.000000</td>\n",
       "      <td>4.000000</td>\n",
       "    </tr>\n",
       "    <tr>\n",
       "      <th>4.081633</th>\n",
       "      <td>6.000000</td>\n",
       "      <td>4.000000</td>\n",
       "    </tr>\n",
       "    <tr>\n",
       "      <th>4.183673</th>\n",
       "      <td>6.000000</td>\n",
       "      <td>4.000000</td>\n",
       "    </tr>\n",
       "    <tr>\n",
       "      <th>4.285714</th>\n",
       "      <td>6.000000</td>\n",
       "      <td>4.000000</td>\n",
       "    </tr>\n",
       "    <tr>\n",
       "      <th>4.387755</th>\n",
       "      <td>6.000000</td>\n",
       "      <td>4.000000</td>\n",
       "    </tr>\n",
       "    <tr>\n",
       "      <th>4.489796</th>\n",
       "      <td>6.000000</td>\n",
       "      <td>4.000000</td>\n",
       "    </tr>\n",
       "    <tr>\n",
       "      <th>4.591837</th>\n",
       "      <td>6.000000</td>\n",
       "      <td>4.000000</td>\n",
       "    </tr>\n",
       "    <tr>\n",
       "      <th>4.693878</th>\n",
       "      <td>6.000000</td>\n",
       "      <td>4.000000</td>\n",
       "    </tr>\n",
       "    <tr>\n",
       "      <th>4.795918</th>\n",
       "      <td>6.000000</td>\n",
       "      <td>4.000000</td>\n",
       "    </tr>\n",
       "    <tr>\n",
       "      <th>4.897959</th>\n",
       "      <td>6.000000</td>\n",
       "      <td>4.000000</td>\n",
       "    </tr>\n",
       "    <tr>\n",
       "      <th>5.000000</th>\n",
       "      <td>6.000000</td>\n",
       "      <td>4.000000</td>\n",
       "    </tr>\n",
       "  </tbody>\n",
       "</table>\n",
       "</div>"
      ],
      "text/plain": [
       "              [S1]      [S2]\n",
       "time                        \n",
       "3.061224  6.000001  3.999999\n",
       "3.163265  6.000001  3.999999\n",
       "3.265306  6.000000  4.000000\n",
       "3.367347  6.000000  4.000000\n",
       "3.469388  6.000000  4.000000\n",
       "3.571429  6.000000  4.000000\n",
       "3.673469  6.000000  4.000000\n",
       "3.775510  6.000000  4.000000\n",
       "3.877551  6.000000  4.000000\n",
       "3.979592  6.000000  4.000000\n",
       "4.081633  6.000000  4.000000\n",
       "4.183673  6.000000  4.000000\n",
       "4.285714  6.000000  4.000000\n",
       "4.387755  6.000000  4.000000\n",
       "4.489796  6.000000  4.000000\n",
       "4.591837  6.000000  4.000000\n",
       "4.693878  6.000000  4.000000\n",
       "4.795918  6.000000  4.000000\n",
       "4.897959  6.000000  4.000000\n",
       "5.000000  6.000000  4.000000"
      ]
     },
     "execution_count": 19,
     "metadata": {},
     "output_type": "execute_result"
    }
   ],
   "source": [
    "df"
   ]
  },
  {
   "cell_type": "markdown",
   "id": "446e7b5d-da2b-4e8c-8457-e83f67f551d1",
   "metadata": {},
   "source": [
    "Given ``DATA1_DF``, can we find ``k1``, ``k2``, ``k3``, ``k4``?"
   ]
  },
  {
   "cell_type": "markdown",
   "id": "a402b621-5050-4d5d-9e7c-94362a5eb17a",
   "metadata": {},
   "source": [
    "# Can we find ``k4`` from ``DATA1_DF``?"
   ]
  },
  {
   "cell_type": "markdown",
   "id": "6490fa6b-c322-4650-88a0-f6370a1fcbf0",
   "metadata": {},
   "source": [
    "This question is equivalent to \"Does k4 affect DATA1_DF?\""
   ]
  },
  {
   "cell_type": "code",
   "execution_count": null,
   "id": "bc815ba4-3be4-4db1-bf13-0677410744be",
   "metadata": {},
   "outputs": [],
   "source": [
    "MODEL1 = \"\"\"\n",
    "S1 -> S2; k1*k2*S1\n",
    "S2 -> S1; k3*S2\n",
    "S3 ->; k4*S3\n",
    "\n",
    "S1 = 10\n",
    "S3 = 15\n",
    "k1 = 1\n",
    "k2 = 2\n",
    "k3 = 3\n",
    "k4 = 4\n",
    "\"\"\"\n",
    "DATA1_DF = simulate(MODEL1, start_idx=30, species=[\"S1\", \"S2\"], is_plot=True)"
   ]
  },
  {
   "cell_type": "code",
   "execution_count": null,
   "id": "5b5c9db5-daa0-4009-b912-cd4448001289",
   "metadata": {},
   "outputs": [],
   "source": [
    "MODEL2 = \"\"\"\n",
    "S1 -> S2; k1*k2*S1\n",
    "S2 -> S1; k3*S2\n",
    "S3 ->; k4*S3\n",
    "\n",
    "S1 = 10\n",
    "S3 = 15\n",
    "k1 = 1\n",
    "k2 = 2\n",
    "k3 = 3\n",
    "k4 = 40\n",
    "\"\"\"\n",
    "DATA1_DF = simulate(MODEL2, start_idx=30, species=[\"S1\", \"S2\"], is_plot=True)"
   ]
  },
  {
   "cell_type": "markdown",
   "id": "08fdd6a2-952d-4dfa-96b1-baed01ad6ae9",
   "metadata": {},
   "source": [
    "# Can we find ``k1``, ``k2``, ``k3`` from DATA1_DF?"
   ]
  },
  {
   "cell_type": "code",
   "execution_count": null,
   "id": "80117517-50b3-45f2-831b-78426f934007",
   "metadata": {},
   "outputs": [],
   "source": []
  },
  {
   "cell_type": "markdown",
   "id": "8e4fe966-7eb8-4abb-9b88-0e7222742904",
   "metadata": {},
   "source": [
    "# Insights into Identifiability"
   ]
  },
  {
   "cell_type": "markdown",
   "id": "cbd48957-3b27-47fa-a4e0-e492ca9a94e1",
   "metadata": {},
   "source": [
    "1. Can only identify parameters that affect the output data.\n",
    "1. Can only infer parameters if there are sufficient dynamics in the data.\n",
    "1. Can only identify parameters occur in isolation (or can be inferred from combinations)."
   ]
  }
 ],
 "metadata": {
  "kernelspec": {
   "display_name": "Python 3",
   "language": "python",
   "name": "python3"
  },
  "language_info": {
   "codemirror_mode": {
    "name": "ipython",
    "version": 3
   },
   "file_extension": ".py",
   "mimetype": "text/x-python",
   "name": "python",
   "nbconvert_exporter": "python",
   "pygments_lexer": "ipython3",
   "version": "3.6.9"
  }
 },
 "nbformat": 4,
 "nbformat_minor": 5
}

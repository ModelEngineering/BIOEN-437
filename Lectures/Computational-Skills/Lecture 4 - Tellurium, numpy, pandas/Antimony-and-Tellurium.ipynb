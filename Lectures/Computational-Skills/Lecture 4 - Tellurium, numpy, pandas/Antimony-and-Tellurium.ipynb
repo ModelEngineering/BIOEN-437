{
 "cells": [
  {
   "cell_type": "markdown",
   "metadata": {
    "id": "JJb5X7nab1R7"
   },
   "source": [
    "# ANTIMONY and TELLURIUM"
   ]
  },
  {
   "cell_type": "markdown",
   "metadata": {
    "id": "DNltQIMqeQmm"
   },
   "source": [
    "# Preliminaries"
   ]
  },
  {
   "cell_type": "code",
   "execution_count": 1,
   "metadata": {
    "colab": {
     "base_uri": "https://localhost:8080/"
    },
    "executionInfo": {
     "elapsed": 20010,
     "status": "ok",
     "timestamp": 1665166600310,
     "user": {
      "displayName": "Joseph Hellerstein",
      "userId": "07301174361489660166"
     },
     "user_tz": 420
    },
    "id": "kt3vJJW9cS4G",
    "outputId": "28952d91-b632-4f3b-f040-cd78584ef0e1"
   },
   "outputs": [
    {
     "name": "stdout",
     "output_type": "stream",
     "text": [
      "\n",
      "\u001b[1m[\u001b[0m\u001b[34;49mnotice\u001b[0m\u001b[1;39;49m]\u001b[0m\u001b[39;49m A new release of pip available: \u001b[0m\u001b[31;49m22.3.1\u001b[0m\u001b[39;49m -> \u001b[0m\u001b[32;49m24.2\u001b[0m\n",
      "\u001b[1m[\u001b[0m\u001b[34;49mnotice\u001b[0m\u001b[1;39;49m]\u001b[0m\u001b[39;49m To update, run: \u001b[0m\u001b[32;49mpip install --upgrade pip\u001b[0m\n"
     ]
    }
   ],
   "source": [
    "# Preliminaries\n",
    "!pip install -q tellurium\n",
    "import tellurium as te\n",
    "import numpy as np\n",
    "import pandas as pd\n",
    "import matplotlib.pyplot as plt"
   ]
  },
  {
   "cell_type": "markdown",
   "metadata": {
    "id": "Q7nT7gxNcYkb"
   },
   "source": [
    "# Antimony\n",
    "Antimony is a computer language for describing reaction networks.\n",
    "You input antimony states as python strings."
   ]
  },
  {
   "cell_type": "code",
   "execution_count": 2,
   "metadata": {
    "id": "t5zu4vH6cu9W"
   },
   "outputs": [],
   "source": [
    "# Example of an Antimony model of a reversible reaction\n",
    "model = \"\"\"\n",
    "species A, B, C\n",
    "A -> B + C; k3*A\n",
    "A -> B; k1*A\n",
    "B -> A; k2*B\n",
    "\n",
    "k1 = 1\n",
    "k2 = 2\n",
    "k3 = 0.5\n",
    "A = 10\n",
    "B = 0\n",
    "\"\"\""
   ]
  },
  {
   "cell_type": "code",
   "execution_count": 3,
   "metadata": {
    "colab": {
     "base_uri": "https://localhost:8080/"
    },
    "executionInfo": {
     "elapsed": 475,
     "status": "ok",
     "timestamp": 1664990950466,
     "user": {
      "displayName": "Joseph Hellerstein",
      "userId": "07301174361489660166"
     },
     "user_tz": 420
    },
    "id": "8d0ddCdDIlgC",
    "outputId": "0d1f4673-1f65-40d1-e650-c2bc5a9bf4bd"
   },
   "outputs": [
    {
     "name": "stdout",
     "output_type": "stream",
     "text": [
      "\n",
      "species A, B, C\n",
      "A -> B + C; k3*A\n",
      "A -> B; k1*A\n",
      "B -> A; k2*B\n",
      "\n",
      "k1 = 1\n",
      "k2 = 2\n",
      "k3 = 0.5\n",
      "A = 10\n",
      "B = 0\n",
      "\n"
     ]
    }
   ],
   "source": [
    "print(model)"
   ]
  },
  {
   "cell_type": "code",
   "execution_count": 4,
   "metadata": {
    "executionInfo": {
     "elapsed": 165,
     "status": "ok",
     "timestamp": 1665166620037,
     "user": {
      "displayName": "Joseph Hellerstein",
      "userId": "07301174361489660166"
     },
     "user_tz": 420
    },
    "id": "bBPJr9fHp6l1"
   },
   "outputs": [],
   "source": [
    "# Example of an Antimony model of a reversible reaction and a fixed species\n",
    "model2 = \"\"\"\n",
    "species A, B, C, D\n",
    "$D -> B; $D*B\n",
    "A -> B + C; k3*A\n",
    "A -> B; k1*A\n",
    "B -> A; k2*B\n",
    "\n",
    "k1 = 1\n",
    "k2 = 2\n",
    "k3 = 0.5\n",
    "D =10\n",
    "A = 10\n",
    "B = 0\n",
    "\"\"\""
   ]
  },
  {
   "cell_type": "code",
   "execution_count": 5,
   "metadata": {
    "colab": {
     "base_uri": "https://localhost:8080/",
     "height": 276
    },
    "executionInfo": {
     "elapsed": 418,
     "status": "ok",
     "timestamp": 1665166632911,
     "user": {
      "displayName": "Joseph Hellerstein",
      "userId": "07301174361489660166"
     },
     "user_tz": 420
    },
    "id": "-auMXpRrqQuQ",
    "outputId": "9d21a57c-b8f4-49b1-b725-9b6099cc71d2"
   },
   "outputs": [
    {
     "data": {
      "image/png": "[encoded data removed]",
      "text/plain": [
       "<Figure size 600x400 with 1 Axes>"
      ]
     },
     "metadata": {},
     "output_type": "display_data"
    }
   ],
   "source": [
    "runner = te.loada(model2)\n",
    "runner.simulate()\n",
    "runner.plot()"
   ]
  },
  {
   "cell_type": "markdown",
   "metadata": {
    "id": "GYPHPtXsdLtG"
   },
   "source": [
    "# Tellurium\n",
    "Tellurium is a python environment for executing models of reaction networks. Tellurium can run Antimony models."
   ]
  },
  {
   "cell_type": "code",
   "execution_count": 6,
   "metadata": {
    "id": "BoS_EgssdU7-"
   },
   "outputs": [],
   "source": [
    "runner = te.loada(model)\n",
    "data = runner.simulate()"
   ]
  },
  {
   "cell_type": "code",
   "execution_count": 7,
   "metadata": {
    "colab": {
     "base_uri": "https://localhost:8080/"
    },
    "executionInfo": {
     "elapsed": 243,
     "status": "ok",
     "timestamp": 1664990956804,
     "user": {
      "displayName": "Joseph Hellerstein",
      "userId": "07301174361489660166"
     },
     "user_tz": 420
    },
    "id": "eDGnq2FodvfE",
    "outputId": "0671c7ab-baf1-46e6-ee3c-54bddd2eb998"
   },
   "outputs": [
    {
     "data": {
      "text/plain": [
       "    time,     [A],     [B],      [C]\n",
       " [[    0,      10,       0,        0],\n",
       "  [  0.1, 8.73437, 1.26563, 0.466518],\n",
       "  [  0.2, 7.84249, 2.15751, 0.879643],\n",
       "  [  0.3,   7.214,   2.786,  1.25514],\n",
       "  [  0.4, 6.77111, 3.22889,  1.60413],\n",
       "  [  0.5, 6.45902, 3.54098,  1.93443],\n",
       "  [  0.6, 6.23909, 3.76091,  2.25156],\n",
       "  [  0.7, 6.08411, 3.91589,  2.55941],\n",
       "  [  0.8,  5.9749,  4.0251,  2.86073],\n",
       "  [  0.9, 5.89794, 4.10206,  3.15744],\n",
       "  [    1,  5.8437,  4.1563,   3.4509],\n",
       "  [  1.1, 5.80549, 4.19451,  3.74207],\n",
       "  [  1.2, 5.77856, 4.22144,  4.03163],\n",
       "  [  1.3, 5.75958, 4.24042,  4.32006],\n",
       "  [  1.4,  5.7462,  4.2538,  4.60768],\n",
       "  [  1.5, 5.73678, 4.26322,  4.89475],\n",
       "  [  1.6, 5.73014, 4.26986,  5.18141],\n",
       "  [  1.7, 5.72546, 4.27454,  5.46779],\n",
       "  [  1.8, 5.72216, 4.27784,  5.75398],\n",
       "  [  1.9, 5.71983, 4.28017,  6.04002],\n",
       "  [    2,  5.7182,  4.2818,  6.32597],\n",
       "  [  2.1, 5.71704, 4.28296,  6.61185],\n",
       "  [  2.2, 5.71623, 4.28377,  6.89768],\n",
       "  [  2.3, 5.71566, 4.28434,  7.18348],\n",
       "  [  2.4, 5.71525, 4.28475,  7.46925],\n",
       "  [  2.5, 5.71497, 4.28503,    7.755],\n",
       "  [  2.6, 5.71477, 4.28523,  8.04075],\n",
       "  [  2.7, 5.71462, 4.28538,  8.32648],\n",
       "  [  2.8, 5.71452, 4.28548,  8.61221],\n",
       "  [  2.9, 5.71446, 4.28554,  8.89793],\n",
       "  [    3, 5.71441, 4.28559,  9.18366],\n",
       "  [  3.1, 5.71437, 4.28563,  9.46937],\n",
       "  [  3.2, 5.71435, 4.28565,  9.75509],\n",
       "  [  3.3, 5.71433, 4.28567,  10.0408],\n",
       "  [  3.4, 5.71432, 4.28568,  10.3265],\n",
       "  [  3.5, 5.71431, 4.28569,  10.6122],\n",
       "  [  3.6,  5.7143,  4.2857,   10.898],\n",
       "  [  3.7,  5.7143,  4.2857,  11.1837],\n",
       "  [  3.8,  5.7143,  4.2857,  11.4694],\n",
       "  [  3.9,  5.7143,  4.2857,  11.7551],\n",
       "  [    4,  5.7143,  4.2857,  12.0408],\n",
       "  [  4.1, 5.71429, 4.28571,  12.3265],\n",
       "  [  4.2, 5.71429, 4.28571,  12.6122],\n",
       "  [  4.3, 5.71429, 4.28571,   12.898],\n",
       "  [  4.4, 5.71429, 4.28571,  13.1837],\n",
       "  [  4.5, 5.71429, 4.28571,  13.4694],\n",
       "  [  4.6, 5.71429, 4.28571,  13.7551],\n",
       "  [  4.7, 5.71429, 4.28571,  14.0408],\n",
       "  [  4.8, 5.71429, 4.28571,  14.3265],\n",
       "  [  4.9, 5.71429, 4.28571,  14.6122],\n",
       "  [    5, 5.71429, 4.28571,   14.898]]"
      ]
     },
     "execution_count": 7,
     "metadata": {},
     "output_type": "execute_result"
    }
   ],
   "source": [
    "data"
   ]
  },
  {
   "cell_type": "markdown",
   "metadata": {
    "id": "Y5waYureN-lM"
   },
   "source": [
    "# Numpy Arrays and linear algebra"
   ]
  },
  {
   "cell_type": "markdown",
   "metadata": {
    "id": "93xb4LByOEid"
   },
   "source": [
    "* Create arrays\n",
    "* Shaping arrays\n",
    "* Indexing and slicing\n",
    "* ``linspace``\n",
    "* Array arithmetic\n",
    "* Inverse of a matrix\n",
    "* Eigenvalues, eigenvectors\n",
    "* Singular value decomposition"
   ]
  },
  {
   "cell_type": "code",
   "execution_count": 8,
   "metadata": {
    "colab": {
     "base_uri": "https://localhost:8080/"
    },
    "executionInfo": {
     "elapsed": 154,
     "status": "ok",
     "timestamp": 1664991112352,
     "user": {
      "displayName": "Joseph Hellerstein",
      "userId": "07301174361489660166"
     },
     "user_tz": 420
    },
    "id": "8O4LlaYvM693",
    "outputId": "d3f24df9-8bca-4909-a12c-fe6d770a4b2a"
   },
   "outputs": [
    {
     "data": {
      "text/plain": [
       "roadrunner._roadrunner.NamedArray"
      ]
     },
     "execution_count": 8,
     "metadata": {},
     "output_type": "execute_result"
    }
   ],
   "source": [
    "type(data)"
   ]
  },
  {
   "cell_type": "code",
   "execution_count": 9,
   "metadata": {
    "colab": {
     "base_uri": "https://localhost:8080/"
    },
    "executionInfo": {
     "elapsed": 151,
     "status": "ok",
     "timestamp": 1664991173424,
     "user": {
      "displayName": "Joseph Hellerstein",
      "userId": "07301174361489660166"
     },
     "user_tz": 420
    },
    "id": "zp_n8h8ZNF4D",
    "outputId": "6ff4de69-5620-4379-a9b0-ee29c9b4103f"
   },
   "outputs": [
    {
     "data": {
      "text/plain": [
       "204"
      ]
     },
     "execution_count": 9,
     "metadata": {},
     "output_type": "execute_result"
    }
   ],
   "source": [
    "data.size"
   ]
  },
  {
   "cell_type": "code",
   "execution_count": 10,
   "metadata": {
    "id": "dqcZvrSsNWZ3"
   },
   "outputs": [
    {
     "data": {
      "text/plain": [
       "\u001b[0;31mType:\u001b[0m        int\n",
       "\u001b[0;31mString form:\u001b[0m 204\n",
       "\u001b[0;31mDocstring:\u001b[0m  \n",
       "int([x]) -> integer\n",
       "int(x, base=10) -> integer\n",
       "\n",
       "Convert a number or string to an integer, or return 0 if no arguments\n",
       "are given.  If x is a number, return x.__int__().  For floating point\n",
       "numbers, this truncates towards zero.\n",
       "\n",
       "If x is not a number or if base is given, then x must be a string,\n",
       "bytes, or bytearray instance representing an integer literal in the\n",
       "given base.  The literal can be preceded by '+' or '-' and be surrounded\n",
       "by whitespace.  The base defaults to 10.  Valid bases are 0 and 2-36.\n",
       "Base 0 means to interpret the base from the string as an integer literal.\n",
       ">>> int('0b100', base=0)\n",
       "4\n"
      ]
     },
     "metadata": {},
     "output_type": "display_data"
    }
   ],
   "source": [
    "?data.size"
   ]
  },
  {
   "cell_type": "code",
   "execution_count": 11,
   "metadata": {
    "colab": {
     "base_uri": "https://localhost:8080/"
    },
    "executionInfo": {
     "elapsed": 471,
     "status": "ok",
     "timestamp": 1664991294205,
     "user": {
      "displayName": "Joseph Hellerstein",
      "userId": "07301174361489660166"
     },
     "user_tz": 420
    },
    "id": "V14vt7C0NfyY",
    "outputId": "f776e56b-a287-4bbd-e5dd-46242b738542"
   },
   "outputs": [
    {
     "data": {
      "text/plain": [
       "[10.          8.73437359  7.84249415  7.21399977  6.77110552  6.45901735\n",
       "  6.23909039  6.08411092  5.97489796  5.89793676  5.84370446  5.80548892\n",
       "  5.77855699  5.75957786  5.74620351  5.73677827  5.73013634  5.72545573\n",
       "  5.72215766  5.71983466  5.71819796  5.71704389  5.71622974  5.71565595\n",
       "  5.71525174  5.71496675  5.71476571  5.7146242   5.71452483  5.71445507\n",
       "  5.71440638  5.71437154  5.71434661  5.71432874  5.71431602  5.71430728\n",
       "  5.71430226  5.71429966  5.71429705  5.7142966   5.71429554  5.71429372\n",
       "  5.71429196  5.71429005  5.71428806  5.71428682  5.71428601  5.7142857\n",
       "  5.71428583  5.71428626  5.71428641]"
      ]
     },
     "execution_count": 11,
     "metadata": {},
     "output_type": "execute_result"
    }
   ],
   "source": [
    "# Extract values of [A]\n",
    "data[:,1]"
   ]
  },
  {
   "cell_type": "code",
   "execution_count": 12,
   "metadata": {
    "colab": {
     "base_uri": "https://localhost:8080/"
    },
    "executionInfo": {
     "elapsed": 120,
     "status": "ok",
     "timestamp": 1664991389954,
     "user": {
      "displayName": "Joseph Hellerstein",
      "userId": "07301174361489660166"
     },
     "user_tz": 420
    },
    "id": "XK_G7VDHN9K2",
    "outputId": "8152ed84-d2ae-449a-9121-ee2150f9acd0"
   },
   "outputs": [
    {
     "data": {
      "text/plain": [
       "[0.  0.1 0.2 0.3 0.4 0.5 0.6 0.7 0.8 0.9 1.  1.1 1.2 1.3 1.4 1.5 1.6 1.7\n",
       " 1.8 1.9 2.  2.1 2.2 2.3 2.4 2.5 2.6 2.7 2.8 2.9 3.  3.1 3.2 3.3 3.4 3.5\n",
       " 3.6 3.7 3.8 3.9 4.  4.1 4.2 4.3 4.4 4.5 4.6 4.7 4.8 4.9 5. ]"
      ]
     },
     "execution_count": 12,
     "metadata": {},
     "output_type": "execute_result"
    }
   ],
   "source": [
    "data[:,0]"
   ]
  },
  {
   "cell_type": "code",
   "execution_count": 13,
   "metadata": {
    "colab": {
     "base_uri": "https://localhost:8080/"
    },
    "executionInfo": {
     "elapsed": 197,
     "status": "ok",
     "timestamp": 1664991565726,
     "user": {
      "displayName": "Joseph Hellerstein",
      "userId": "07301174361489660166"
     },
     "user_tz": 420
    },
    "id": "5B68yI50OT_h",
    "outputId": "e2903929-7465-40c2-ca8b-dbffe63eefc3"
   },
   "outputs": [
    {
     "data": {
      "text/plain": [
       "[ 5.71428641  4.28571359 14.8979585 ]"
      ]
     },
     "execution_count": 13,
     "metadata": {},
     "output_type": "execute_result"
    }
   ],
   "source": [
    "# Last row\n",
    "data[-1,:]\n",
    "# Last row except for \"time\"\n",
    "data[-1, 1:]"
   ]
  },
  {
   "cell_type": "code",
   "execution_count": 14,
   "metadata": {
    "colab": {
     "base_uri": "https://localhost:8080/"
    },
    "executionInfo": {
     "elapsed": 219,
     "status": "ok",
     "timestamp": 1664991720245,
     "user": {
      "displayName": "Joseph Hellerstein",
      "userId": "07301174361489660166"
     },
     "user_tz": 420
    },
    "id": "54fbMf3uPKWb",
    "outputId": "ddd225e2-4815-4394-8a5d-71f15fc1ada8"
   },
   "outputs": [
    {
     "data": {
      "text/plain": [
       "[1.  1.1 1.2 1.3 1.4 1.5 1.6 1.7 1.8 1.9 2.  2.1 2.2 2.3 2.4 2.5 2.6 2.7\n",
       " 2.8 2.9 3.  3.1 3.2 3.3 3.4 3.5 3.6 3.7 3.8 3.9 4.  4.1 4.2 4.3 4.4 4.5\n",
       " 4.6 4.7 4.8 4.9 5.  5.1 5.2 5.3 5.4 5.5 5.6 5.7 5.8 5.9 6. ]"
      ]
     },
     "execution_count": 14,
     "metadata": {},
     "output_type": "execute_result"
    }
   ],
   "source": [
    "# Arithmetic with arrays\n",
    "data[:, 0] + 1"
   ]
  },
  {
   "cell_type": "code",
   "execution_count": 15,
   "metadata": {
    "colab": {
     "base_uri": "https://localhost:8080/"
    },
    "executionInfo": {
     "elapsed": 179,
     "status": "ok",
     "timestamp": 1664991773945,
     "user": {
      "displayName": "Joseph Hellerstein",
      "userId": "07301174361489660166"
     },
     "user_tz": 420
    },
    "id": "R83EyZWmPdFt",
    "outputId": "e1aa44d2-ab25-4c24-c6bf-5cc1201ce5e6"
   },
   "outputs": [
    {
     "data": {
      "text/plain": [
       "[10.         10.3361838  12.49732563 14.97579704 17.19686506 18.9975755\n",
       " 20.38353146 21.41829824 22.17634441 22.72485959 23.11849709 23.39941213\n",
       " 23.59913807 23.74075782 23.84098809 23.9118378  23.96187203 23.99718442\n",
       " 24.02209276 24.03965    24.05202668 24.06075696 24.06691736 24.0712599\n",
       " 24.07431941 24.07647673 24.07799863 24.07906994 24.07982229 24.08035041\n",
       " 24.08071909 24.08098281 24.08117159 24.0813069  24.0814032  24.08146933\n",
       " 24.08150739 24.08152707 24.08154679 24.08155023 24.08155829 24.08157206\n",
       " 24.08158538 24.0815998  24.08161486 24.08162432 24.08163039 24.08163279\n",
       " 24.08163174 24.08162852 24.08162736]"
      ]
     },
     "execution_count": 15,
     "metadata": {},
     "output_type": "execute_result"
    }
   ],
   "source": [
    "# Calculations on arrays\n",
    "data[:, 1] + data[:, 2]**2"
   ]
  },
  {
   "cell_type": "code",
   "execution_count": 16,
   "metadata": {
    "colab": {
     "base_uri": "https://localhost:8080/"
    },
    "executionInfo": {
     "elapsed": 2,
     "status": "ok",
     "timestamp": 1664992219856,
     "user": {
      "displayName": "Joseph Hellerstein",
      "userId": "07301174361489660166"
     },
     "user_tz": 420
    },
    "id": "Rmazi_OzPvIr",
    "outputId": "04e35273-e178-4d76-c93e-54bf4e6170f1"
   },
   "outputs": [
    {
     "data": {
      "text/plain": [
       " [[ 10.7832, 0.38972, 0.933132],\n",
       "  [ 9.36613, 2.08427,  1.10046],\n",
       "  [ 8.28605, 2.72958, 0.921847],\n",
       "  [ 7.27273, 3.28882,  1.40929],\n",
       "  [ 7.59758, 4.17497,   1.8921],\n",
       "  [  7.0228, 3.77152,   2.8344],\n",
       "  [ 6.31658, 4.30938,  2.96245],\n",
       "  [   6.237, 4.71724,  3.37271],\n",
       "  [ 6.04743, 4.62193,  3.61217],\n",
       "  [ 6.45645, 4.98957,  3.39336],\n",
       "  [ 6.38292,  4.5768,  4.25193],\n",
       "  [ 6.77724, 4.81263,  4.41637],\n",
       "  [ 6.00642, 4.70381,  4.71685],\n",
       "  [ 6.27123, 5.02815,  5.03479],\n",
       "  [ 6.71419, 4.51671,  4.92992],\n",
       "  [ 6.39749, 5.23752,  5.02748],\n",
       "  [  6.2354, 4.70051,  5.52928],\n",
       "  [ 6.12131, 5.12418,  5.78912],\n",
       "  [ 6.63345, 4.49578,  6.47805],\n",
       "  [ 6.56349, 4.61732,  6.42412],\n",
       "  [ 6.56828, 5.01292,   7.1728],\n",
       "  [ 5.90951, 5.18677,  7.30657],\n",
       "  [ 6.52121, 4.81608,  7.40311],\n",
       "  [ 6.68573, 4.72444,   7.1934],\n",
       "  [ 6.31919, 4.54029,  8.13358],\n",
       "  [ 6.43007, 4.99622,  8.29493],\n",
       "  [ 6.16101, 4.41458,   8.4707],\n",
       "  [ 5.80142, 4.37455,  8.92159],\n",
       "  [  5.8641, 4.59888,  9.56533],\n",
       "  [ 6.56536, 4.69969,  9.31555],\n",
       "  [ 5.74285, 5.16699,  10.1185],\n",
       "  [ 6.13097, 5.16235,  9.94034],\n",
       "  [ 6.51791, 4.99219,  9.88655],\n",
       "  [ 6.63256, 4.92439,  11.0306],\n",
       "  [ 6.27767, 5.09049,  11.0417],\n",
       "  [ 6.27618, 4.62194,   11.338],\n",
       "  [ 6.65149, 5.09775,    11.52],\n",
       "  [ 6.08435, 4.45015,  11.7404],\n",
       "  [   5.761, 5.05366,  11.8314],\n",
       "  [  6.5948, 4.80775,  12.4344],\n",
       "  [ 6.31857, 5.20141,  13.0244],\n",
       "  [ 5.77109, 4.47567,  12.4311],\n",
       "  [ 5.97599, 4.64103,  13.4348],\n",
       "  [ 6.55647, 4.96047,  12.9002],\n",
       "  [ 5.80259, 5.10578,  13.3207],\n",
       "  [ 6.43406, 4.50809,  13.4844],\n",
       "  [ 6.29008, 4.65206,  14.4462],\n",
       "  [ 6.23469, 4.62756,  14.0709],\n",
       "  [  6.1945, 5.03487,  15.0202],\n",
       "  [ 6.70866, 4.95594,  14.7418],\n",
       "  [ 6.53837, 4.99954,  15.7402]]"
      ]
     },
     "execution_count": 16,
     "metadata": {},
     "output_type": "execute_result"
    }
   ],
   "source": [
    "# Creating synthetic data\n",
    "# Find the shape of the random variables to create\n",
    "np.shape(data)\n",
    "noise = np.random.rand(51, 3)\n",
    "# Add noise to data\n",
    "noise_data = data[:, 1:] + noise\n",
    "noise_data"
   ]
  },
  {
   "cell_type": "code",
   "execution_count": 17,
   "metadata": {
    "colab": {
     "base_uri": "https://localhost:8080/"
    },
    "executionInfo": {
     "elapsed": 149,
     "status": "ok",
     "timestamp": 1664992549345,
     "user": {
      "displayName": "Joseph Hellerstein",
      "userId": "07301174361489660166"
     },
     "user_tz": 420
    },
    "id": "cAOGwYrURYY9",
    "outputId": "7cd5fae1-79ac-400e-a400-82f6ebcde3ff"
   },
   "outputs": [
    {
     "data": {
      "text/plain": [
       "5325.525779541136"
      ]
     },
     "execution_count": 17,
     "metadata": {},
     "output_type": "execute_result"
    }
   ],
   "source": [
    "# Calculate the sum of squared differences between data and noise_data\n",
    "ssd = np.sum((data[:, 1:] - 0.1*noise_data)**2)\n",
    "ssd"
   ]
  },
  {
   "cell_type": "code",
   "execution_count": 18,
   "metadata": {
    "colab": {
     "base_uri": "https://localhost:8080/"
    },
    "executionInfo": {
     "elapsed": 126,
     "status": "ok",
     "timestamp": 1664992891462,
     "user": {
      "displayName": "Joseph Hellerstein",
      "userId": "07301174361489660166"
     },
     "user_tz": 420
    },
    "id": "V4TistMtS__x",
    "outputId": "1cc1c6ab-4646-4ab2-d957-2472f45702a9"
   },
   "outputs": [
    {
     "data": {
      "text/plain": [
       "5788.072559881857"
      ]
     },
     "execution_count": 18,
     "metadata": {},
     "output_type": "execute_result"
    }
   ],
   "source": [
    "mult = 10\n",
    "noise_data = data[:, 1:] + mult*noise\n",
    "ssd = np.sum((data[:, 1:] - noise_data)**2)\n",
    "ssd"
   ]
  },
  {
   "cell_type": "markdown",
   "metadata": {
    "id": "bwzlgW5vOM8e"
   },
   "source": [
    "# Pandas Series and DataFrames"
   ]
  },
  {
   "cell_type": "code",
   "execution_count": 19,
   "metadata": {
    "colab": {
     "base_uri": "https://localhost:8080/",
     "height": 1000
    },
    "executionInfo": {
     "elapsed": 132,
     "status": "ok",
     "timestamp": 1664993055790,
     "user": {
      "displayName": "Joseph Hellerstein",
      "userId": "07301174361489660166"
     },
     "user_tz": 420
    },
    "id": "5vqX34AZUIZI",
    "outputId": "b70de403-ef01-4b1a-a925-7bb5f40f5a07"
   },
   "outputs": [
    {
     "data": {
      "text/html": [
       "<div>\n",
       "<style scoped>\n",
       "    .dataframe tbody tr th:only-of-type {\n",
       "        vertical-align: middle;\n",
       "    }\n",
       "\n",
       "    .dataframe tbody tr th {\n",
       "        vertical-align: top;\n",
       "    }\n",
       "\n",
       "    .dataframe thead th {\n",
       "        text-align: right;\n",
       "    }\n",
       "</style>\n",
       "<table border=\"1\" class=\"dataframe\">\n",
       "  <thead>\n",
       "    <tr style=\"text-align: right;\">\n",
       "      <th></th>\n",
       "      <th>time</th>\n",
       "      <th>A</th>\n",
       "      <th>B</th>\n",
       "      <th>C</th>\n",
       "    </tr>\n",
       "  </thead>\n",
       "  <tbody>\n",
       "    <tr>\n",
       "      <th>0</th>\n",
       "      <td>0.0</td>\n",
       "      <td>10.000000</td>\n",
       "      <td>0.000000</td>\n",
       "      <td>0.000000</td>\n",
       "    </tr>\n",
       "    <tr>\n",
       "      <th>1</th>\n",
       "      <td>0.1</td>\n",
       "      <td>8.734374</td>\n",
       "      <td>1.265626</td>\n",
       "      <td>0.466518</td>\n",
       "    </tr>\n",
       "    <tr>\n",
       "      <th>2</th>\n",
       "      <td>0.2</td>\n",
       "      <td>7.842494</td>\n",
       "      <td>2.157506</td>\n",
       "      <td>0.879643</td>\n",
       "    </tr>\n",
       "    <tr>\n",
       "      <th>3</th>\n",
       "      <td>0.3</td>\n",
       "      <td>7.214000</td>\n",
       "      <td>2.786000</td>\n",
       "      <td>1.255142</td>\n",
       "    </tr>\n",
       "    <tr>\n",
       "      <th>4</th>\n",
       "      <td>0.4</td>\n",
       "      <td>6.771106</td>\n",
       "      <td>3.228894</td>\n",
       "      <td>1.604127</td>\n",
       "    </tr>\n",
       "    <tr>\n",
       "      <th>5</th>\n",
       "      <td>0.5</td>\n",
       "      <td>6.459017</td>\n",
       "      <td>3.540983</td>\n",
       "      <td>1.934425</td>\n",
       "    </tr>\n",
       "    <tr>\n",
       "      <th>6</th>\n",
       "      <td>0.6</td>\n",
       "      <td>6.239090</td>\n",
       "      <td>3.760910</td>\n",
       "      <td>2.251558</td>\n",
       "    </tr>\n",
       "    <tr>\n",
       "      <th>7</th>\n",
       "      <td>0.7</td>\n",
       "      <td>6.084111</td>\n",
       "      <td>3.915889</td>\n",
       "      <td>2.559412</td>\n",
       "    </tr>\n",
       "    <tr>\n",
       "      <th>8</th>\n",
       "      <td>0.8</td>\n",
       "      <td>5.974898</td>\n",
       "      <td>4.025102</td>\n",
       "      <td>2.860728</td>\n",
       "    </tr>\n",
       "    <tr>\n",
       "      <th>9</th>\n",
       "      <td>0.9</td>\n",
       "      <td>5.897937</td>\n",
       "      <td>4.102063</td>\n",
       "      <td>3.157437</td>\n",
       "    </tr>\n",
       "    <tr>\n",
       "      <th>10</th>\n",
       "      <td>1.0</td>\n",
       "      <td>5.843704</td>\n",
       "      <td>4.156296</td>\n",
       "      <td>3.450899</td>\n",
       "    </tr>\n",
       "    <tr>\n",
       "      <th>11</th>\n",
       "      <td>1.1</td>\n",
       "      <td>5.805489</td>\n",
       "      <td>4.194511</td>\n",
       "      <td>3.742072</td>\n",
       "    </tr>\n",
       "    <tr>\n",
       "      <th>12</th>\n",
       "      <td>1.2</td>\n",
       "      <td>5.778557</td>\n",
       "      <td>4.221443</td>\n",
       "      <td>4.031634</td>\n",
       "    </tr>\n",
       "    <tr>\n",
       "      <th>13</th>\n",
       "      <td>1.3</td>\n",
       "      <td>5.759578</td>\n",
       "      <td>4.240422</td>\n",
       "      <td>4.320060</td>\n",
       "    </tr>\n",
       "    <tr>\n",
       "      <th>14</th>\n",
       "      <td>1.4</td>\n",
       "      <td>5.746204</td>\n",
       "      <td>4.253796</td>\n",
       "      <td>4.607685</td>\n",
       "    </tr>\n",
       "    <tr>\n",
       "      <th>15</th>\n",
       "      <td>1.5</td>\n",
       "      <td>5.736778</td>\n",
       "      <td>4.263222</td>\n",
       "      <td>4.894745</td>\n",
       "    </tr>\n",
       "    <tr>\n",
       "      <th>16</th>\n",
       "      <td>1.6</td>\n",
       "      <td>5.730136</td>\n",
       "      <td>4.269864</td>\n",
       "      <td>5.181409</td>\n",
       "    </tr>\n",
       "    <tr>\n",
       "      <th>17</th>\n",
       "      <td>1.7</td>\n",
       "      <td>5.725456</td>\n",
       "      <td>4.274544</td>\n",
       "      <td>5.467791</td>\n",
       "    </tr>\n",
       "    <tr>\n",
       "      <th>18</th>\n",
       "      <td>1.8</td>\n",
       "      <td>5.722158</td>\n",
       "      <td>4.277842</td>\n",
       "      <td>5.753977</td>\n",
       "    </tr>\n",
       "    <tr>\n",
       "      <th>19</th>\n",
       "      <td>1.9</td>\n",
       "      <td>5.719835</td>\n",
       "      <td>4.280165</td>\n",
       "      <td>6.040023</td>\n",
       "    </tr>\n",
       "    <tr>\n",
       "      <th>20</th>\n",
       "      <td>2.0</td>\n",
       "      <td>5.718198</td>\n",
       "      <td>4.281802</td>\n",
       "      <td>6.325971</td>\n",
       "    </tr>\n",
       "    <tr>\n",
       "      <th>21</th>\n",
       "      <td>2.1</td>\n",
       "      <td>5.717044</td>\n",
       "      <td>4.282956</td>\n",
       "      <td>6.611850</td>\n",
       "    </tr>\n",
       "    <tr>\n",
       "      <th>22</th>\n",
       "      <td>2.2</td>\n",
       "      <td>5.716230</td>\n",
       "      <td>4.283770</td>\n",
       "      <td>6.897681</td>\n",
       "    </tr>\n",
       "    <tr>\n",
       "      <th>23</th>\n",
       "      <td>2.3</td>\n",
       "      <td>5.715656</td>\n",
       "      <td>4.284344</td>\n",
       "      <td>7.183477</td>\n",
       "    </tr>\n",
       "    <tr>\n",
       "      <th>24</th>\n",
       "      <td>2.4</td>\n",
       "      <td>5.715252</td>\n",
       "      <td>4.284748</td>\n",
       "      <td>7.469249</td>\n",
       "    </tr>\n",
       "    <tr>\n",
       "      <th>25</th>\n",
       "      <td>2.5</td>\n",
       "      <td>5.714967</td>\n",
       "      <td>4.285033</td>\n",
       "      <td>7.755004</td>\n",
       "    </tr>\n",
       "    <tr>\n",
       "      <th>26</th>\n",
       "      <td>2.6</td>\n",
       "      <td>5.714766</td>\n",
       "      <td>4.285234</td>\n",
       "      <td>8.040747</td>\n",
       "    </tr>\n",
       "    <tr>\n",
       "      <th>27</th>\n",
       "      <td>2.7</td>\n",
       "      <td>5.714624</td>\n",
       "      <td>4.285376</td>\n",
       "      <td>8.326482</td>\n",
       "    </tr>\n",
       "    <tr>\n",
       "      <th>28</th>\n",
       "      <td>2.8</td>\n",
       "      <td>5.714525</td>\n",
       "      <td>4.285475</td>\n",
       "      <td>8.612210</td>\n",
       "    </tr>\n",
       "    <tr>\n",
       "      <th>29</th>\n",
       "      <td>2.9</td>\n",
       "      <td>5.714455</td>\n",
       "      <td>4.285545</td>\n",
       "      <td>8.897934</td>\n",
       "    </tr>\n",
       "    <tr>\n",
       "      <th>30</th>\n",
       "      <td>3.0</td>\n",
       "      <td>5.714406</td>\n",
       "      <td>4.285594</td>\n",
       "      <td>9.183656</td>\n",
       "    </tr>\n",
       "    <tr>\n",
       "      <th>31</th>\n",
       "      <td>3.1</td>\n",
       "      <td>5.714372</td>\n",
       "      <td>4.285628</td>\n",
       "      <td>9.469375</td>\n",
       "    </tr>\n",
       "    <tr>\n",
       "      <th>32</th>\n",
       "      <td>3.2</td>\n",
       "      <td>5.714347</td>\n",
       "      <td>4.285653</td>\n",
       "      <td>9.755093</td>\n",
       "    </tr>\n",
       "    <tr>\n",
       "      <th>33</th>\n",
       "      <td>3.3</td>\n",
       "      <td>5.714329</td>\n",
       "      <td>4.285671</td>\n",
       "      <td>10.040810</td>\n",
       "    </tr>\n",
       "    <tr>\n",
       "      <th>34</th>\n",
       "      <td>3.4</td>\n",
       "      <td>5.714316</td>\n",
       "      <td>4.285684</td>\n",
       "      <td>10.326526</td>\n",
       "    </tr>\n",
       "    <tr>\n",
       "      <th>35</th>\n",
       "      <td>3.5</td>\n",
       "      <td>5.714307</td>\n",
       "      <td>4.285693</td>\n",
       "      <td>10.612241</td>\n",
       "    </tr>\n",
       "    <tr>\n",
       "      <th>36</th>\n",
       "      <td>3.6</td>\n",
       "      <td>5.714302</td>\n",
       "      <td>4.285698</td>\n",
       "      <td>10.897956</td>\n",
       "    </tr>\n",
       "    <tr>\n",
       "      <th>37</th>\n",
       "      <td>3.7</td>\n",
       "      <td>5.714300</td>\n",
       "      <td>4.285700</td>\n",
       "      <td>11.183671</td>\n",
       "    </tr>\n",
       "    <tr>\n",
       "      <th>38</th>\n",
       "      <td>3.8</td>\n",
       "      <td>5.714297</td>\n",
       "      <td>4.285703</td>\n",
       "      <td>11.469386</td>\n",
       "    </tr>\n",
       "    <tr>\n",
       "      <th>39</th>\n",
       "      <td>3.9</td>\n",
       "      <td>5.714297</td>\n",
       "      <td>4.285703</td>\n",
       "      <td>11.755100</td>\n",
       "    </tr>\n",
       "    <tr>\n",
       "      <th>40</th>\n",
       "      <td>4.0</td>\n",
       "      <td>5.714296</td>\n",
       "      <td>4.285704</td>\n",
       "      <td>12.040814</td>\n",
       "    </tr>\n",
       "    <tr>\n",
       "      <th>41</th>\n",
       "      <td>4.1</td>\n",
       "      <td>5.714294</td>\n",
       "      <td>4.285706</td>\n",
       "      <td>12.326529</td>\n",
       "    </tr>\n",
       "    <tr>\n",
       "      <th>42</th>\n",
       "      <td>4.2</td>\n",
       "      <td>5.714292</td>\n",
       "      <td>4.285708</td>\n",
       "      <td>12.612243</td>\n",
       "    </tr>\n",
       "    <tr>\n",
       "      <th>43</th>\n",
       "      <td>4.3</td>\n",
       "      <td>5.714290</td>\n",
       "      <td>4.285710</td>\n",
       "      <td>12.897958</td>\n",
       "    </tr>\n",
       "    <tr>\n",
       "      <th>44</th>\n",
       "      <td>4.4</td>\n",
       "      <td>5.714288</td>\n",
       "      <td>4.285712</td>\n",
       "      <td>13.183673</td>\n",
       "    </tr>\n",
       "    <tr>\n",
       "      <th>45</th>\n",
       "      <td>4.5</td>\n",
       "      <td>5.714287</td>\n",
       "      <td>4.285713</td>\n",
       "      <td>13.469387</td>\n",
       "    </tr>\n",
       "    <tr>\n",
       "      <th>46</th>\n",
       "      <td>4.6</td>\n",
       "      <td>5.714286</td>\n",
       "      <td>4.285714</td>\n",
       "      <td>13.755101</td>\n",
       "    </tr>\n",
       "    <tr>\n",
       "      <th>47</th>\n",
       "      <td>4.7</td>\n",
       "      <td>5.714286</td>\n",
       "      <td>4.285714</td>\n",
       "      <td>14.040816</td>\n",
       "    </tr>\n",
       "    <tr>\n",
       "      <th>48</th>\n",
       "      <td>4.8</td>\n",
       "      <td>5.714286</td>\n",
       "      <td>4.285714</td>\n",
       "      <td>14.326530</td>\n",
       "    </tr>\n",
       "    <tr>\n",
       "      <th>49</th>\n",
       "      <td>4.9</td>\n",
       "      <td>5.714286</td>\n",
       "      <td>4.285714</td>\n",
       "      <td>14.612244</td>\n",
       "    </tr>\n",
       "    <tr>\n",
       "      <th>50</th>\n",
       "      <td>5.0</td>\n",
       "      <td>5.714286</td>\n",
       "      <td>4.285714</td>\n",
       "      <td>14.897959</td>\n",
       "    </tr>\n",
       "  </tbody>\n",
       "</table>\n",
       "</div>"
      ],
      "text/plain": [
       "    time          A         B          C\n",
       "0    0.0  10.000000  0.000000   0.000000\n",
       "1    0.1   8.734374  1.265626   0.466518\n",
       "2    0.2   7.842494  2.157506   0.879643\n",
       "3    0.3   7.214000  2.786000   1.255142\n",
       "4    0.4   6.771106  3.228894   1.604127\n",
       "5    0.5   6.459017  3.540983   1.934425\n",
       "6    0.6   6.239090  3.760910   2.251558\n",
       "7    0.7   6.084111  3.915889   2.559412\n",
       "8    0.8   5.974898  4.025102   2.860728\n",
       "9    0.9   5.897937  4.102063   3.157437\n",
       "10   1.0   5.843704  4.156296   3.450899\n",
       "11   1.1   5.805489  4.194511   3.742072\n",
       "12   1.2   5.778557  4.221443   4.031634\n",
       "13   1.3   5.759578  4.240422   4.320060\n",
       "14   1.4   5.746204  4.253796   4.607685\n",
       "15   1.5   5.736778  4.263222   4.894745\n",
       "16   1.6   5.730136  4.269864   5.181409\n",
       "17   1.7   5.725456  4.274544   5.467791\n",
       "18   1.8   5.722158  4.277842   5.753977\n",
       "19   1.9   5.719835  4.280165   6.040023\n",
       "20   2.0   5.718198  4.281802   6.325971\n",
       "21   2.1   5.717044  4.282956   6.611850\n",
       "22   2.2   5.716230  4.283770   6.897681\n",
       "23   2.3   5.715656  4.284344   7.183477\n",
       "24   2.4   5.715252  4.284748   7.469249\n",
       "25   2.5   5.714967  4.285033   7.755004\n",
       "26   2.6   5.714766  4.285234   8.040747\n",
       "27   2.7   5.714624  4.285376   8.326482\n",
       "28   2.8   5.714525  4.285475   8.612210\n",
       "29   2.9   5.714455  4.285545   8.897934\n",
       "30   3.0   5.714406  4.285594   9.183656\n",
       "31   3.1   5.714372  4.285628   9.469375\n",
       "32   3.2   5.714347  4.285653   9.755093\n",
       "33   3.3   5.714329  4.285671  10.040810\n",
       "34   3.4   5.714316  4.285684  10.326526\n",
       "35   3.5   5.714307  4.285693  10.612241\n",
       "36   3.6   5.714302  4.285698  10.897956\n",
       "37   3.7   5.714300  4.285700  11.183671\n",
       "38   3.8   5.714297  4.285703  11.469386\n",
       "39   3.9   5.714297  4.285703  11.755100\n",
       "40   4.0   5.714296  4.285704  12.040814\n",
       "41   4.1   5.714294  4.285706  12.326529\n",
       "42   4.2   5.714292  4.285708  12.612243\n",
       "43   4.3   5.714290  4.285710  12.897958\n",
       "44   4.4   5.714288  4.285712  13.183673\n",
       "45   4.5   5.714287  4.285713  13.469387\n",
       "46   4.6   5.714286  4.285714  13.755101\n",
       "47   4.7   5.714286  4.285714  14.040816\n",
       "48   4.8   5.714286  4.285714  14.326530\n",
       "49   4.9   5.714286  4.285714  14.612244\n",
       "50   5.0   5.714286  4.285714  14.897959"
      ]
     },
     "execution_count": 19,
     "metadata": {},
     "output_type": "execute_result"
    }
   ],
   "source": [
    "data_df = pd.DataFrame(data, columns=[\"time\", \"A\", \"B\", \"C\"])\n",
    "data_df"
   ]
  },
  {
   "cell_type": "code",
   "execution_count": 20,
   "metadata": {
    "colab": {
     "base_uri": "https://localhost:8080/",
     "height": 1000
    },
    "executionInfo": {
     "elapsed": 183,
     "status": "ok",
     "timestamp": 1664993135859,
     "user": {
      "displayName": "Joseph Hellerstein",
      "userId": "07301174361489660166"
     },
     "user_tz": 420
    },
    "id": "W85AJkXMUrMh",
    "outputId": "adbcf8fd-d53a-4ab1-dd42-f1a6a7c4180b"
   },
   "outputs": [
    {
     "data": {
      "text/html": [
       "<div>\n",
       "<style scoped>\n",
       "    .dataframe tbody tr th:only-of-type {\n",
       "        vertical-align: middle;\n",
       "    }\n",
       "\n",
       "    .dataframe tbody tr th {\n",
       "        vertical-align: top;\n",
       "    }\n",
       "\n",
       "    .dataframe thead th {\n",
       "        text-align: right;\n",
       "    }\n",
       "</style>\n",
       "<table border=\"1\" class=\"dataframe\">\n",
       "  <thead>\n",
       "    <tr style=\"text-align: right;\">\n",
       "      <th></th>\n",
       "      <th>A</th>\n",
       "      <th>C</th>\n",
       "    </tr>\n",
       "  </thead>\n",
       "  <tbody>\n",
       "    <tr>\n",
       "      <th>0</th>\n",
       "      <td>10.000000</td>\n",
       "      <td>0.000000</td>\n",
       "    </tr>\n",
       "    <tr>\n",
       "      <th>1</th>\n",
       "      <td>8.734374</td>\n",
       "      <td>0.466518</td>\n",
       "    </tr>\n",
       "    <tr>\n",
       "      <th>2</th>\n",
       "      <td>7.842494</td>\n",
       "      <td>0.879643</td>\n",
       "    </tr>\n",
       "    <tr>\n",
       "      <th>3</th>\n",
       "      <td>7.214000</td>\n",
       "      <td>1.255142</td>\n",
       "    </tr>\n",
       "    <tr>\n",
       "      <th>4</th>\n",
       "      <td>6.771106</td>\n",
       "      <td>1.604127</td>\n",
       "    </tr>\n",
       "    <tr>\n",
       "      <th>5</th>\n",
       "      <td>6.459017</td>\n",
       "      <td>1.934425</td>\n",
       "    </tr>\n",
       "    <tr>\n",
       "      <th>6</th>\n",
       "      <td>6.239090</td>\n",
       "      <td>2.251558</td>\n",
       "    </tr>\n",
       "    <tr>\n",
       "      <th>7</th>\n",
       "      <td>6.084111</td>\n",
       "      <td>2.559412</td>\n",
       "    </tr>\n",
       "    <tr>\n",
       "      <th>8</th>\n",
       "      <td>5.974898</td>\n",
       "      <td>2.860728</td>\n",
       "    </tr>\n",
       "    <tr>\n",
       "      <th>9</th>\n",
       "      <td>5.897937</td>\n",
       "      <td>3.157437</td>\n",
       "    </tr>\n",
       "    <tr>\n",
       "      <th>10</th>\n",
       "      <td>5.843704</td>\n",
       "      <td>3.450899</td>\n",
       "    </tr>\n",
       "    <tr>\n",
       "      <th>11</th>\n",
       "      <td>5.805489</td>\n",
       "      <td>3.742072</td>\n",
       "    </tr>\n",
       "    <tr>\n",
       "      <th>12</th>\n",
       "      <td>5.778557</td>\n",
       "      <td>4.031634</td>\n",
       "    </tr>\n",
       "    <tr>\n",
       "      <th>13</th>\n",
       "      <td>5.759578</td>\n",
       "      <td>4.320060</td>\n",
       "    </tr>\n",
       "    <tr>\n",
       "      <th>14</th>\n",
       "      <td>5.746204</td>\n",
       "      <td>4.607685</td>\n",
       "    </tr>\n",
       "    <tr>\n",
       "      <th>15</th>\n",
       "      <td>5.736778</td>\n",
       "      <td>4.894745</td>\n",
       "    </tr>\n",
       "    <tr>\n",
       "      <th>16</th>\n",
       "      <td>5.730136</td>\n",
       "      <td>5.181409</td>\n",
       "    </tr>\n",
       "    <tr>\n",
       "      <th>17</th>\n",
       "      <td>5.725456</td>\n",
       "      <td>5.467791</td>\n",
       "    </tr>\n",
       "    <tr>\n",
       "      <th>18</th>\n",
       "      <td>5.722158</td>\n",
       "      <td>5.753977</td>\n",
       "    </tr>\n",
       "    <tr>\n",
       "      <th>19</th>\n",
       "      <td>5.719835</td>\n",
       "      <td>6.040023</td>\n",
       "    </tr>\n",
       "    <tr>\n",
       "      <th>20</th>\n",
       "      <td>5.718198</td>\n",
       "      <td>6.325971</td>\n",
       "    </tr>\n",
       "    <tr>\n",
       "      <th>21</th>\n",
       "      <td>5.717044</td>\n",
       "      <td>6.611850</td>\n",
       "    </tr>\n",
       "    <tr>\n",
       "      <th>22</th>\n",
       "      <td>5.716230</td>\n",
       "      <td>6.897681</td>\n",
       "    </tr>\n",
       "    <tr>\n",
       "      <th>23</th>\n",
       "      <td>5.715656</td>\n",
       "      <td>7.183477</td>\n",
       "    </tr>\n",
       "    <tr>\n",
       "      <th>24</th>\n",
       "      <td>5.715252</td>\n",
       "      <td>7.469249</td>\n",
       "    </tr>\n",
       "    <tr>\n",
       "      <th>25</th>\n",
       "      <td>5.714967</td>\n",
       "      <td>7.755004</td>\n",
       "    </tr>\n",
       "    <tr>\n",
       "      <th>26</th>\n",
       "      <td>5.714766</td>\n",
       "      <td>8.040747</td>\n",
       "    </tr>\n",
       "    <tr>\n",
       "      <th>27</th>\n",
       "      <td>5.714624</td>\n",
       "      <td>8.326482</td>\n",
       "    </tr>\n",
       "    <tr>\n",
       "      <th>28</th>\n",
       "      <td>5.714525</td>\n",
       "      <td>8.612210</td>\n",
       "    </tr>\n",
       "    <tr>\n",
       "      <th>29</th>\n",
       "      <td>5.714455</td>\n",
       "      <td>8.897934</td>\n",
       "    </tr>\n",
       "    <tr>\n",
       "      <th>30</th>\n",
       "      <td>5.714406</td>\n",
       "      <td>9.183656</td>\n",
       "    </tr>\n",
       "    <tr>\n",
       "      <th>31</th>\n",
       "      <td>5.714372</td>\n",
       "      <td>9.469375</td>\n",
       "    </tr>\n",
       "    <tr>\n",
       "      <th>32</th>\n",
       "      <td>5.714347</td>\n",
       "      <td>9.755093</td>\n",
       "    </tr>\n",
       "    <tr>\n",
       "      <th>33</th>\n",
       "      <td>5.714329</td>\n",
       "      <td>10.040810</td>\n",
       "    </tr>\n",
       "    <tr>\n",
       "      <th>34</th>\n",
       "      <td>5.714316</td>\n",
       "      <td>10.326526</td>\n",
       "    </tr>\n",
       "    <tr>\n",
       "      <th>35</th>\n",
       "      <td>5.714307</td>\n",
       "      <td>10.612241</td>\n",
       "    </tr>\n",
       "    <tr>\n",
       "      <th>36</th>\n",
       "      <td>5.714302</td>\n",
       "      <td>10.897956</td>\n",
       "    </tr>\n",
       "    <tr>\n",
       "      <th>37</th>\n",
       "      <td>5.714300</td>\n",
       "      <td>11.183671</td>\n",
       "    </tr>\n",
       "    <tr>\n",
       "      <th>38</th>\n",
       "      <td>5.714297</td>\n",
       "      <td>11.469386</td>\n",
       "    </tr>\n",
       "    <tr>\n",
       "      <th>39</th>\n",
       "      <td>5.714297</td>\n",
       "      <td>11.755100</td>\n",
       "    </tr>\n",
       "    <tr>\n",
       "      <th>40</th>\n",
       "      <td>5.714296</td>\n",
       "      <td>12.040814</td>\n",
       "    </tr>\n",
       "    <tr>\n",
       "      <th>41</th>\n",
       "      <td>5.714294</td>\n",
       "      <td>12.326529</td>\n",
       "    </tr>\n",
       "    <tr>\n",
       "      <th>42</th>\n",
       "      <td>5.714292</td>\n",
       "      <td>12.612243</td>\n",
       "    </tr>\n",
       "    <tr>\n",
       "      <th>43</th>\n",
       "      <td>5.714290</td>\n",
       "      <td>12.897958</td>\n",
       "    </tr>\n",
       "    <tr>\n",
       "      <th>44</th>\n",
       "      <td>5.714288</td>\n",
       "      <td>13.183673</td>\n",
       "    </tr>\n",
       "    <tr>\n",
       "      <th>45</th>\n",
       "      <td>5.714287</td>\n",
       "      <td>13.469387</td>\n",
       "    </tr>\n",
       "    <tr>\n",
       "      <th>46</th>\n",
       "      <td>5.714286</td>\n",
       "      <td>13.755101</td>\n",
       "    </tr>\n",
       "    <tr>\n",
       "      <th>47</th>\n",
       "      <td>5.714286</td>\n",
       "      <td>14.040816</td>\n",
       "    </tr>\n",
       "    <tr>\n",
       "      <th>48</th>\n",
       "      <td>5.714286</td>\n",
       "      <td>14.326530</td>\n",
       "    </tr>\n",
       "    <tr>\n",
       "      <th>49</th>\n",
       "      <td>5.714286</td>\n",
       "      <td>14.612244</td>\n",
       "    </tr>\n",
       "    <tr>\n",
       "      <th>50</th>\n",
       "      <td>5.714286</td>\n",
       "      <td>14.897959</td>\n",
       "    </tr>\n",
       "  </tbody>\n",
       "</table>\n",
       "</div>"
      ],
      "text/plain": [
       "            A          C\n",
       "0   10.000000   0.000000\n",
       "1    8.734374   0.466518\n",
       "2    7.842494   0.879643\n",
       "3    7.214000   1.255142\n",
       "4    6.771106   1.604127\n",
       "5    6.459017   1.934425\n",
       "6    6.239090   2.251558\n",
       "7    6.084111   2.559412\n",
       "8    5.974898   2.860728\n",
       "9    5.897937   3.157437\n",
       "10   5.843704   3.450899\n",
       "11   5.805489   3.742072\n",
       "12   5.778557   4.031634\n",
       "13   5.759578   4.320060\n",
       "14   5.746204   4.607685\n",
       "15   5.736778   4.894745\n",
       "16   5.730136   5.181409\n",
       "17   5.725456   5.467791\n",
       "18   5.722158   5.753977\n",
       "19   5.719835   6.040023\n",
       "20   5.718198   6.325971\n",
       "21   5.717044   6.611850\n",
       "22   5.716230   6.897681\n",
       "23   5.715656   7.183477\n",
       "24   5.715252   7.469249\n",
       "25   5.714967   7.755004\n",
       "26   5.714766   8.040747\n",
       "27   5.714624   8.326482\n",
       "28   5.714525   8.612210\n",
       "29   5.714455   8.897934\n",
       "30   5.714406   9.183656\n",
       "31   5.714372   9.469375\n",
       "32   5.714347   9.755093\n",
       "33   5.714329  10.040810\n",
       "34   5.714316  10.326526\n",
       "35   5.714307  10.612241\n",
       "36   5.714302  10.897956\n",
       "37   5.714300  11.183671\n",
       "38   5.714297  11.469386\n",
       "39   5.714297  11.755100\n",
       "40   5.714296  12.040814\n",
       "41   5.714294  12.326529\n",
       "42   5.714292  12.612243\n",
       "43   5.714290  12.897958\n",
       "44   5.714288  13.183673\n",
       "45   5.714287  13.469387\n",
       "46   5.714286  13.755101\n",
       "47   5.714286  14.040816\n",
       "48   5.714286  14.326530\n",
       "49   5.714286  14.612244\n",
       "50   5.714286  14.897959"
      ]
     },
     "execution_count": 20,
     "metadata": {},
     "output_type": "execute_result"
    }
   ],
   "source": [
    "data_df[[\"A\", \"C\"]]"
   ]
  },
  {
   "cell_type": "code",
   "execution_count": 21,
   "metadata": {
    "colab": {
     "base_uri": "https://localhost:8080/",
     "height": 283
    },
    "executionInfo": {
     "elapsed": 360,
     "status": "ok",
     "timestamp": 1664993230550,
     "user": {
      "displayName": "Joseph Hellerstein",
      "userId": "07301174361489660166"
     },
     "user_tz": 420
    },
    "id": "stWjni_6VEKv",
    "outputId": "72b537d1-41d9-4daf-acaf-fd61eb965e8f"
   },
   "outputs": [
    {
     "data": {
      "text/plain": [
       "<AxesSubplot: >"
      ]
     },
     "execution_count": 21,
     "metadata": {},
     "output_type": "execute_result"
    },
    {
     "data": {
      "image/png": "[encoded data removed]",
      "text/plain": [
       "<Figure size 640x480 with 1 Axes>"
      ]
     },
     "metadata": {},
     "output_type": "display_data"
    }
   ],
   "source": [
    "data_df.plot()"
   ]
  },
  {
   "cell_type": "code",
   "execution_count": 22,
   "metadata": {
    "colab": {
     "base_uri": "https://localhost:8080/",
     "height": 297
    },
    "executionInfo": {
     "elapsed": 413,
     "status": "ok",
     "timestamp": 1664993356373,
     "user": {
      "displayName": "Joseph Hellerstein",
      "userId": "07301174361489660166"
     },
     "user_tz": 420
    },
    "id": "irABKl2lVSzv",
    "outputId": "c53a009f-5a18-4169-987b-bd4268510fd3"
   },
   "outputs": [
    {
     "data": {
      "text/plain": [
       "<AxesSubplot: xlabel='time'>"
      ]
     },
     "execution_count": 22,
     "metadata": {},
     "output_type": "execute_result"
    },
    {
     "data": {
      "image/png": "[encoded data removed]",
      "text/plain": [
       "<Figure size 640x480 with 1 Axes>"
      ]
     },
     "metadata": {},
     "output_type": "display_data"
    }
   ],
   "source": [
    "data1_df = data_df.copy()\n",
    "data1_df.index = data1_df[\"time\"]\n",
    "del data1_df[\"time\"]\n",
    "data1_df.plot()"
   ]
  },
  {
   "cell_type": "markdown",
   "metadata": {
    "id": "ZWRRfSiKekcO"
   },
   "source": [
    "# Running simulations from BioModels\n",
    "The [BioModels](https://www.ebi.ac.uk/biomodels/) repository contains simulations used in many published papers."
   ]
  },
  {
   "cell_type": "code",
   "execution_count": 23,
   "metadata": {
    "colab": {
     "base_uri": "https://localhost:8080/",
     "height": 265
    },
    "executionInfo": {
     "elapsed": 1218,
     "status": "ok",
     "timestamp": 1664993752034,
     "user": {
      "displayName": "Joseph Hellerstein",
      "userId": "07301174361489660166"
     },
     "user_tz": 420
    },
    "id": "PdlhA_pOe66i",
    "outputId": "f947d8d9-8c9e-477f-e256-729b097b9094"
   },
   "outputs": [
    {
     "data": {
      "image/png": "[encoded data removed]",
      "text/plain": [
       "<Figure size 600x400 with 1 Axes>"
      ]
     },
     "metadata": {},
     "output_type": "display_data"
    }
   ],
   "source": [
    "# Glycolytic oscillations - BioModels 206\n",
    "url = \"https://www.ebi.ac.uk/biomodels/model/download/BIOMD0000000206.2?filename=BIOMD0000000206_url.xml\"\n",
    "runner = te.loadSBMLModel(url)\n",
    "data = runner.simulate()\n",
    "runner.plot()"
   ]
  },
  {
   "cell_type": "code",
   "execution_count": 24,
   "metadata": {
    "colab": {
     "base_uri": "https://localhost:8080/"
    },
    "executionInfo": {
     "elapsed": 182,
     "status": "ok",
     "timestamp": 1664993785199,
     "user": {
      "displayName": "Joseph Hellerstein",
      "userId": "07301174361489660166"
     },
     "user_tz": 420
    },
    "id": "hlpyQMaVgmId",
    "outputId": "043a6682-5820-4d03-8845-4574cdab9323"
   },
   "outputs": [
    {
     "name": "stdout",
     "output_type": "stream",
     "text": [
      "// Created by libAntimony v2.13.2\n",
      "model *Wolf2000_Glycolytic_Oscillations()\n",
      "\n",
      "  // Compartments and Species:\n",
      "  compartment compartment_;\n",
      "  species s1 in compartment_, at_ in compartment_, s2 in compartment_, s3 in compartment_;\n",
      "  species na in compartment_, s4 in compartment_, s5 in compartment_, s6 in compartment_;\n",
      "  species s6o in compartment_;\n",
      "\n",
      "  // Reactions:\n",
      "  v1: s1 + 2 at_ -> s2; compartment_*k1*s1*at_/(1 + (at_/ki)^n);\n",
      "  v2: s2 -> 2 s3; compartment_*k2*s2;\n",
      "  v3: s3 + na -> s4 + at_; compartment_*((k31*k32*s3*na*(atot - at_) - k33*k34*s4*at_*(ntot - na))/(k33*(ntot - na) + k32*(atot - at_)));\n",
      "  v4: s4 -> s5 + at_; compartment_*k4*s4*(atot - at_);\n",
      "  v5: s5 -> s6; compartment_*k5*s5;\n",
      "  v7: at_ -> ; compartment_*k7*at_;\n",
      "  v8: s3 -> na; compartment_*k8*s3*(ntot - na);\n",
      "  v9: s6o -> ; compartment_*k9*s6o;\n",
      "  v10: s6 -> 0.1 s6o; compartment_*k10*(s6 - s6o);\n",
      "  v6: s6 -> na; compartment_*k6*s6*(ntot - na);\n",
      "  v0:  -> s1; compartment_*k0;\n",
      "\n",
      "  // Species initializations:\n",
      "  s1 = 1;\n",
      "  at_ = 2;\n",
      "  s2 = 5;\n",
      "  s3 = 0.6;\n",
      "  na = 0.6;\n",
      "  s4 = 0.7;\n",
      "  s5 = 8;\n",
      "  s6 = 0.08;\n",
      "  s6o = 0.02;\n",
      "\n",
      "  // Compartment initializations:\n",
      "  compartment_ = 1;\n",
      "\n",
      "  // Variable initializations:\n",
      "  k0 = 50;\n",
      "  k0 has mM_min_1;\n",
      "  k1 = 550;\n",
      "  k1 has mM_1_min_1;\n",
      "  k2 = 9.8;\n",
      "  k2 has min_1;\n",
      "  k31 = 323.8;\n",
      "  k31 has mM_1_min_1;\n",
      "  k33 = 57823.1;\n",
      "  k33 has mM_1_min_1;\n",
      "  k32 = 76411.1;\n",
      "  k32 has mM_1_min_1;\n",
      "  k34 = 23.7;\n",
      "  k34 has mM_1_min_1;\n",
      "  k4 = 80;\n",
      "  k4 has mM_1_min_1;\n",
      "  k5 = 9.7;\n",
      "  k5 has min_1;\n",
      "  k6 = 2000;\n",
      "  k6 has mM_1_min_1;\n",
      "  k7 = 28;\n",
      "  k7 has min_1;\n",
      "  k8 = 85.7;\n",
      "  k8 has mM_1_min_1;\n",
      "  k9 = 80;\n",
      "  k9 has min_1;\n",
      "  k10 = 375;\n",
      "  k10 has min_1;\n",
      "  atot = 4;\n",
      "  atot has mM;\n",
      "  ntot = 1;\n",
      "  ntot has mM;\n",
      "  n = 4;\n",
      "  n has dimensionless;\n",
      "  ki = 1;\n",
      "  ki has mM;\n",
      "\n",
      "  // Other declarations:\n",
      "  const compartment_, k0, k1, k2, k31, k33, k32, k34, k4, k5, k6, k7, k8;\n",
      "  const k9, k10, atot, ntot, n, ki;\n",
      "\n",
      "  // Unit definitions:\n",
      "  unit substance = 1e-3 mole;\n",
      "  unit time_unit = 60 second;\n",
      "  unit mM = 1e-3 mole / litre;\n",
      "  unit mM_min_1 = 1e-3 mole / (litre * 60 second);\n",
      "  unit min_1 = 1 / 60 second;\n",
      "  unit mM_1_min_1 = litre / (1e-3 mole * 60 second);\n",
      "\n",
      "  // Display Names:\n",
      "  substance is \"milli mole\";\n",
      "  time_unit is \"min\";\n",
      "  compartment_ is \"compartment\";\n",
      "  s1 is \"Glucose\";\n",
      "  at_ is \"ATP\";\n",
      "  s2 is \"F16P\";\n",
      "  s3 is \"Triose_Gly3Phos_DHAP\";\n",
      "  na is \"NAD\";\n",
      "  s4 is \"3PG\";\n",
      "  s5 is \"Pyruvate\";\n",
      "  s6 is \"Acetaldehyde\";\n",
      "  s6o is \"extracellular acetaldehyde\";\n",
      "\n",
      "  // CV terms:\n",
      "  s1 identity \"http://identifiers.org/obo.chebi/CHEBI:17234\",\n",
      "              \"http://identifiers.org/kegg.compound/C00293\"\n",
      "  at_ identity \"http://identifiers.org/obo.chebi/CHEBI:15422\",\n",
      "               \"http://identifiers.org/kegg.compound/C00002\"\n",
      "  s2 identity \"http://identifiers.org/obo.chebi/CHEBI:16905\",\n",
      "              \"http://identifiers.org/kegg.compound/C05378\"\n",
      "  s3 part \"http://identifiers.org/obo.chebi/CHEBI:16108\",\n",
      "          \"http://identifiers.org/obo.chebi/CHEBI:29052\",\n",
      "          \"http://identifiers.org/kegg.compound/C00111\",\n",
      "          \"http://identifiers.org/kegg.compound/C00118\"\n",
      "  na identity \"http://identifiers.org/obo.chebi/CHEBI:15846\",\n",
      "              \"http://identifiers.org/kegg.compound/C00003\"\n",
      "  s4 identity \"http://identifiers.org/obo.chebi/CHEBI:17794\",\n",
      "              \"http://identifiers.org/kegg.compound/C00197\"\n",
      "  s5 identity \"http://identifiers.org/kegg.compound/C00022\",\n",
      "              \"http://identifiers.org/chebi/CHEBI:32816\"\n",
      "  s5 identity \"http://identifiers.org/obo.chebi/CHEBI:15361\"\n",
      "  s6 identity \"http://identifiers.org/obo.chebi/CHEBI:15343\",\n",
      "              \"http://identifiers.org/kegg.compound/C00084\"\n",
      "  s6o identity \"http://identifiers.org/obo.chebi/CHEBI:15343\",\n",
      "               \"http://identifiers.org/kegg.compound/C00084\"\n",
      "  v1 part \"http://identifiers.org/kegg.reaction/R00756\",\n",
      "          \"http://identifiers.org/kegg.reaction/R00299\"\n",
      "  v1 part \"http://identifiers.org/ec-code/2.7.1.11\",\n",
      "          \"http://identifiers.org/ec-code/5.3.1.9\"\n",
      "  v2 identity \"http://identifiers.org/ec-code/4.1.2.13\",\n",
      "              \"http://identifiers.org/kegg.reaction/R01070\"\n",
      "  v3 part \"http://identifiers.org/ec-code/2.7.2.3\",\n",
      "          \"http://identifiers.org/ec-code/1.2.1.12\"\n",
      "  v4 part \"http://identifiers.org/kegg.reaction/R00658\",\n",
      "          \"http://identifiers.org/kegg.reaction/R00200\"\n",
      "  v4 part \"http://identifiers.org/ec-code/2.7.1.40\"\n",
      "  v5 hypernym \"http://identifiers.org/ec-code/4.1.1.1\",\n",
      "              \"http://identifiers.org/kegg.reaction/R00224\"\n",
      "  v7 hypernym \"http://identifiers.org/obo.go/GO:0006754\"\n",
      "  v8 part \"http://identifiers.org/kegg.reaction/R05679\"\n",
      "  v9 hypernym \"http://identifiers.org/obo.go/GO:0046187\"\n",
      "  v6 hypernym \"http://identifiers.org/ec-code/1.1.1.71\",\n",
      "              \"http://identifiers.org/kegg.reaction/R00754\"\n",
      "  v0 hypernym \"http://identifiers.org/obo.go/GO:0046323\"\n",
      "end\n",
      "\n",
      "Wolf2000_Glycolytic_Oscillations is \"Wolf2000_Glycolytic_Oscillations\"\n",
      "\n",
      "Wolf2000_Glycolytic_Oscillations model_entity_is \"http://identifiers.org/biomodels.db/MODEL3352181362\"\n",
      "Wolf2000_Glycolytic_Oscillations model_entity_is \"http://identifiers.org/biomodels.db/BIOMD0000000206\"\n",
      "Wolf2000_Glycolytic_Oscillations description \"http://identifiers.org/pubmed/10692304\"\n",
      "Wolf2000_Glycolytic_Oscillations taxon \"http://identifiers.org/taxonomy/4932\"\n",
      "Wolf2000_Glycolytic_Oscillations hypernym \"http://identifiers.org/obo.go/GO:0006096\"\n",
      "Wolf2000_Glycolytic_Oscillations identity \"http://identifiers.org/kegg.pathway/sce00010\"\n",
      "\n"
     ]
    }
   ],
   "source": [
    "# Viewing the antimony model\n",
    "print(runner.getAntimony())"
   ]
  },
  {
   "cell_type": "markdown",
   "metadata": {
    "id": "hNeNEhhogHox"
   },
   "source": [
    "Comparing the simulation output with the model curation."
   ]
  }
 ],
 "metadata": {
  "colab": {
   "authorship_tag": "ABX9TyMC14O8ZnTHLDfpPN2/Qdeg",
   "collapsed_sections": [],
   "provenance": []
  },
  "kernelspec": {
   "display_name": "Python 3 (ipykernel)",
   "language": "python",
   "name": "python3"
  },
  "language_info": {
   "codemirror_mode": {
    "name": "ipython",
    "version": 3
   },
   "file_extension": ".py",
   "mimetype": "text/x-python",
   "name": "python",
   "nbconvert_exporter": "python",
   "pygments_lexer": "ipython3",
   "version": "3.9.6"
  }
 },
 "nbformat": 4,
 "nbformat_minor": 4
}

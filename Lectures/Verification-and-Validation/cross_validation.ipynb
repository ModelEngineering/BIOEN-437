{
 "cells": [
  {
   "cell_type": "markdown",
   "metadata": {
    "id": "qXn4T1PVUYyy"
   },
   "source": [
    "# CROSS VALIDATION\n",
    "Cross validation is used when there are limited experimental data. This notebook is about using cross validation to assess the accuracy of parameter estimation, especially the sensitivity of the results to the observational data.\n",
    "\n",
    "*Step 1: Create **folds**.*\n",
    "* Each fold is a partition of the original dataset into **training* data and **test data**.\n",
    "* The set of test data across folds is a partition of the original data set. That is, every observation is in exactly one test data set.\n",
    "\n",
    "*Step 2: Perform parameter estimation on each fold.*\n",
    "* Parameters are estimated using the training data for the fold.\n",
    "\n",
    "*Step 3: Quantify the accuracy of parameter estimation.*\n",
    "* The parameter estimates in step 2 are used to predict the values of the test data.\n",
    "* The accuracy of the predictions are evaluated (e.g., using $R^2$).\n",
    "\n",
    "*Step 4: Evaluate the result.*\n",
    "* Are parameter values consistent across folds?\n",
    "* Are the accuracy measures sufficiently \"good\"?"
   ]
  },
  {
   "cell_type": "markdown",
   "metadata": {},
   "source": [
    "We will create synthetic observational data that we'll use in the steps above."
   ]
  },
  {
   "cell_type": "markdown",
   "metadata": {
    "id": "ih9w4HYHVbZF"
   },
   "source": [
    "# Preliminaries"
   ]
  },
  {
   "cell_type": "code",
   "execution_count": 17,
   "metadata": {
    "colab": {
     "base_uri": "https://localhost:8080/"
    },
    "id": "Q1BXvUqeUaNW",
    "outputId": "bfdb0832-be4e-490e-e596-90885b1f5ac7"
   },
   "outputs": [],
   "source": [
    "# First code cell in a notebook contains all installs\n",
    "try:\n",
    "    import lmfit\n",
    "except:\n",
    "    !apt-get install libncurses5\n",
    "    !pip install -q tellurium==2.2.8\n",
    "    !pip install lmfit"
   ]
  },
  {
   "cell_type": "code",
   "execution_count": 2,
   "metadata": {
    "id": "WraQhg4ZUYyz"
   },
   "outputs": [],
   "source": [
    "%matplotlib inline\n",
    "import collections\n",
    "import tellurium as te\n",
    "import lmfit\n",
    "import numpy as np\n",
    "import pandas as pd\n",
    "import math\n",
    "import random\n",
    "import matplotlib.pyplot as plt"
   ]
  },
  {
   "cell_type": "markdown",
   "metadata": {},
   "source": [
    "# Models"
   ]
  },
  {
   "cell_type": "code",
   "execution_count": 3,
   "metadata": {},
   "outputs": [],
   "source": [
    "SIMPLE_MODEL = \"\"\"\n",
    "     A -> B; k1*A\n",
    "     B -> C; k2*B\n",
    "\n",
    "     A = 5;\n",
    "     B = 0;\n",
    "     C = 0;\n",
    "     k1 = 0.1\n",
    "     k2 = 0.2\n",
    "\"\"\""
   ]
  },
  {
   "cell_type": "code",
   "execution_count": 4,
   "metadata": {},
   "outputs": [
    {
     "name": "stdout",
     "output_type": "stream",
     "text": [
      "// Created by libAntimony v2.13.2\n",
      "model *BIOMD0000000002()\n",
      "\n",
      "  // Compartments and Species:\n",
      "  compartment comp1;\n",
      "  species BLL in comp1, IL in comp1, AL in comp1, A in comp1, BL in comp1;\n",
      "  species B in comp1, DLL in comp1, D in comp1, ILL in comp1, DL in comp1;\n",
      "  species I in comp1, ALL in comp1, L in comp1;\n",
      "\n",
      "  // Reactions:\n",
      "  React0: B + L -> BL; comp1*(kf_0*B*L - kr_0*BL);\n",
      "  React1: BL + L -> BLL; comp1*(kf_1*BL*L - kr_1*BLL);\n",
      "  React2: BLL -> ALL; comp1*(kf_2*BLL - kr_2*ALL);\n",
      "  React3: A + L -> AL; comp1*(kf_3*A*L - kr_3*AL);\n",
      "  React4: AL + L -> ALL; comp1*(kf_4*AL*L - kr_4*ALL);\n",
      "  React5: B -> A; comp1*(kf_5*B - kr_5*A);\n",
      "  React6: BL -> AL; comp1*(kf_6*BL - kr_6*AL);\n",
      "  React7: I + L -> IL; comp1*(kf_7*I*L - kr_7*IL);\n",
      "  React8: IL + L -> ILL; comp1*(kf_8*IL*L - kr_8*ILL);\n",
      "  React9: A -> I; comp1*(kf_9*A - kr_9*I);\n",
      "  React10: AL -> IL; comp1*(kf_10*AL - kr_10*IL);\n",
      "  React11: ALL -> ILL; comp1*(kf_11*ALL - kr_11*ILL);\n",
      "  React12: D + L -> DL; comp1*(kf_12*D*L - kr_12*DL);\n",
      "  React13: DL + L -> DLL; comp1*(kf_13*DL*L - kr_13*DLL);\n",
      "  React14: I -> D; comp1*(kf_14*I - kr_14*D);\n",
      "  React15: IL -> DL; comp1*(kf_15*IL - kr_15*DL);\n",
      "  React16: ILL -> DLL; comp1*(kf_16*ILL - kr_16*DLL);\n",
      "\n",
      "  // Species initializations:\n",
      "  BLL = 0;\n",
      "  IL = 0;\n",
      "  AL = 0;\n",
      "  A = 0;\n",
      "  BL = 0;\n",
      "  B = 1e-22/comp1;\n",
      "  DLL = 0;\n",
      "  D = 0;\n",
      "  ILL = 0;\n",
      "  DL = 0;\n",
      "  I = 0;\n",
      "  ALL = 0;\n",
      "  L = 1e-21/comp1;\n",
      "\n",
      "  // Compartment initializations:\n",
      "  comp1 = 1e-16;\n",
      "\n",
      "  // Variable initializations:\n",
      "  kf_0 = 300000000;\n",
      "  kr_0 = 8000;\n",
      "  kf_1 = 150000000;\n",
      "  kr_1 = 16000;\n",
      "  kf_2 = 30000;\n",
      "  kr_2 = 700;\n",
      "  kf_3 = 300000000;\n",
      "  kr_3 = 8.64;\n",
      "  kf_4 = 150000000;\n",
      "  kr_4 = 17.28;\n",
      "  kf_5 = 0.54;\n",
      "  kr_5 = 10800;\n",
      "  kf_6 = 130;\n",
      "  kr_6 = 2740;\n",
      "  kf_7 = 300000000;\n",
      "  kr_7 = 4;\n",
      "  kf_8 = 150000000;\n",
      "  kr_8 = 8;\n",
      "  kf_9 = 19.7;\n",
      "  kr_9 = 3.74;\n",
      "  kf_10 = 19.85;\n",
      "  kr_10 = 1.74;\n",
      "  kf_11 = 20;\n",
      "  kr_11 = 0.81;\n",
      "  kf_12 = 300000000;\n",
      "  kr_12 = 4;\n",
      "  kf_13 = 150000000;\n",
      "  kr_13 = 8;\n",
      "  kf_14 = 0.05;\n",
      "  kr_14 = 0.0012;\n",
      "  kf_15 = 0.05;\n",
      "  kr_15 = 0.0012;\n",
      "  kf_16 = 0.05;\n",
      "  kr_16 = 0.0012;\n",
      "\n",
      "  // Other declarations:\n",
      "  const comp1, kf_0, kr_0, kf_1, kr_1, kf_2, kr_2, kf_3, kr_3, kf_4, kr_4;\n",
      "  const kf_5, kr_5, kf_6, kr_6, kf_7, kr_7, kf_8, kr_8, kf_9, kr_9, kf_10;\n",
      "  const kr_10, kf_11, kr_11, kf_12, kr_12, kf_13, kr_13, kf_14, kr_14, kf_15;\n",
      "  const kr_15, kf_16, kr_16;\n",
      "\n",
      "  // Display Names:\n",
      "  comp1 is \"compartment1\";\n",
      "  BLL is \"BasalACh2\";\n",
      "  IL is \"IntermediateACh\";\n",
      "  AL is \"ActiveACh\";\n",
      "  A is \"Active\";\n",
      "  BL is \"BasalACh\";\n",
      "  B is \"Basal\";\n",
      "  DLL is \"DesensitisedACh2\";\n",
      "  D is \"Desensitised\";\n",
      "  ILL is \"IntermediateACh2\";\n",
      "  DL is \"DesensitisedACh\";\n",
      "  I is \"Intermediate\";\n",
      "  ALL is \"ActiveACh2\";\n",
      "  L is \"ACh\";\n",
      "\n",
      "  // CV terms:\n",
      "  comp1 identity \"http://identifiers.org/go/GO:0031594\"\n",
      "  BLL hypernym \"http://identifiers.org/interpro/IPR002394\",\n",
      "               \"http://identifiers.org/go/GO:0005892\"\n",
      "  IL hypernym \"http://identifiers.org/interpro/IPR002394\",\n",
      "              \"http://identifiers.org/go/GO:0005892\"\n",
      "  AL hypernym \"http://identifiers.org/interpro/IPR002394\",\n",
      "              \"http://identifiers.org/go/GO:0005892\"\n",
      "  A hypernym \"http://identifiers.org/go/GO:0005892\"\n",
      "  BL hypernym \"http://identifiers.org/interpro/IPR002394\",\n",
      "              \"http://identifiers.org/go/GO:0005892\"\n",
      "  B hypernym \"http://identifiers.org/interpro/IPR002394\",\n",
      "             \"http://identifiers.org/go/GO:0005892\"\n",
      "  DLL hypernym \"http://identifiers.org/go/GO:0005892\"\n",
      "  D hypernym \"http://identifiers.org/interpro/IPR002394\",\n",
      "             \"http://identifiers.org/go/GO:0005892\"\n",
      "  ILL hypernym \"http://identifiers.org/interpro/IPR002394\",\n",
      "               \"http://identifiers.org/go/GO:0005892\"\n",
      "  DL hypernym \"http://identifiers.org/interpro/IPR002394\",\n",
      "              \"http://identifiers.org/go/GO:0005892\"\n",
      "  I hypernym \"http://identifiers.org/interpro/IPR002394\",\n",
      "             \"http://identifiers.org/go/GO:0005892\"\n",
      "  ALL hypernym \"http://identifiers.org/interpro/IPR002394\",\n",
      "               \"http://identifiers.org/go/GO:0005892\"\n",
      "  L identity \"http://identifiers.org/chebi/CHEBI:15355\",\n",
      "             \"http://identifiers.org/kegg.compound/C01996\"\n",
      "  React0 identity \"http://identifiers.org/go/GO:0042166\"\n",
      "  React1 identity \"http://identifiers.org/go/GO:0042166\"\n",
      "  React2 identity \"http://identifiers.org/go/GO:0004889\"\n",
      "  React3 identity \"http://identifiers.org/go/GO:0042166\"\n",
      "  React4 identity \"http://identifiers.org/go/GO:0042166\"\n",
      "  React5 identity \"http://identifiers.org/go/GO:0004889\"\n",
      "  React6 identity \"http://identifiers.org/go/GO:0004889\"\n",
      "  React7 identity \"http://identifiers.org/go/GO:0042166\"\n",
      "  React8 identity \"http://identifiers.org/go/GO:0042166\"\n",
      "  React9 identity \"http://identifiers.org/go/GO:0004889\"\n",
      "  React10 identity \"http://identifiers.org/go/GO:0004889\"\n",
      "  React11 identity \"http://identifiers.org/go/GO:0004889\"\n",
      "  React12 identity \"http://identifiers.org/go/GO:0042166\"\n",
      "  React13 identity \"http://identifiers.org/go/GO:0042166\"\n",
      "end\n",
      "\n",
      "BIOMD0000000002 is \"Edelstein1996 - EPSP ACh species\"\n",
      "\n",
      "BIOMD0000000002 model_entity_is \"http://identifiers.org/biomodels.db/MODEL6614086398\"\n",
      "BIOMD0000000002 model_entity_is \"http://identifiers.org/biomodels.db/BIOMD0000000002\"\n",
      "BIOMD0000000002 description \"http://identifiers.org/pubmed/8983160\"\n",
      "BIOMD0000000002 taxon \"http://identifiers.org/taxonomy/7787\"\n",
      "BIOMD0000000002 hypernym \"http://identifiers.org/go/GO:0007166\",\n",
      "                         \"http://identifiers.org/go/GO:0007274\",\n",
      "                         \"http://identifiers.org/go/GO:0019226\"\n",
      "\n"
     ]
    }
   ],
   "source": [
    "# A kinetic mechanism for nicotinic acetylcholine receptors based on multiple allosteric transitions\\\n",
    "URL_2 = \"https://www.ebi.ac.uk/biomodels/services/download/get-files/MODEL6614086398/2/BIOMD0000000002_url.xml\"\n",
    "rr = te.loadSBMLModel(URL_2)\n",
    "print(rr.getAntimony())"
   ]
  },
  {
   "cell_type": "markdown",
   "metadata": {},
   "source": [
    "# Helpers and Constants"
   ]
  },
  {
   "cell_type": "code",
   "execution_count": 5,
   "metadata": {
    "id": "pBZOj5DTUYy0"
   },
   "outputs": [],
   "source": [
    "# Experimental conditions\n",
    "SIMTIME = 30\n",
    "NOISE_STD = 0.5\n",
    "NUM_POINT = 300\n",
    "# Provides the parameters for models considered in this notebook\n",
    "PARAMETER_DCT = {\"simple_model\": [\"k1\", \"k2\"], 2: [\"kf_0\", \"kr_1\"]}\n",
    "MODELS = {\"simple_model\": SIMPLE_MODEL, 2: URL_2}\n",
    "MODEL_NAMES = list(PARAMETER_DCT.keys())  # Names of the models"
   ]
  },
  {
   "cell_type": "code",
   "execution_count": 6,
   "metadata": {},
   "outputs": [
    {
     "name": "stdout",
     "output_type": "stream",
     "text": [
      "OK!\n"
     ]
    }
   ],
   "source": [
    "def makeParameters(model_name):\n",
    "    \"\"\"\n",
    "    Creates parameters for a model that is described\n",
    "    \"\"\"\n",
    "    if not model_name in PARAMETER_DCT.keys():\n",
    "        raise ValueError(\"Invalid model name.\")\n",
    "    parameters = lmfit.Parameters()\n",
    "    for parameter_name in PARAMETER_DCT[model_name]:\n",
    "        parameters.add(parameter_name, min=0, value=1, max=100000)\n",
    "    return parameters\n",
    "\n",
    "# Tests\n",
    "parameters = makeParameters(\"simple_model\")\n",
    "assert(isinstance(parameters, lmfit.Parameters))\n",
    "print(\"OK!\")"
   ]
  },
  {
   "cell_type": "code",
   "execution_count": 7,
   "metadata": {},
   "outputs": [
    {
     "name": "stdout",
     "output_type": "stream",
     "text": [
      "OK!\n"
     ]
    }
   ],
   "source": [
    "def runSimulation(sim_time, num_point, parameters=None, roadrunner=None,\n",
    "                  model=None):\n",
    "    \"\"\"\n",
    "    Runs the simulation model for the model parameters.\n",
    "    :param int sim_time: time to run the simulation\n",
    "    :param int num_point: number of timepoints simulated\n",
    "    :param lmfit.Parameters parameters:\n",
    "    :param tellurium.roadrunner.extended_roadrunner.ExtendedRoadRunner road_runner:\n",
    "    :param str model (Antimony or URL).\n",
    "    :return named_array:\n",
    "    \"\"\"\n",
    "    if roadrunner is None:\n",
    "        try:\n",
    "            roadrunner = te.loada(model)\n",
    "        except:\n",
    "            roadrunner = te.loadSBMLModel(model)\n",
    "    else:\n",
    "        roadrunner.reset()\n",
    "    if parameters is not None:\n",
    "        parameter_dict = parameters.valuesdict()\n",
    "        # Set the simulation constants for all parameters\n",
    "        for constant in parameter_dict.keys():\n",
    "            roadrunner[constant] = parameter_dict[constant]\n",
    "            #stmt = \"roadrunner.%s = parameter_dict['%s']\" % (constant, constant)\n",
    "            #exec(stmt)\n",
    "    return roadrunner.simulate(0, sim_time, num_point)\n",
    "\n",
    "# Tests\n",
    "data = runSimulation(SIMTIME, NUM_POINT, parameters=makeParameters(\"simple_model\"), model=SIMPLE_MODEL)\n",
    "assert(np.shape(data) == (NUM_POINT, 4))\n",
    "#\n",
    "data = runSimulation(SIMTIME, NUM_POINT, parameters=makeParameters(2), model=URL_2)\n",
    "print(\"OK!\")"
   ]
  },
  {
   "cell_type": "markdown",
   "metadata": {
    "id": "MGwDF4vRVh8f"
   },
   "source": [
    "# Create synthetic observational data"
   ]
  },
  {
   "cell_type": "code",
   "execution_count": 8,
   "metadata": {
    "id": "wHqrwlMpUYy0"
   },
   "outputs": [
    {
     "data": {
      "image/png": "[encoded data removed]",
      "text/plain": [
       "<Figure size 640x480 with 1 Axes>"
      ]
     },
     "metadata": {},
     "output_type": "display_data"
    },
    {
     "data": {
      "image/png": "[encoded data removed]",
      "text/plain": [
       "<Figure size 640x480 with 1 Axes>"
      ]
     },
     "metadata": {},
     "output_type": "display_data"
    }
   ],
   "source": [
    "# Create the experimental data. We refer to these as the observations\n",
    "data = runSimulation(SIMTIME, NUM_POINT, model=SIMPLE_MODEL)\n",
    "num_cols = len(data.colnames) - 1\n",
    "\n",
    "# Create some 'experimental' data\n",
    "x_data = data[:, 0]  # Times\n",
    "obs_data = data.copy()\n",
    "obs_data = obs_data[:,1:]   # Values of chemical species\n",
    "\n",
    "for i in range (NUM_POINT):\n",
    "    for j in range(num_cols):\n",
    "        obs_data[i, j] = max(obs_data[i, j] + np.random.normal(0, NOISE_STD, 1), 0)\n",
    "\n",
    "\n",
    "# Plot the simulation data.\n",
    "plt.plot (x_data, data[:, 1:])\n",
    "plt.title(\"Simulation Results.\")\n",
    "plt.xlabel(\"Time\")\n",
    "plt.ylabel(\"Concentration\")\n",
    "plt.show()\n",
    "\n",
    "# Plot the observed data.\n",
    "plt.plot (x_data, obs_data, marker='*', linestyle='None')\n",
    "plt.title(\"Synthesized Observed Data: Simulation plus noise.\")\n",
    "plt.xlabel(\"Time\")\n",
    "plt.ylabel(\"Concentration\")\n",
    "plt.show()\n"
   ]
  },
  {
   "cell_type": "markdown",
   "metadata": {
    "id": "OalsB-_uVue2"
   },
   "source": [
    "# Step 1: Create folds"
   ]
  },
  {
   "cell_type": "code",
   "execution_count": 9,
   "metadata": {},
   "outputs": [
    {
     "name": "stdout",
     "output_type": "stream",
     "text": [
      "OK!\n"
     ]
    }
   ],
   "source": [
    "class Fold:\n",
    "    # A class that contains a fold\n",
    "    \n",
    "    def __init__(self, training_idxs, test_idxs):\n",
    "        \"\"\"\n",
    "        Args:\n",
    "           training_idxs: np.array-int (indices in the data set that are used for training)\n",
    "           test_indices: np.array-int (indices used to test)\n",
    "        \"\"\"\n",
    "        self.training_idxs = np.array(training_idxs).astype(int)\n",
    "        self.test_idxs = np.array(test_idxs).astype(int)\n",
    "        \n",
    "    def __repr__(self):\n",
    "        return str(self.training_idxs) + \" \" + str(self.test_idxs)\n",
    "        \n",
    "# Tests\n",
    "training_idxs = [1, 2, 3]\n",
    "test_idxs = [4, 5]\n",
    "fold = Fold(training_idxs, test_idxs)\n",
    "assert(np.allclose(training_idxs, fold.training_idxs))\n",
    "assert(np.allclose(test_idxs, fold.test_idxs))\n",
    "print(\"OK!\")"
   ]
  },
  {
   "cell_type": "code",
   "execution_count": 10,
   "metadata": {
    "id": "0cxRYqfcUYy0"
   },
   "outputs": [
    {
     "name": "stdout",
     "output_type": "stream",
     "text": [
      "OK!\n"
     ]
    }
   ],
   "source": [
    "def makeFolds(num_point, num_fold):\n",
    "    \"\"\"\n",
    "    Calculates training and test indices for folds. Folds rotate across observations. That is, the n-th value\n",
    "    in fold m is observation n*m.\n",
    "    Assumes that num_fold evenly divides num_point.\n",
    "\n",
    "    Args:\n",
    "        num_point: int (total number of points)\n",
    "        num_fold: int (number of folds)\n",
    "    Returns:\n",
    "        list-Fold (a list of folds)\n",
    "    \"\"\"\n",
    "    if num_point % num_fold != 0:\n",
    "        raise ValueError(\"The number of folds must evently divide the number of points\")\n",
    "    folds = []\n",
    "    #\n",
    "    all_idxs = set(range(num_point))\n",
    "    test_size = num_point // num_fold\n",
    "    test_base_idxs = np.array(range(test_size))\n",
    "    for idx in range(num_fold):\n",
    "        test_idxs = idx + test_base_idxs\n",
    "        train_idxs = list(all_idxs.difference(test_idxs))\n",
    "        fold = Fold(train_idxs, test_idxs)\n",
    "        folds.append(fold) \n",
    "    #\n",
    "    return folds\n",
    "# Test\n",
    "num_point = 10\n",
    "num_fold = 5\n",
    "folds = makeFolds(num_point, num_fold)\n",
    "assert(len(folds) == num_fold)\n",
    "assert(len(folds[0].test_idxs)== num_point//num_fold)  # Number of test observations in a fold\n",
    "print(\"OK!\")"
   ]
  },
  {
   "cell_type": "markdown",
   "metadata": {
    "id": "dwCbtPSmV_FF"
   },
   "source": [
    "# Step 2: Calculate parameter estimates for each fold"
   ]
  },
  {
   "cell_type": "code",
   "execution_count": 11,
   "metadata": {
    "id": "zstc6oyxXss0"
   },
   "outputs": [
    {
     "name": "stdout",
     "output_type": "stream",
     "text": [
      "OK!\n"
     ]
    }
   ],
   "source": [
    "# Create the results\n",
    "def calculateFoldResults(model, parameter_names, obs_data, num_fold):\n",
    "    \"\"\"\n",
    "    Estimates parameters for each fold and calculates its R2\n",
    "\n",
    "    Args:\n",
    "        model: Antimony model\n",
    "        parameter_names: list-str (names of parameters to estimate)\n",
    "        obs_data: Observational data\n",
    "        num_fold: number of folds\n",
    "    Returns:\n",
    "        pd.DataFrame\n",
    "            index: fold\n",
    "            columns: parameter\n",
    "    \"\"\"\n",
    "    try:\n",
    "        roadrunner = te.loada(model)\n",
    "    except:\n",
    "        roadrunner = te.loadSBMLModel(model)\n",
    "    def calcResiduals(parameters, indices):\n",
    "        \"\"\"\n",
    "        Runs a simulation with the specified parameters and calculates residuals\n",
    "        for the indices.\n",
    "        \"\"\"\n",
    "        sim_data = runSimulation(SIMTIME, len(obs_data), roadrunner=roadrunner,\n",
    "                                 parameters=parameters)\n",
    "        sim_data = sim_data[:, 1:]  # Skip time\n",
    "        residuals = obs_data[indices, :] - sim_data[indices, :]\n",
    "        return residuals.flatten()\n",
    "    #\n",
    "    # Estimate the parameters for each fold\n",
    "    folds = makeFolds(len(obs_data), num_fold)\n",
    "    # Construct the result container\n",
    "    result_dct = {n: [] for n in parameter_names}\n",
    "    for fold in folds:\n",
    "        # Set the parameters for this fold\n",
    "        parameters = lmfit.Parameters()\n",
    "        for name in parameter_names:\n",
    "            parameters.add(name, value=1, min=0, max=10)\n",
    "        fitter_result = lmfit.minimize(calcResiduals, parameters, args=(fold.training_idxs, ))\n",
    "        # Calculate the RSQ value for the test indices\n",
    "        test_predictions = runSimulation(SIMTIME, NUM_POINT, roadrunner=roadrunner,\n",
    "                                    parameters=fitter_result.params)\n",
    "        test_predictions = test_predictions[fold.test_idxs, 1:]\n",
    "        test_obs = obs_data[fold.test_idxs, :]\n",
    "        residuals = test_obs.flatten() - test_predictions.flatten()\n",
    "        rsq = 1 - np.var(residuals)/np.var(test_obs.flatten())\n",
    "        # Accumulate the results\n",
    "        values_dct = fitter_result.params.valuesdict()\n",
    "        for name in parameter_names:\n",
    "            result_dct[name].append(values_dct[name])\n",
    "    df = pd.DataFrame(result_dct)\n",
    "    df.index.name = \"fold\"\n",
    "    return df\n",
    "\n",
    "# Tests\n",
    "fold_df =  calculateFoldResults(SIMPLE_MODEL, [\"k1\", \"k2\"], obs_data, 3)\n",
    "for idx in fold_df.index:\n",
    "    assert(isinstance(fold_df.loc[idx, \"k1\"], float))\n",
    "    assert(isinstance(fold_df.loc[idx, \"k2\"], float))\n",
    "print(\"OK!\")"
   ]
  },
  {
   "cell_type": "code",
   "execution_count": 12,
   "metadata": {},
   "outputs": [
    {
     "data": {
      "text/html": [
       "<div>\n",
       "<style scoped>\n",
       "    .dataframe tbody tr th:only-of-type {\n",
       "        vertical-align: middle;\n",
       "    }\n",
       "\n",
       "    .dataframe tbody tr th {\n",
       "        vertical-align: top;\n",
       "    }\n",
       "\n",
       "    .dataframe thead th {\n",
       "        text-align: right;\n",
       "    }\n",
       "</style>\n",
       "<table border=\"1\" class=\"dataframe\">\n",
       "  <thead>\n",
       "    <tr style=\"text-align: right;\">\n",
       "      <th></th>\n",
       "      <th>k1</th>\n",
       "      <th>k2</th>\n",
       "    </tr>\n",
       "    <tr>\n",
       "      <th>fold</th>\n",
       "      <th></th>\n",
       "      <th></th>\n",
       "    </tr>\n",
       "  </thead>\n",
       "  <tbody>\n",
       "    <tr>\n",
       "      <th>0</th>\n",
       "      <td>6.587653</td>\n",
       "      <td>0.085619</td>\n",
       "    </tr>\n",
       "    <tr>\n",
       "      <th>1</th>\n",
       "      <td>0.100255</td>\n",
       "      <td>0.199297</td>\n",
       "    </tr>\n",
       "    <tr>\n",
       "      <th>2</th>\n",
       "      <td>0.100411</td>\n",
       "      <td>0.198961</td>\n",
       "    </tr>\n",
       "  </tbody>\n",
       "</table>\n",
       "</div>"
      ],
      "text/plain": [
       "            k1        k2\n",
       "fold                    \n",
       "0     6.587653  0.085619\n",
       "1     0.100255  0.199297\n",
       "2     0.100411  0.198961"
      ]
     },
     "execution_count": 12,
     "metadata": {},
     "output_type": "execute_result"
    }
   ],
   "source": [
    "fold_df"
   ]
  },
  {
   "cell_type": "markdown",
   "metadata": {},
   "source": [
    "# Step 3: Quantify the accuracy of the fold parameter estimates"
   ]
  },
  {
   "cell_type": "code",
   "execution_count": 13,
   "metadata": {},
   "outputs": [
    {
     "name": "stdout",
     "output_type": "stream",
     "text": [
      "OK!\n"
     ]
    }
   ],
   "source": [
    "# Create the results\n",
    "def evaluateAccuracy(model, fold_df, obs_data):\n",
    "    \"\"\"\n",
    "    Estimates parameters for each fold and calculates its R2\n",
    "\n",
    "    Args:\n",
    "        model: str (Antimony model or URL)\n",
    "        fold_df: DataFrame\n",
    "            row: fold\n",
    "            columns: parameter values\n",
    "        obs_data: np.array (observational data)\n",
    "    Returns:\n",
    "        pd.Series\n",
    "            index: fold index\n",
    "            value: rsq\n",
    "    \"\"\"\n",
    "    # Get the roadrunner\n",
    "    try:\n",
    "        roadrunner = te.loada(model)\n",
    "    except:\n",
    "        roadrunner = te.loadSBMLModel(model)\n",
    "    # Evaluate the prediction accuracy of each fold\n",
    "    results = []\n",
    "    for idx in fold_df.index:\n",
    "        parameters = lmfit.Parameters()\n",
    "        for parameter_name in fold_df.columns:\n",
    "            parameters.add(parameter_name, value = fold_df.loc[idx, parameter_name])\n",
    "        test_predictions = runSimulation(SIMTIME, NUM_POINT, roadrunner=roadrunner,\n",
    "                                    parameters=parameters)\n",
    "        test_predictions = test_predictions[test_idxs, 1:]\n",
    "        test_obs = obs_data[test_idxs, :]\n",
    "        residuals = test_obs.flatten() - test_predictions.flatten()\n",
    "        rsq = 1 - np.var(residuals)/np.var(test_obs.flatten())\n",
    "        # Accumulate the results\n",
    "        results.append(rsq)\n",
    "    ser = pd.Series(results)\n",
    "    ser.index.name = \"fold\"\n",
    "    return ser\n",
    "\n",
    "# Tests\n",
    "fold_df =  calculateFoldResults(SIMPLE_MODEL, [\"k1\", \"k2\"], obs_data, 3)\n",
    "rsq_ser = evaluateAccuracy(SIMPLE_MODEL, fold_df, obs_data)\n",
    "print(\"OK!\")"
   ]
  },
  {
   "cell_type": "markdown",
   "metadata": {
    "id": "9DWYcUPSV6hw"
   },
   "source": [
    "# Step 4: Evaluate the results"
   ]
  },
  {
   "cell_type": "code",
   "execution_count": 15,
   "metadata": {},
   "outputs": [
    {
     "data": {
      "text/html": [
       "<div>\n",
       "<style scoped>\n",
       "    .dataframe tbody tr th:only-of-type {\n",
       "        vertical-align: middle;\n",
       "    }\n",
       "\n",
       "    .dataframe tbody tr th {\n",
       "        vertical-align: top;\n",
       "    }\n",
       "\n",
       "    .dataframe thead th {\n",
       "        text-align: right;\n",
       "    }\n",
       "</style>\n",
       "<table border=\"1\" class=\"dataframe\">\n",
       "  <thead>\n",
       "    <tr style=\"text-align: right;\">\n",
       "      <th></th>\n",
       "      <th>k1</th>\n",
       "      <th>k2</th>\n",
       "    </tr>\n",
       "    <tr>\n",
       "      <th>fold</th>\n",
       "      <th></th>\n",
       "      <th></th>\n",
       "    </tr>\n",
       "  </thead>\n",
       "  <tbody>\n",
       "    <tr>\n",
       "      <th>0</th>\n",
       "      <td>6.587653</td>\n",
       "      <td>0.085619</td>\n",
       "    </tr>\n",
       "    <tr>\n",
       "      <th>1</th>\n",
       "      <td>0.100255</td>\n",
       "      <td>0.199297</td>\n",
       "    </tr>\n",
       "    <tr>\n",
       "      <th>2</th>\n",
       "      <td>0.100411</td>\n",
       "      <td>0.198961</td>\n",
       "    </tr>\n",
       "  </tbody>\n",
       "</table>\n",
       "</div>"
      ],
      "text/plain": [
       "            k1        k2\n",
       "fold                    \n",
       "0     6.587653  0.085619\n",
       "1     0.100255  0.199297\n",
       "2     0.100411  0.198961"
      ]
     },
     "execution_count": 15,
     "metadata": {},
     "output_type": "execute_result"
    }
   ],
   "source": [
    "fold_df =  calculateFoldResults(SIMPLE_MODEL, [\"k1\", \"k2\"], obs_data, 3)\n",
    "fold_df"
   ]
  },
  {
   "cell_type": "code",
   "execution_count": 16,
   "metadata": {},
   "outputs": [
    {
     "data": {
      "text/plain": [
       "fold\n",
       "0    -1.700420238286334\n",
       "1    0.9837107722266647\n",
       "2    0.9836965503676074\n",
       "dtype: object"
      ]
     },
     "execution_count": 16,
     "metadata": {},
     "output_type": "execute_result"
    }
   ],
   "source": [
    "evaluateAccuracy(SIMPLE_MODEL, fold_df, obs_data)"
   ]
  },
  {
   "cell_type": "markdown",
   "metadata": {
    "id": "foEKBQYHUYy0"
   },
   "source": [
    "1. Are parameter values consistent?\n",
    "1. Is $R^2$ close to 1?"
   ]
  },
  {
   "cell_type": "markdown",
   "metadata": {},
   "source": [
    "# Exercise"
   ]
  },
  {
   "cell_type": "markdown",
   "metadata": {
    "tags": []
   },
   "source": [
    "Consider the model in URL2\n",
    "1. Generate synthetic observational data for 300 points with a standard deviation of 0.2.\n",
    "1. Compare the cross validation results for:\n",
    "    1. 3 folds\n",
    "    1. 10 folds\n",
    "    1 30 folds"
   ]
  }
 ],
 "metadata": {
  "colab": {
   "provenance": [],
   "toc_visible": true
  },
  "kernelspec": {
   "display_name": "Python 3 (ipykernel)",
   "language": "python",
   "name": "python3"
  },
  "language_info": {
   "codemirror_mode": {
    "name": "ipython",
    "version": 3
   },
   "file_extension": ".py",
   "mimetype": "text/x-python",
   "name": "python",
   "nbconvert_exporter": "python",
   "pygments_lexer": "ipython3",
   "version": "3.9.6"
  }
 },
 "nbformat": 4,
 "nbformat_minor": 4
}

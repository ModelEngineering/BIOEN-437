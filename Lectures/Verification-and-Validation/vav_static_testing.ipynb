{
 "cells": [
  {
   "cell_type": "markdown",
   "metadata": {
    "id": "C_jnZJOAtekp"
   },
   "source": [
    "# VERIFICATION AND VALIDATION: STATIC TESTING\n",
    "\n",
    "This notebook addresses testing kinetics models. We begin with a motivating example, and then the next two sections provide details of verification testing.\n",
    "The final section applies these techniques to the running example of glycolytic oscillations."
   ]
  },
  {
   "cell_type": "markdown",
   "metadata": {
    "id": "a_BDCcbnuO-k"
   },
   "source": [
    "# Preliminaries"
   ]
  },
  {
   "cell_type": "code",
   "execution_count": 1,
   "metadata": {
    "id": "FtkeERCZtekr"
   },
   "outputs": [],
   "source": [
    "# Python packages used in this section\n",
    "!pip install -q SBMLLint\n",
    "!pip install -q tellurium\n",
    "import matplotlib.pyplot as plt\n",
    "import numpy as np\n",
    "import os\n",
    "import urllib.request # use this library to download file from GitHub\n",
    "from scipy import fftpack\n",
    "from SBMLLint.tools.sbmllint import lint\n",
    "import tellurium as te"
   ]
  },
  {
   "cell_type": "markdown",
   "metadata": {},
   "source": [
    "## Models"
   ]
  },
  {
   "cell_type": "code",
   "execution_count": 3,
   "metadata": {},
   "outputs": [],
   "source": [
    "LINEARY_PATHWAY_MODEL = \"\"\"\n",
    "R1:  S1 -> S2; k1*S1  \n",
    "R2: S2 -> S3; k2*S2\n",
    "R3: S3 -> S4; k3*S3\n",
    "R4: S4 -> S5; k4*S4\n",
    "\n",
    "S1 = 10\n",
    "\n",
    "// Parameters\n",
    "k1 = 0; # Nominal value of parameter\n",
    "k2 = 0; # Nominal value of parameter\n",
    "k3 = 0; # Nominal value of parameter\n",
    "k4 = 0; # Nominal value of parameter\n",
    "\"\"\""
   ]
  },
  {
   "cell_type": "code",
   "execution_count": 4,
   "metadata": {},
   "outputs": [],
   "source": [
    "WOLF_MODEL = \"\"\"\n",
    "// Created by libAntimony v2.12.0.3\n",
    "model *Jana_WolfGlycolysis()\n",
    "\n",
    "  // Compartments and Species:\n",
    "  compartment compartment_;\n",
    "  species Glucose in compartment_, fructose_1_6_bisphosphate in compartment_;\n",
    "  species glyceraldehyde_3_phosphate in compartment_, glycerate_3_phosphate in compartment_;\n",
    "  species pyruvate in compartment_, Acetyladehyde in compartment_, External_acetaldehyde in compartment_;\n",
    "  species ATP in compartment_, ADP in compartment_, NAD in compartment_, NADH in compartment_;\n",
    "  species $External_glucose in compartment_, $ethanol in compartment_, $Glycerol in compartment_;\n",
    "  species $Sink in compartment_;\n",
    "\n",
    "  // Reactions:\n",
    "  J0: $External_glucose => Glucose; J0_inputFlux;\n",
    "  J1: Glucose + 2 ATP => fructose_1_6_bisphosphate + 2 ADP; J1_k1*Glucose*ATP*(1/(1 + (ATP/J1_Ki)^J1_n));\n",
    "  J2: fructose_1_6_bisphosphate => glyceraldehyde_3_phosphate + glyceraldehyde_3_phosphate; J2_k*fructose_1_6_bisphosphate;\n",
    "  J3: glyceraldehyde_3_phosphate + NADH => NAD + $Glycerol; J3_k*glyceraldehyde_3_phosphate*NADH;\n",
    "  J4: glyceraldehyde_3_phosphate + ADP + NAD => ATP + glycerate_3_phosphate + NADH; (J4_kg*J4_kp*glyceraldehyde_3_phosphate*NAD*ADP - J4_ka*J4_kk*glycerate_3_phosphate*ATP*NADH)/(J4_ka*NADH + J4_kp*ADP);\n",
    "  J5: glycerate_3_phosphate + ADP => ATP + pyruvate; J5_k*glycerate_3_phosphate*ADP;\n",
    "  J6: pyruvate => Acetyladehyde; J6_k*pyruvate;\n",
    "  J7: Acetyladehyde + NADH => NAD + $ethanol; J7_k*Acetyladehyde*NADH;\n",
    "  J8: Acetyladehyde => External_acetaldehyde; J8_k1*Acetyladehyde - J8_k2*External_acetaldehyde;\n",
    "  J9: ATP => ADP; J9_k*ATP;\n",
    "  J10: External_acetaldehyde => $Sink; J10_k*External_acetaldehyde;\n",
    "\n",
    "  // Species initializations:\n",
    "  Glucose = 0;\n",
    "  fructose_1_6_bisphosphate = 0;\n",
    "  glyceraldehyde_3_phosphate = 0;\n",
    "  glycerate_3_phosphate = 0;\n",
    "  pyruvate = 0;\n",
    "  Acetyladehyde = 0;\n",
    "  External_acetaldehyde = 0;\n",
    "  ATP = 3;\n",
    "  ADP = 1;\n",
    "  NAD = 0.5;\n",
    "  NADH = 0.5;\n",
    "  External_glucose = 0;\n",
    "  ethanol = 0;\n",
    "  Glycerol = 0;\n",
    "  Sink = 0;\n",
    "\n",
    "  // Compartment initializations:\n",
    "  compartment_ = 1;\n",
    "\n",
    "  // Variable initializations:\n",
    "  J0_inputFlux = 50;\n",
    "  J1_k1 = 550;\n",
    "  J1_Ki = 1;\n",
    "  J1_n = 4;\n",
    "  J2_k = 9.8;\n",
    "  J3_k = 85.7;\n",
    "  J4_kg = 323.8;\n",
    "  J4_kp = 76411.1;\n",
    "  J4_ka = 57823.1;\n",
    "  J4_kk = 23.7;\n",
    "  J5_k = 80;\n",
    "  J6_k = 9.7;\n",
    "  J7_k = 2000;\n",
    "  J8_k1 = 375;\n",
    "  J8_k2 = 375;\n",
    "  J9_k = 28;\n",
    "  J10_k = 80;\n",
    "  \n",
    "  // Other declarations:\n",
    "  const compartment_, J0_inputFlux, J1_k1, J1_Ki, J1_n, J2_k, J3_k;\n",
    "  const J4_kg, J4_kp, J4_ka, J4_kk, J5_k, J6_k, J7_k, J8_k1, J8_k2;\n",
    "  const J9_k, J10_k;\n",
    "end\n",
    "\n",
    "\"\"\""
   ]
  },
  {
   "cell_type": "markdown",
   "metadata": {},
   "source": [
    "## Helper Functions"
   ]
  },
  {
   "cell_type": "code",
   "execution_count": 5,
   "metadata": {},
   "outputs": [
    {
     "name": "stdout",
     "output_type": "stream",
     "text": [
      "OK!\n"
     ]
    }
   ],
   "source": [
    "def arrToDF(arr):\n",
    "    \"\"\"\n",
    "    Converts a NamedArray into a DataFrame.\n",
    "    If it is simulation output, makes TIME the index.\n",
    "\n",
    "    Parameters\n",
    "    ----------\n",
    "    arr: NamedArray\n",
    "    \n",
    "    Returns\n",
    "    -------\n",
    "    DataFrame\n",
    "        Removes \"[\" , \"]\" from the names of species\n",
    "    \"\"\"\n",
    "    columns = [c[1:-1] if c[0] == \"[\" else c for c in arr.colnames]\n",
    "    df = pd.DataFrame(arr, columns=columns)\n",
    "    df = df.set_index(\"time\")\n",
    "    return df\n",
    "\n",
    "# Tests\n",
    "rr = te.loada(WOLF_MODEL)\n",
    "data = rr.simulate()\n",
    "assert(isinstance(arrToDF(data), pd.DataFrame))\n",
    "print(\"OK!\")"
   ]
  },
  {
   "cell_type": "code",
   "execution_count": 8,
   "metadata": {},
   "outputs": [
    {
     "name": "stdout",
     "output_type": "stream",
     "text": [
      "OK!\n"
     ]
    }
   ],
   "source": [
    "def generateNoisyData(model, std, parameter_dct=None):\n",
    "    \"\"\"\n",
    "    Generates noise columns in a dataframe.\n",
    "    \n",
    "    Parameters\n",
    "    ----------\n",
    "    model: str (Antimony model)\n",
    "    std: float (standard deviation of generated noise)\n",
    "    parameter_dct: dict (parameters to change)\n",
    "    \n",
    "    Returns\n",
    "    ------\n",
    "    SBstoat.NamedTimeseries\n",
    "    \"\"\"\n",
    "    if parameter_dct is None:\n",
    "        parameter_dct = {}\n",
    "        #\n",
    "    rr = te.loada(model)\n",
    "    for key, value in parameter_dct.items():\n",
    "        rr[key] = value\n",
    "    df = arrToDF(rr.simulate())\n",
    "    ser = df.mean()\n",
    "    # Use the input DataFrame as a template\n",
    "    noise_df = df.copy()\n",
    "    # Create the noise data\n",
    "    for column in noise_df.columns:\n",
    "        noise_arr = np.random.normal(0, 0.2, len(noise_df))\n",
    "        noise_df[column] = ser.loc[column]*noise_arr \n",
    "    return noise_df + df\n",
    "\n",
    "# Tests\n",
    "df = generateNoisyData(WOLF_MODEL, 0, parameter_dct={\"J1_k1\": 3})\n",
    "assert(isinstance(df, pd.DataFrame))\n",
    "assert(len(df) > 0)\n",
    "print(\"OK!\")"
   ]
  },
  {
   "cell_type": "markdown",
   "metadata": {
    "id": "GOGyOVH_tekv"
   },
   "source": [
    "# Mass Balance Errors\n",
    "\n",
    "This is a more refined analysis of resolving a mass balance error.\n",
    "Consider the following simulation of ``ATP`` hydrolysis and ``ADP`` phosphorylation.\n",
    "We use the equilibrium constant (``Keq``) of 1.\n",
    "This is not a physiological value for ``Keq``, but useful for our example."
   ]
  },
  {
   "cell_type": "code",
   "execution_count": 9,
   "metadata": {
    "colab": {
     "base_uri": "https://localhost:8080/",
     "height": 265
    },
    "executionInfo": {
     "elapsed": 418,
     "status": "ok",
     "timestamp": 1626897607396,
     "user": {
      "displayName": "Joseph Hellerstein",
      "photoUrl": "https://lh3.googleusercontent.com/a-/AOh14Ggr-yAwbfqFCOlFTHoKepUYJ9VjZuCGILW-YdHvUQ=s64",
      "userId": "07301174361489660166"
     },
     "user_tz": 420
    },
    "id": "ZHdioKOjtekv",
    "outputId": "cd6d0acf-de86-4cc7-ef5a-cef14f2932bf"
   },
   "outputs": [
    {
     "data": {
      "image/png": "[encoded data removed]",
      "text/plain": [
       "<Figure size 600x400 with 1 Axes>"
      ]
     },
     "metadata": {},
     "output_type": "display_data"
    }
   ],
   "source": [
    "ATP1_MODEL = \"\"\"\n",
    "J0: ATP -> ADP + P; k_f*ATP  \n",
    "J1: ADP -> ATP; k_r*ADP\n",
    "\n",
    "Keq = 1\n",
    "k_f = 0.4\n",
    "k_r = k_f/Keq\n",
    "ATP = 1\n",
    "ADP = 10e-5\n",
    "\"\"\"\n",
    "\n",
    "rr = te.loada(ATP1_MODEL)\n",
    "rr.plot(rr.simulate(0, 50, 100))"
   ]
  },
  {
   "cell_type": "markdown",
   "metadata": {
    "id": "iNvFOG14tekw"
   },
   "source": [
    "Our expectation is that at equilibrium, ``ATP = ADP`` by definition of the equilibrium constant.\n",
    "Instead, ``P`` increases without bound,\n",
    "and ``ATP = 0 = ADP``."
   ]
  },
  {
   "cell_type": "markdown",
   "metadata": {
    "id": "vHk-f95atekw"
   },
   "source": [
    "As we saw in the slides,\n",
    "the underlying issue is that inorganic phosphate (``P``)\n",
    "is treated inconsistently:\n",
    "``P`` appears as a product of hydrolysis,\n",
    "but ``P`` is not present in ``ATP`` synthesis.\n",
    "\n",
    "We have a couple of choices for resolving this error.\n",
    "Below, we revise the model to include ``P`` in\n",
    "the synthesis reaction.\n",
    "The revised reaction is ``J1a``."
   ]
  },
  {
   "cell_type": "code",
   "execution_count": 10,
   "metadata": {
    "colab": {
     "base_uri": "https://localhost:8080/",
     "height": 265
    },
    "executionInfo": {
     "elapsed": 248,
     "status": "ok",
     "timestamp": 1626897607641,
     "user": {
      "displayName": "Joseph Hellerstein",
      "photoUrl": "https://lh3.googleusercontent.com/a-/AOh14Ggr-yAwbfqFCOlFTHoKepUYJ9VjZuCGILW-YdHvUQ=s64",
      "userId": "07301174361489660166"
     },
     "user_tz": 420
    },
    "id": "ymnyd8qstekw",
    "outputId": "72c0be35-9202-4ee0-d0d1-7734a1c5a7ca"
   },
   "outputs": [
    {
     "data": {
      "image/png": "[encoded data removed]",
      "text/plain": [
       "<Figure size 600x400 with 1 Axes>"
      ]
     },
     "metadata": {},
     "output_type": "display_data"
    }
   ],
   "source": [
    "ATP2_MODEL = \"\"\"\n",
    "J0: ATP -> ADP + P; k_f*ATP  \n",
    "J1a: ADP + P -> ATP; k_r*ADP*P\n",
    "\n",
    "Keq = 1\n",
    "k_f = 0.4\n",
    "k_r = k_f/Keq\n",
    "ATP = 1\n",
    "ADP = 10e-5\n",
    "\"\"\"\n",
    "\n",
    "rr = te.loada(ATP2_MODEL)\n",
    "rr.plot(rr.simulate(0, 50, 100))"
   ]
  },
  {
   "cell_type": "markdown",
   "metadata": {
    "id": "qlZtscJptekx"
   },
   "source": [
    "Now, we get a more reasonable result. (Note that the line for ``ADP`` and ``P`` are coincident.) The concentrations of ``ATP`` and ``ADP`` differ because $K_{eq} = \\frac{[ATP]}{[ADP] [P]} = \\frac{0.64}{(0.4)(0.4)}$.\n",
    "\n",
    "There is another way of fixing the mass balance error that reqults in ``ATP = ADP``. This solution assumes that there is a\n",
    "large concentration of ``P`` that is relatively unchanged as a result of the hydolysis and phosphorylation reactions.\n",
    "So, ``P`` does not appear in the model."
   ]
  },
  {
   "cell_type": "code",
   "execution_count": 11,
   "metadata": {
    "colab": {
     "base_uri": "https://localhost:8080/",
     "height": 265
    },
    "executionInfo": {
     "elapsed": 332,
     "status": "ok",
     "timestamp": 1626897607971,
     "user": {
      "displayName": "Joseph Hellerstein",
      "photoUrl": "https://lh3.googleusercontent.com/a-/AOh14Ggr-yAwbfqFCOlFTHoKepUYJ9VjZuCGILW-YdHvUQ=s64",
      "userId": "07301174361489660166"
     },
     "user_tz": 420
    },
    "id": "lYUnb6vetekx",
    "outputId": "61348bab-f3f4-40f2-a5ee-bc5fe24b9148"
   },
   "outputs": [
    {
     "data": {
      "image/png": "[encoded data removed]",
      "text/plain": [
       "<Figure size 600x400 with 1 Axes>"
      ]
     },
     "metadata": {},
     "output_type": "display_data"
    }
   ],
   "source": [
    "ATP3_MODEL = \"\"\"\n",
    "J0a: ATP -> ADP; k_f*ATP \n",
    "J1: ADP -> ATP; k_r*ADP\n",
    "\n",
    "Keq = 1\n",
    "k_f = 0.4\n",
    "k_r = k_f/Keq\n",
    "ATP = 1\n",
    "ADP = 10e-5\n",
    "\"\"\"\n",
    "\n",
    "rr = te.loada(ATP3_MODEL)\n",
    "rr.plot(rr.simulate(0, 50, 100))"
   ]
  },
  {
   "cell_type": "markdown",
   "metadata": {
    "id": "j-afFmMttekx"
   },
   "source": [
    "# Detecting Mass Balance Errors"
   ]
  },
  {
   "cell_type": "markdown",
   "metadata": {
    "id": "1Vt8T9Vstekx"
   },
   "source": [
    "Having seen the dramatic impact of undetected mass balance errors, it is natural to ask how they can be detected. There are two general approaches.\n",
    "The first requires knowing the chemical composition of each chemical species.\n",
    "For example, [atomic mass analysis](https://www.nature.com/articles/s41587-020-0446-y) counts the atoms of each type in the reactants and compares each count with the corresponding counts of atoms in the products.\n",
    "This approach has two challenges.\n",
    "First, the modeler must use annotations or other means to expose the chemical structure of species; this is not always available (especially\n",
    "for larger molecules that can be in many different chemical states of phosphorylation, methylation, etc.).\n",
    "A second problem is that it forces the modeler to write unnecessarly detailed reactions.\n",
    "For example, ``ATP2_MODEL`` fails this kind of mass balance checking because there is no accounting for the $\\gamma$ phosphate of ``ATP``.\n",
    "\n",
    "An alternative approach is to check for a condition that is a bit weaker than mass balance.\n",
    "Referred to as **stoichiometric inconsistency**, such inconsistencies are detected if there is no assignment of masses to\n",
    "the chemical species such that the reaction network (without boundary reactions) neither creates nor destroys chemical species.\n",
    "\n",
    "The technical details of this latter approach are described in this [article](https://academic.oup.com/bioinformatics/article/37/3/388/5892254).\n",
    "The paper introduces the GAMES algorithm that uses graphical techniques to analyze mass equivalences implied by the reaction network.\n",
    "For example, reaction ``J0`` implies that the mass of ``ATP`` is equal to the sum of the masses of ``ADP`` and ``P``.\n",
    "\n",
    "GAMES is in the SBMLLint ``pip`` installable package. It can be run at the command line\n",
    "via ``games <SBML file>``. It can also be run programmatically, such as within a Jupyter notebook.\n",
    "Below, we show how to apply the GAMES to the above examples.\n"
   ]
  },
  {
   "cell_type": "code",
   "execution_count": 12,
   "metadata": {
    "colab": {
     "base_uri": "https://localhost:8080/"
    },
    "executionInfo": {
     "elapsed": 4139,
     "status": "ok",
     "timestamp": 1626897877152,
     "user": {
      "displayName": "Joseph Hellerstein",
      "photoUrl": "https://lh3.googleusercontent.com/a-/AOh14Ggr-yAwbfqFCOlFTHoKepUYJ9VjZuCGILW-YdHvUQ=s64",
      "userId": "07301174361489660166"
     },
     "user_tz": 420
    },
    "id": "9LNKCzwRtekx",
    "outputId": "c350a794-10d6-4597-970a-d81efcbdb385"
   },
   "outputs": [
    {
     "name": "stdout",
     "output_type": "stream",
     "text": [
      "Model analyzed...\n",
      "At least one error found.\n",
      "\n",
      "\n",
      "ADP = ATP by reaction(s):\n",
      "1. J1: ADP -> ATP\n",
      "\n",
      "However, ADP < ATP by reaction(s):\n",
      "2. J0: ATP -> ADP + P\n",
      "\n",
      "\n",
      "----------------------------------------------------------------------\n",
      "\n",
      "\n",
      "\n",
      "**********************************************************************\n",
      "\n",
      "\n"
     ]
    }
   ],
   "source": [
    "_ = lint(ATP1_MODEL, mass_balance_check=\"games\")"
   ]
  },
  {
   "cell_type": "markdown",
   "metadata": {
    "id": "apEaVD2Nteky"
   },
   "source": [
    "GAMES detected that the first model is stoichiometric inconsisent. Further, GAMES provides a simple argument for how this detection is made.\n",
    "Statement (1) explains that GAMES inferred that the mass of ``ADP`` is equal to the mass of ``ATP``.\n",
    "However, this is contradicted by a second finding that the mass of ``ADP`` is less than the mass of ``ATP``."
   ]
  },
  {
   "cell_type": "code",
   "execution_count": 13,
   "metadata": {
    "colab": {
     "base_uri": "https://localhost:8080/"
    },
    "executionInfo": {
     "elapsed": 4074,
     "status": "ok",
     "timestamp": 1626897616217,
     "user": {
      "displayName": "Joseph Hellerstein",
      "photoUrl": "https://lh3.googleusercontent.com/a-/AOh14Ggr-yAwbfqFCOlFTHoKepUYJ9VjZuCGILW-YdHvUQ=s64",
      "userId": "07301174361489660166"
     },
     "user_tz": 420
    },
    "id": "mqfZ74dEteky",
    "outputId": "e111b2bf-370a-4098-be9d-8946a348c27b"
   },
   "outputs": [
    {
     "name": "stdout",
     "output_type": "stream",
     "text": [
      "Model analyzed...\n",
      "No error found.\n"
     ]
    }
   ],
   "source": [
    "_ = lint(ATP2_MODEL, mass_balance_check=\"games\")"
   ]
  },
  {
   "cell_type": "code",
   "execution_count": 14,
   "metadata": {
    "colab": {
     "base_uri": "https://localhost:8080/"
    },
    "executionInfo": {
     "elapsed": 3970,
     "status": "ok",
     "timestamp": 1626897620177,
     "user": {
      "displayName": "Joseph Hellerstein",
      "photoUrl": "https://lh3.googleusercontent.com/a-/AOh14Ggr-yAwbfqFCOlFTHoKepUYJ9VjZuCGILW-YdHvUQ=s64",
      "userId": "07301174361489660166"
     },
     "user_tz": 420
    },
    "id": "dCcYBZRiteky",
    "outputId": "801160d4-6f1f-4291-ee92-75672af45cee"
   },
   "outputs": [
    {
     "name": "stdout",
     "output_type": "stream",
     "text": [
      "Model analyzed...\n",
      "No error found.\n"
     ]
    }
   ],
   "source": [
    "_ = lint(ATP3_MODEL, mass_balance_check=\"games\")"
   ]
  },
  {
   "cell_type": "markdown",
   "metadata": {
    "id": "ivWrbd8Lteky"
   },
   "source": [
    "# Other Errors Detectable By Static Analysis"
   ]
  },
  {
   "cell_type": "markdown",
   "metadata": {
    "id": "Bhc03e3-teky"
   },
   "source": [
    "There are other errors in reaction networks that can be detected statically. Systems such as MEMOTE detect the following errors:\n",
    "- *Blocked reactions* are reactions where one or more reactant is never present and so the reaction never ocurs.\n",
    "- *Dead end metabolite* are chemical species that are produced but not consumed.\n",
    "- *Orphan metabolites* are chemical species that are consumed but not produced.\n",
    "- *Charge imbalance* reactions are reactions that do not preserve the charge of the reactants in the products.\n",
    "\n",
    "The foregoing errors apply to the mass transfer part of reactions. Of course, errors are also possible in the kinetics laws.\n",
    "Among these errors are:\n",
    "- *Incorrect reference to chemical species*. To illustrate, consider a reaction in which the modeler intended to use mass action kinetcs, but\n",
    "wrote the reaction as ``A -> B; k * B``.\n",
    "- *Errors in the function used in the kinetics law*. A common example here is to inadevertently use zeroth order kinetics for\n",
    "the degradation of a chemical species.\n",
    "For example, ``B ->; k``. The problem is that this can result in ``B`` becoming negative since its value is reduced\n",
    "regardless of whether ``B`` is present. Clearly, we cannot have a negative concentration."
   ]
  },
  {
   "cell_type": "markdown",
   "metadata": {
    "id": "bABSW3ZdrnkC"
   },
   "source": [
    "# Simple Exercise"
   ]
  },
  {
   "cell_type": "code",
   "execution_count": 15,
   "metadata": {
    "id": "dNtzhNVurpxX"
   },
   "outputs": [],
   "source": [
    "modelStr = \"\"\"\n",
    "\n",
    "v8: c10 + c10 -> c11; 1\n",
    "v13: c10 + c154 -> c160; 1\n",
    "v208: c6 + c16 -> c10; 1\n",
    "v523: c6-> c86; 1\n",
    "v537: c160 -> c86; 1\n",
    "v601: c154 -> c86;1\n",
    "\"\"\"\n",
    "\n",
    "rr = te.loada(modelStr)"
   ]
  },
  {
   "cell_type": "code",
   "execution_count": 16,
   "metadata": {
    "colab": {
     "base_uri": "https://localhost:8080/"
    },
    "executionInfo": {
     "elapsed": 4151,
     "status": "ok",
     "timestamp": 1626898299591,
     "user": {
      "displayName": "Joseph Hellerstein",
      "photoUrl": "https://lh3.googleusercontent.com/a-/AOh14Ggr-yAwbfqFCOlFTHoKepUYJ9VjZuCGILW-YdHvUQ=s64",
      "userId": "07301174361489660166"
     },
     "user_tz": 420
    },
    "id": "U_PdHR7XsXH3",
    "outputId": "f7761e62-7004-496c-a7d7-9e8bd7e600e8"
   },
   "outputs": [
    {
     "name": "stdout",
     "output_type": "stream",
     "text": [
      "Model analyzed...\n",
      "At least one error found.\n",
      "\n",
      "\n",
      "c154 = c86 by reaction(s):\n",
      "1. v601: c154 -> c86\n",
      "\n",
      "c86 = c160 by reaction(s):\n",
      "2. v537: c160 -> c86\n",
      "\n",
      "However, c154 < c160 by reaction(s):\n",
      "3. v13: c10 + c154 -> c160\n",
      "\n",
      "\n",
      "----------------------------------------------------------------------\n",
      "\n",
      "\n",
      "\n",
      "**********************************************************************\n",
      "\n",
      "\n",
      "We detected a mass imbalance from the following reactions:\n",
      "\n",
      "These uni-uni reactions created mass-equivalence.\n",
      "\n",
      "1. v523: c6 -> c86\n",
      "2. v601: c154 -> c86\n",
      "3. v537: c160 -> c86\n",
      "\n",
      "----------------------------------------------------------------------\n",
      "\n",
      "The following reactions create mass-inequality.\n",
      "\n",
      "4. v208: c6 + c16 -> c10\n",
      "5. v13: c10 + c154 -> c160\n",
      "\n",
      "----------------------------------------------------------------------\n",
      "\n",
      "Based on the reactions above, we have mass-equivalent pseudo reactions.\n",
      "\n",
      "(pseudo 4.) v208: {c16} + {c154=c160=c6=c86} -> {c10}\n",
      "(pseudo 5.) v13: {c154=c160=c6=c86} + {c10} -> {c154=c160=c6=c86}\n",
      "\n",
      "----------------------------------------------------------------------\n",
      "\n",
      "However, the above pseudo reactions imply the following inequalities:\n",
      "\n",
      "{c154=c160=c6=c86} < {c10} < {c154=c160=c6=c86}\n",
      "\n",
      "This indicates a mass conflict between reactions.\n",
      "\n",
      "----------------------------------------------------------------------\n",
      "\n",
      "----------------------------------------------------------------------\n",
      "\n",
      "\n"
     ]
    }
   ],
   "source": [
    "# Look for Stoichiometric Inconsistencies in BioModels model\n",
    "_ = lint(modelStr, mass_balance_check=\"games\")"
   ]
  },
  {
   "cell_type": "markdown",
   "metadata": {
    "id": "W5bENHHLD1t4"
   },
   "source": [
    "# Longer Exercise"
   ]
  },
  {
   "cell_type": "markdown",
   "metadata": {},
   "source": [
    "## Checking the Wolf Model"
   ]
  },
  {
   "cell_type": "code",
   "execution_count": 17,
   "metadata": {
    "colab": {
     "base_uri": "https://localhost:8080/"
    },
    "executionInfo": {
     "elapsed": 105,
     "status": "ok",
     "timestamp": 1626898440321,
     "user": {
      "displayName": "Joseph Hellerstein",
      "photoUrl": "https://lh3.googleusercontent.com/a-/AOh14Ggr-yAwbfqFCOlFTHoKepUYJ9VjZuCGILW-YdHvUQ=s64",
      "userId": "07301174361489660166"
     },
     "user_tz": 420
    },
    "id": "lE9PhJ1LtAbk",
    "outputId": "525371ba-c3a3-4f5c-c064-4392ab4febeb"
   },
   "outputs": [
    {
     "name": "stdout",
     "output_type": "stream",
     "text": [
      "\n",
      "// Created by libAntimony v2.12.0.3\n",
      "model *Jana_WolfGlycolysis()\n",
      "\n",
      "  // Compartments and Species:\n",
      "  compartment compartment_;\n",
      "  species Glucose in compartment_, fructose_1_6_bisphosphate in compartment_;\n",
      "  species glyceraldehyde_3_phosphate in compartment_, glycerate_3_phosphate in compartment_;\n",
      "  species pyruvate in compartment_, Acetyladehyde in compartment_, External_acetaldehyde in compartment_;\n",
      "  species ATP in compartment_, ADP in compartment_, NAD in compartment_, NADH in compartment_;\n",
      "  species $External_glucose in compartment_, $ethanol in compartment_, $Glycerol in compartment_;\n",
      "  species $Sink in compartment_;\n",
      "\n",
      "  // Reactions:\n",
      "  J0: $External_glucose => Glucose; J0_inputFlux;\n",
      "  J1: Glucose + 2 ATP => fructose_1_6_bisphosphate + 2 ADP; J1_k1*Glucose*ATP*(1/(1 + (ATP/J1_Ki)^J1_n));\n",
      "  J2: fructose_1_6_bisphosphate => glyceraldehyde_3_phosphate + glyceraldehyde_3_phosphate; J2_k*fructose_1_6_bisphosphate;\n",
      "  J3: glyceraldehyde_3_phosphate + NADH => NAD + $Glycerol; J3_k*glyceraldehyde_3_phosphate*NADH;\n",
      "  J4: glyceraldehyde_3_phosphate + ADP + NAD => ATP + glycerate_3_phosphate + NADH; (J4_kg*J4_kp*glyceraldehyde_3_phosphate*NAD*ADP - J4_ka*J4_kk*glycerate_3_phosphate*ATP*NADH)/(J4_ka*NADH + J4_kp*ADP);\n",
      "  J5: glycerate_3_phosphate + ADP => ATP + pyruvate; J5_k*glycerate_3_phosphate*ADP;\n",
      "  J6: pyruvate => Acetyladehyde; J6_k*pyruvate;\n",
      "  J7: Acetyladehyde + NADH => NAD + $ethanol; J7_k*Acetyladehyde*NADH;\n",
      "  J8: Acetyladehyde => External_acetaldehyde; J8_k1*Acetyladehyde - J8_k2*External_acetaldehyde;\n",
      "  J9: ATP => ADP; J9_k*ATP;\n",
      "  J10: External_acetaldehyde => $Sink; J10_k*External_acetaldehyde;\n",
      "\n",
      "  // Species initializations:\n",
      "  Glucose = 0;\n",
      "  fructose_1_6_bisphosphate = 0;\n",
      "  glyceraldehyde_3_phosphate = 0;\n",
      "  glycerate_3_phosphate = 0;\n",
      "  pyruvate = 0;\n",
      "  Acetyladehyde = 0;\n",
      "  External_acetaldehyde = 0;\n",
      "  ATP = 3;\n",
      "  ADP = 1;\n",
      "  NAD = 0.5;\n",
      "  NADH = 0.5;\n",
      "  External_glucose = 0;\n",
      "  ethanol = 0;\n",
      "  Glycerol = 0;\n",
      "  Sink = 0;\n",
      "\n",
      "  // Compartment initializations:\n",
      "  compartment_ = 1;\n",
      "\n",
      "  // Variable initializations:\n",
      "  J0_inputFlux = 50;\n",
      "  J1_k1 = 550;\n",
      "  J1_Ki = 1;\n",
      "  J1_n = 4;\n",
      "  J2_k = 9.8;\n",
      "  J3_k = 85.7;\n",
      "  J4_kg = 323.8;\n",
      "  J4_kp = 76411.1;\n",
      "  J4_ka = 57823.1;\n",
      "  J4_kk = 23.7;\n",
      "  J5_k = 80;\n",
      "  J6_k = 9.7;\n",
      "  J7_k = 2000;\n",
      "  J8_k1 = 375;\n",
      "  J8_k2 = 375;\n",
      "  J9_k = 28;\n",
      "  J10_k = 80;\n",
      "  \n",
      "  // Other declarations:\n",
      "  const compartment_, J0_inputFlux, J1_k1, J1_Ki, J1_n, J2_k, J3_k;\n",
      "  const J4_kg, J4_kp, J4_ka, J4_kk, J5_k, J6_k, J7_k, J8_k1, J8_k2;\n",
      "  const J9_k, J10_k;\n",
      "end\n",
      "\n",
      "\n"
     ]
    }
   ],
   "source": [
    "print(WOLF_MODEL)"
   ]
  },
  {
   "cell_type": "markdown",
   "metadata": {
    "id": "L5t08eZ9QB-H"
   },
   "source": [
    "1. Use SBMLLint to find mass check for mass balance errors in the Wolf model in ``WOLF_MODEL``.\n",
    "\n",
    "1. Reaction ``J9`` implies that ``ATP`` and ``ADP`` have the same mass, which is clearly false since they differ\n",
    "by an inorganic phosphate.\n",
    "Revise the Wolf model to explicitly include\n",
    "inorganic phosphate and check your revised model\n",
    "with SBMLLint.\n",
    "Do you get the same dynamics with the revised model\n",
    "as with the original Wolf model?"
   ]
  },
  {
   "cell_type": "markdown",
   "metadata": {},
   "source": [
    "## Limitations of Stoichiometric Inconsistency"
   ]
  },
  {
   "cell_type": "markdown",
   "metadata": {},
   "source": [
    "We will modify the Wolf Model to explore mass balance errors that SI can catch.\n",
    "1. Add a new reaction: $P \\rightarrow 2 P$. Does ``lint`` report an error?\n",
    "1. Modify reaction ``J9`` to include an explicity phosphate, but do not do this elsewhere in the model. Does ``lint`` detect an inconsistency?\n",
    "1. Delete Glucose as a reactant in J1 and lint the model. Is an error detected?\n",
    "1. What insights do you have about when SI does and does not detect a mass balance error?"
   ]
  },
  {
   "cell_type": "code",
   "execution_count": 18,
   "metadata": {
    "id": "UmRMSs4WtL2h"
   },
   "outputs": [],
   "source": [
    "newWolfModel = \"\"\"\n",
    "  model *Jana_WolfGlycolysis()\n",
    "\n",
    "  // Compartments and Species:\n",
    "  compartment compartment_;\n",
    "  species Glucose in compartment_, fructose_1_6_bisphosphate in compartment_;\n",
    "  species glyceraldehyde_3_phosphate in compartment_, glycerate_3_phosphate in compartment_;\n",
    "  species pyruvate in compartment_, Acetyladehyde in compartment_, External_acetaldehyde in compartment_;\n",
    "  species ATP in compartment_, ADP in compartment_, NAD in compartment_, NADH in compartment_;\n",
    "  species $External_glucose in compartment_, $ethanol in compartment_, $Glycerol in compartment_;\n",
    "  species $Sink in compartment_;\n",
    "\n",
    "  // Reactions:\n",
    "  J0: $External_glucose => Glucose; J0_inputFlux;\n",
    "  J1: Glucose + 2 ATP => fructose_1_6_bisphosphate + 2 ADP; J1_k1*Glucose*ATP*(1/(1 + (ATP/J1_Ki)^J1_n));\n",
    "  J2: fructose_1_6_bisphosphate => glyceraldehyde_3_phosphate + glyceraldehyde_3_phosphate; J2_k*fructose_1_6_bisphosphate;\n",
    "  J3: glyceraldehyde_3_phosphate + NADH => NAD + $Glycerol; J3_k*glyceraldehyde_3_phosphate*NADH;\n",
    "  J4: glyceraldehyde_3_phosphate + ADP + NAD => ATP + glycerate_3_phosphate + NADH; (J4_kg*J4_kp*glyceraldehyde_3_phosphate*NAD*ADP - J4_ka*J4_kk*glycerate_3_phosphate*ATP*NADH)/(J4_ka*NADH + J4_kp*ADP);\n",
    "  J5: glycerate_3_phosphate + ADP => ATP + pyruvate; J5_k*glycerate_3_phosphate*ADP;\n",
    "  J6: pyruvate => Acetyladehyde; J6_k*pyruvate;\n",
    "  J7: Acetyladehyde + NADH => NAD + $ethanol; J7_k*Acetyladehyde*NADH;\n",
    "  J8: Acetyladehyde => External_acetaldehyde; J8_k1*Acetyladehyde - J8_k2*External_acetaldehyde;\n",
    "  J9: ATP => ADP; J9_k*ATP;\n",
    "  J10: External_acetaldehyde => $Sink; J10_k*External_acetaldehyde;\n",
    "\n",
    "  // Species initializations:\n",
    "  Glucose = 0;\n",
    "  fructose_1_6_bisphosphate = 0;\n",
    "  glyceraldehyde_3_phosphate = 0;\n",
    "  glycerate_3_phosphate = 0;\n",
    "  pyruvate = 0;\n",
    "  Acetyladehyde = 0;\n",
    "  External_acetaldehyde = 0;\n",
    "  ATP = 3;\n",
    "  ADP = 1;\n",
    "  NAD = 0.5;\n",
    "  NADH = 0.5;\n",
    "  External_glucose = 0;\n",
    "  ethanol = 0;\n",
    "  Glycerol = 0;\n",
    "  Sink = 0;\n",
    "\n",
    "  // Compartment initializations:\n",
    "  compartment_ = 1;\n",
    "\n",
    "  // Variable initializations:\n",
    "  J0_inputFlux = 50;\n",
    "  J1_k1 = 550;\n",
    "  J1_Ki = 1;\n",
    "  J1_n = 4;\n",
    "  J2_k = 9.8;\n",
    "  J3_k = 85.7;\n",
    "  J4_kg = 323.8;\n",
    "  J4_kp = 76411.1;\n",
    "  J4_ka = 57823.1;\n",
    "  J4_kk = 23.7;\n",
    "  J5_k = 80;\n",
    "  J6_k = 9.7;\n",
    "  J7_k = 2000;\n",
    "  J8_k1 = 375;\n",
    "  J8_k2 = 375;\n",
    "  J9_k = 28;\n",
    "  J10_k = 80;\n",
    "  \n",
    "  // Other declarations:\n",
    "  const compartment_, J0_inputFlux, J1_k1, J1_Ki, J1_n, J2_k, J3_k;\n",
    "  const J4_kg, J4_kp, J4_ka, J4_kk, J5_k, J6_k, J7_k, J8_k1, J8_k2;\n",
    "  const J9_k, J10_k;\n",
    "end\n",
    "\"\"\"\n",
    "model = te.loada(newWolfModel)"
   ]
  }
 ],
 "metadata": {
  "colab": {
   "collapsed_sections": [],
   "name": "Verification-and-Validation-Static-Testing.ipynb",
   "provenance": []
  },
  "kernelspec": {
   "display_name": "Python 3 (ipykernel)",
   "language": "python",
   "name": "python3"
  },
  "language_info": {
   "codemirror_mode": {
    "name": "ipython",
    "version": 3
   },
   "file_extension": ".py",
   "mimetype": "text/x-python",
   "name": "python",
   "nbconvert_exporter": "python",
   "pygments_lexer": "ipython3",
   "version": "3.9.6"
  }
 },
 "nbformat": 4,
 "nbformat_minor": 4
}
